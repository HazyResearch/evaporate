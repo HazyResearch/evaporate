{
 "cells": [
  {
   "cell_type": "code",
   "execution_count": 3,
   "metadata": {},
   "outputs": [],
   "source": [
    "import time\n",
    "from tqdm import tqdm\n",
    "import sys\n",
    "sys.path.append(f\"./evaporate/\")\n",
    "from run_profiler import prerun_profiler, identify_attributes, get_attribute_function\n",
    "from configs import  set_profiler_args"
   ]
  },
  {
   "cell_type": "markdown",
   "metadata": {},
   "source": [
    "# Set Up"
   ]
  },
  {
   "cell_type": "code",
   "execution_count": null,
   "metadata": {},
   "outputs": [],
   "source": [
    "profiler_args= set_profiler_args({\n",
    "    \"data_lake\": \"wiki_nba\", \n",
    "    \"num_attr_to_cascade\": 50, \n",
    "    \"num_top_k_scripts\": 10, \n",
    "    \"train_size\": 10, \n",
    "    \"combiner_mode\": \"mv\", \n",
    "    \"do_end_to_end\": False,\n",
    "    \"use_dynamic_backoff\": True, \n",
    "    \"KEYS\": [\"\"], \n",
    "    \"MODELS\":[\"mistralai/Mistral-7B-instruct-v0.1\", \"gpt-4\"],\n",
    "    \"EXTRACTION_MODELS\": [\"mistralai/Mistral-7B-instruct-v0.1\"],\n",
    "    \"GOLD_KEY\": \"gpt-4\",\n",
    "    \"MODEL2URL\" : {\"mistralai/Mistral-7B-instruct-v0.1\": \"http://127.0.0.1:5000\"},\n",
    "    \"data_dir\": \"/data/evaporate/data/wiki_nba_players/home/simran/fm-data-analysis/data\", \n",
    "    \"base_data_dir\": \"/data/evaporate/data/wiki_nba_players\", \n",
    "    \"gold_extractions_file\": \"/data/evaporate/data/wiki_nba_players/table.json\"}\n",
    ")\n",
    "print(profiler_args)"
   ]
  },
  {
   "cell_type": "code",
   "execution_count": null,
   "metadata": {},
   "outputs": [],
   "source": [
    "data_dict = prerun_profiler(profiler_args)\n",
    "print(data_dict.keys())"
   ]
  },
  {
   "cell_type": "code",
   "execution_count": null,
   "metadata": {},
   "outputs": [],
   "source": [
    "print(profiler_args.overwrite_cache)"
   ]
  },
  {
   "cell_type": "markdown",
   "metadata": {},
   "source": [
    "# Get Schema Attribute"
   ]
  },
  {
   "cell_type": "code",
   "execution_count": null,
   "metadata": {},
   "outputs": [],
   "source": [
    "if  profiler_args.do_end_to_end:\n",
    "    attributes, total_time, num_toks, evaluation_result = identify_attributes(profiler_args, data_dict, evaluation=True)\n",
    "    print(\"total_time: \", total_time, \"num_toks: \", num_toks, \"evaluation_result: \", evaluation_result)\n",
    "else:\n",
    "    attributes = data_dict[\"gold_attributes\"]"
   ]
  },
  {
   "cell_type": "code",
   "execution_count": null,
   "metadata": {},
   "outputs": [],
   "source": [
    "attributes"
   ]
  },
  {
   "cell_type": "markdown",
   "metadata": {},
   "source": [
    "Model Information\n",
    "Data Dir\n",
    "CONSTANTS = {\n",
    "        \"fda_510ks\": {\n",
    "            \"data_dir\": os.path.join(BASE_DATA_DIR, \"fda-ai-pmas/510k/\"),\n",
    "            \"database_name\": \"fda_510ks\",\n",
    "            \"cache_dir\": \".cache/fda_510ks/\",\n",
    "            \"generative_index_path\": os.path.join(BASE_DATA_DIR, \"generative_indexes/fda_510ks/\"),\n",
    "            \"gold_extractions_file\": os.path.join(BASE_DATA_DIR, \"ground_truth/fda_510ks_gold_extractions.json\"),\n",
    "            \"topic\": \"fda 510k device premarket notifications\",\n",
    "        },\n",
    "    }"
   ]
  },
  {
   "cell_type": "markdown",
   "metadata": {},
   "source": [
    "# Get Attribute function"
   ]
  },
  {
   "cell_type": "code",
   "execution_count": null,
   "metadata": {},
   "outputs": [],
   "source": [
    "functions = {}\n",
    "selected_keys = {}\n",
    "for i, attribute in enumerate(attributes):\n",
    "    print(f\"\\n\\nExtracting {attribute} ({i+1} / {len(attributes)})\")\n",
    "    t0 = time.time()\n",
    "    functions[attribute], selected_keys[attribute], total_time, num_toks= get_attribute_function(\n",
    "        profiler_args, data_dict, attribute\n",
    "    )\n",
    "    print(functions[attribute])"
   ]
  },
  {
   "cell_type": "markdown",
   "metadata": {},
   "source": [
    "# Evaluation"
   ]
  },
  {
   "cell_type": "code",
   "execution_count": null,
   "metadata": {},
   "outputs": [],
   "source": [
    "from evaporate.evaluate_synthetic import main as evaluate_synthetic_main"
   ]
  },
  {
   "cell_type": "code",
   "execution_count": null,
   "metadata": {},
   "outputs": [],
   "source": [
    "\n",
    "results = evaluate_synthetic_main(\n",
    "    profiler_args.run_string, \n",
    "    profiler_args, \n",
    "    profiler_args, \n",
    "    profiler_args.data_lake,\n",
    "    gold_attributes=data_dict[\"gold_attributes\"], \n",
    "    stage='extract'\n",
    ")\n",
    "print(results)"
   ]
  }
 ],
 "metadata": {
  "kernelspec": {
   "display_name": "Python 3 (ipykernel)",
   "language": "python",
   "name": "python3"
  },
  "language_info": {
   "codemirror_mode": {
    "name": "ipython",
    "version": 3
   },
   "file_extension": ".py",
   "mimetype": "text/x-python",
   "name": "python",
   "nbconvert_exporter": "python",
   "pygments_lexer": "ipython3",
   "version": "3.8.18"
  }
 },
 "nbformat": 4,
 "nbformat_minor": 4
}
