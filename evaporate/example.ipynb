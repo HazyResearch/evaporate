{
 "cells": [
  {
   "cell_type": "code",
   "execution_count": 8,
   "metadata": {},
   "outputs": [],
   "source": [
    "import time\n",
    "from tqdm import tqdm\n",
    "from run_profiler import prerun_profiler, identify_attributes, get_attribute_function\n",
    "from configs import  set_profiler_args"
   ]
  },
  {
   "cell_type": "markdown",
   "metadata": {},
   "source": [
    "# Set Up"
   ]
  },
  {
   "cell_type": "code",
   "execution_count": 9,
   "metadata": {},
   "outputs": [
    {
     "name": "stdout",
     "output_type": "stream",
     "text": [
      "Namespace(EXTRACTION_MODELS=['gpt-3.5-turbo-0613'], GOLD_KEY='gpt-3.5-turbo-0613', KEYS=[''], MODEL2URL={}, MODELS=['gpt-3.5-turbo-0613'], base_data_dir='/Users/xiqiao/Documents/evaporate-clean/data/evaporate/data/fda_510ks', body_only=False, cache_dir='/Users/xiqiao/Documents/evaporate-clean/data/evaporate/data/fda_510ks/cache/fda_510ks', chunk_size=3000, combiner_mode='mv', data_dir='/Users/xiqiao/Documents/evaporate-clean/data/evaporate/data/fda_510ks/data/evaporate/fda-ai-pmas/510k', data_lake='fda_510ks', do_end_to_end=True, eval_size=15, extraction_fraction_thresh=0.9, extractions_file='/Users/xiqiao/Documents/evaporate-clean/data/evaporate/data/fda_510ks/table.json', file_groups=['/Users/xiqiao/Documents/evaporate-clean/data/evaporate/data/fda_510ks/data/evaporate/fda-ai-pmas/510k/K181915.txt', '/Users/xiqiao/Documents/evaporate-clean/data/evaporate/data/fda_510ks/data/evaporate/fda-ai-pmas/510k/K143467.txt', '/Users/xiqiao/Documents/evaporate-clean/data/evaporate/data/fda_510ks/data/evaporate/fda-ai-pmas/510k/K143329.txt', '/Users/xiqiao/Documents/evaporate-clean/data/evaporate/data/fda_510ks/data/evaporate/fda-ai-pmas/510k/K170293.txt', '/Users/xiqiao/Documents/evaporate-clean/data/evaporate/data/fda_510ks/data/evaporate/fda-ai-pmas/510k/K180607.txt', '/Users/xiqiao/Documents/evaporate-clean/data/evaporate/data/fda_510ks/data/evaporate/fda-ai-pmas/510k/K181525.txt', '/Users/xiqiao/Documents/evaporate-clean/data/evaporate/data/fda_510ks/data/evaporate/fda-ai-pmas/510k/K151923.txt', '/Users/xiqiao/Documents/evaporate-clean/data/evaporate/data/fda_510ks/data/evaporate/fda-ai-pmas/510k/K180559.txt', '/Users/xiqiao/Documents/evaporate-clean/data/evaporate/data/fda_510ks/data/evaporate/fda-ai-pmas/510k/K152386.txt', '/Users/xiqiao/Documents/evaporate-clean/data/evaporate/data/fda_510ks/data/evaporate/fda-ai-pmas/510k/K170127.txt', '/Users/xiqiao/Documents/evaporate-clean/data/evaporate/data/fda_510ks/data/evaporate/fda-ai-pmas/510k/K181889.txt', '/Users/xiqiao/Documents/evaporate-clean/data/evaporate/data/fda_510ks/data/evaporate/fda-ai-pmas/510k/K173202.txt', '/Users/xiqiao/Documents/evaporate-clean/data/evaporate/data/fda_510ks/data/evaporate/fda-ai-pmas/510k/K162333.txt', '/Users/xiqiao/Documents/evaporate-clean/data/evaporate/data/fda_510ks/data/evaporate/fda-ai-pmas/510k/K181043.txt', '/Users/xiqiao/Documents/evaporate-clean/data/evaporate/data/fda_510ks/data/evaporate/fda-ai-pmas/510k/K150815.txt', '/Users/xiqiao/Documents/evaporate-clean/data/evaporate/data/fda_510ks/data/evaporate/fda-ai-pmas/510k/K183324.txt', '/Users/xiqiao/Documents/evaporate-clean/data/evaporate/data/fda_510ks/data/evaporate/fda-ai-pmas/510k/K150168.txt', '/Users/xiqiao/Documents/evaporate-clean/data/evaporate/data/fda_510ks/data/evaporate/fda-ai-pmas/510k/K160082.txt', '/Users/xiqiao/Documents/evaporate-clean/data/evaporate/data/fda_510ks/data/evaporate/fda-ai-pmas/510k/K172109.txt', '/Users/xiqiao/Documents/evaporate-clean/data/evaporate/data/fda_510ks/data/evaporate/fda-ai-pmas/510k/K143075.txt', '/Users/xiqiao/Documents/evaporate-clean/data/evaporate/data/fda_510ks/data/evaporate/fda-ai-pmas/510k/K141689.txt', '/Users/xiqiao/Documents/evaporate-clean/data/evaporate/data/fda_510ks/data/evaporate/fda-ai-pmas/510k/K161217.txt', '/Users/xiqiao/Documents/evaporate-clean/data/evaporate/data/fda_510ks/data/evaporate/fda-ai-pmas/510k/K181324.txt', '/Users/xiqiao/Documents/evaporate-clean/data/evaporate/data/fda_510ks/data/evaporate/fda-ai-pmas/510k/K141114.txt', '/Users/xiqiao/Documents/evaporate-clean/data/evaporate/data/fda_510ks/data/evaporate/fda-ai-pmas/510k/K172333.txt', '/Users/xiqiao/Documents/evaporate-clean/data/evaporate/data/fda_510ks/data/evaporate/fda-ai-pmas/510k/K150144.txt', '/Users/xiqiao/Documents/evaporate-clean/data/evaporate/data/fda_510ks/data/evaporate/fda-ai-pmas/510k/K161831.txt', '/Users/xiqiao/Documents/evaporate-clean/data/evaporate/data/fda_510ks/data/evaporate/fda-ai-pmas/510k/K142965.txt', '/Users/xiqiao/Documents/evaporate-clean/data/evaporate/data/fda_510ks/data/evaporate/fda-ai-pmas/510k/K172287.txt', '/Users/xiqiao/Documents/evaporate-clean/data/evaporate/data/fda_510ks/data/evaporate/fda-ai-pmas/510k/K182389.txt', '/Users/xiqiao/Documents/evaporate-clean/data/evaporate/data/fda_510ks/data/evaporate/fda-ai-pmas/510k/K143502.txt', '/Users/xiqiao/Documents/evaporate-clean/data/evaporate/data/fda_510ks/data/evaporate/fda-ai-pmas/510k/K172913.txt', '/Users/xiqiao/Documents/evaporate-clean/data/evaporate/data/fda_510ks/data/evaporate/fda-ai-pmas/510k/K181092.txt', '/Users/xiqiao/Documents/evaporate-clean/data/evaporate/data/fda_510ks/data/evaporate/fda-ai-pmas/510k/K151265.txt', '/Users/xiqiao/Documents/evaporate-clean/data/evaporate/data/fda_510ks/data/evaporate/fda-ai-pmas/510k/K162526.txt', '/Users/xiqiao/Documents/evaporate-clean/data/evaporate/data/fda_510ks/data/evaporate/fda-ai-pmas/510k/K170491.txt', '/Users/xiqiao/Documents/evaporate-clean/data/evaporate/data/fda_510ks/data/evaporate/fda-ai-pmas/510k/K160682.txt', '/Users/xiqiao/Documents/evaporate-clean/data/evaporate/data/fda_510ks/data/evaporate/fda-ai-pmas/510k/K171770.txt', '/Users/xiqiao/Documents/evaporate-clean/data/evaporate/data/fda_510ks/data/evaporate/fda-ai-pmas/510k/K162042.txt', '/Users/xiqiao/Documents/evaporate-clean/data/evaporate/data/fda_510ks/data/evaporate/fda-ai-pmas/510k/K180936.txt', '/Users/xiqiao/Documents/evaporate-clean/data/evaporate/data/fda_510ks/data/evaporate/fda-ai-pmas/510k/K161510.txt', '/Users/xiqiao/Documents/evaporate-clean/data/evaporate/data/fda_510ks/data/evaporate/fda-ai-pmas/510k/K150281.txt', '/Users/xiqiao/Documents/evaporate-clean/data/evaporate/data/fda_510ks/data/evaporate/fda-ai-pmas/510k/K151767.txt', '/Users/xiqiao/Documents/evaporate-clean/data/evaporate/data/fda_510ks/data/evaporate/fda-ai-pmas/510k/K173505.txt', '/Users/xiqiao/Documents/evaporate-clean/data/evaporate/data/fda_510ks/data/evaporate/fda-ai-pmas/510k/K150041.txt', '/Users/xiqiao/Documents/evaporate-clean/data/evaporate/data/fda_510ks/data/evaporate/fda-ai-pmas/510k/K152495.txt', '/Users/xiqiao/Documents/evaporate-clean/data/evaporate/data/fda_510ks/data/evaporate/fda-ai-pmas/510k/K172745.txt', '/Users/xiqiao/Documents/evaporate-clean/data/evaporate/data/fda_510ks/data/evaporate/fda-ai-pmas/510k/K163517.txt', '/Users/xiqiao/Documents/evaporate-clean/data/evaporate/data/fda_510ks/data/evaporate/fda-ai-pmas/510k/K160585.txt', '/Users/xiqiao/Documents/evaporate-clean/data/evaporate/data/fda_510ks/data/evaporate/fda-ai-pmas/510k/K150526.txt', '/Users/xiqiao/Documents/evaporate-clean/data/evaporate/data/fda_510ks/data/evaporate/fda-ai-pmas/510k/K161258.txt', '/Users/xiqiao/Documents/evaporate-clean/data/evaporate/data/fda_510ks/data/evaporate/fda-ai-pmas/510k/K161714.txt', '/Users/xiqiao/Documents/evaporate-clean/data/evaporate/data/fda_510ks/data/evaporate/fda-ai-pmas/510k/K173927.txt', '/Users/xiqiao/Documents/evaporate-clean/data/evaporate/data/fda_510ks/data/evaporate/fda-ai-pmas/510k/K180886.txt', '/Users/xiqiao/Documents/evaporate-clean/data/evaporate/data/fda_510ks/data/evaporate/fda-ai-pmas/510k/K163260.txt', '/Users/xiqiao/Documents/evaporate-clean/data/evaporate/data/fda_510ks/data/evaporate/fda-ai-pmas/510k/K193024.txt', '/Users/xiqiao/Documents/evaporate-clean/data/evaporate/data/fda_510ks/data/evaporate/fda-ai-pmas/510k/K173887.txt', '/Users/xiqiao/Documents/evaporate-clean/data/evaporate/data/fda_510ks/data/evaporate/fda-ai-pmas/510k/K180264.txt', '/Users/xiqiao/Documents/evaporate-clean/data/evaporate/data/fda_510ks/data/evaporate/fda-ai-pmas/510k/K193393.txt', '/Users/xiqiao/Documents/evaporate-clean/data/evaporate/data/fda_510ks/data/evaporate/fda-ai-pmas/510k/K182513.txt', '/Users/xiqiao/Documents/evaporate-clean/data/evaporate/data/fda_510ks/data/evaporate/fda-ai-pmas/510k/K182922.txt', '/Users/xiqiao/Documents/evaporate-clean/data/evaporate/data/fda_510ks/data/evaporate/fda-ai-pmas/510k/K170974.txt', '/Users/xiqiao/Documents/evaporate-clean/data/evaporate/data/fda_510ks/data/evaporate/fda-ai-pmas/510k/K182472.txt', '/Users/xiqiao/Documents/evaporate-clean/data/evaporate/data/fda_510ks/data/evaporate/fda-ai-pmas/510k/K143548.txt', '/Users/xiqiao/Documents/evaporate-clean/data/evaporate/data/fda_510ks/data/evaporate/fda-ai-pmas/510k/K181379.txt', '/Users/xiqiao/Documents/evaporate-clean/data/evaporate/data/fda_510ks/data/evaporate/fda-ai-pmas/510k/K171641.txt', '/Users/xiqiao/Documents/evaporate-clean/data/evaporate/data/fda_510ks/data/evaporate/fda-ai-pmas/510k/K190332.txt', '/Users/xiqiao/Documents/evaporate-clean/data/evaporate/data/fda_510ks/data/evaporate/fda-ai-pmas/510k/K183415.txt', '/Users/xiqiao/Documents/evaporate-clean/data/evaporate/data/fda_510ks/data/evaporate/fda-ai-pmas/510k/K161220.txt', '/Users/xiqiao/Documents/evaporate-clean/data/evaporate/data/fda_510ks/data/evaporate/fda-ai-pmas/510k/K173817.txt', '/Users/xiqiao/Documents/evaporate-clean/data/evaporate/data/fda_510ks/data/evaporate/fda-ai-pmas/510k/K151917.txt', '/Users/xiqiao/Documents/evaporate-clean/data/evaporate/data/fda_510ks/data/evaporate/fda-ai-pmas/510k/K181288.txt', '/Users/xiqiao/Documents/evaporate-clean/data/evaporate/data/fda_510ks/data/evaporate/fda-ai-pmas/510k/K161619.txt', '/Users/xiqiao/Documents/evaporate-clean/data/evaporate/data/fda_510ks/data/evaporate/fda-ai-pmas/510k/K153683.txt', '/Users/xiqiao/Documents/evaporate-clean/data/evaporate/data/fda_510ks/data/evaporate/fda-ai-pmas/510k/K182353.txt', '/Users/xiqiao/Documents/evaporate-clean/data/evaporate/data/fda_510ks/data/evaporate/fda-ai-pmas/510k/K192815.txt', '/Users/xiqiao/Documents/evaporate-clean/data/evaporate/data/fda_510ks/data/evaporate/fda-ai-pmas/510k/K153278.txt', '/Users/xiqiao/Documents/evaporate-clean/data/evaporate/data/fda_510ks/data/evaporate/fda-ai-pmas/510k/K152614.txt', '/Users/xiqiao/Documents/evaporate-clean/data/evaporate/data/fda_510ks/data/evaporate/fda-ai-pmas/510k/K171742.txt', '/Users/xiqiao/Documents/evaporate-clean/data/evaporate/data/fda_510ks/data/evaporate/fda-ai-pmas/510k/K190219.txt', '/Users/xiqiao/Documents/evaporate-clean/data/evaporate/data/fda_510ks/data/evaporate/fda-ai-pmas/510k/K171971.txt', '/Users/xiqiao/Documents/evaporate-clean/data/evaporate/data/fda_510ks/data/evaporate/fda-ai-pmas/510k/K183462.txt', '/Users/xiqiao/Documents/evaporate-clean/data/evaporate/data/fda_510ks/data/evaporate/fda-ai-pmas/510k/K162688.txt', '/Users/xiqiao/Documents/evaporate-clean/data/evaporate/data/fda_510ks/data/evaporate/fda-ai-pmas/510k/K160538.txt', '/Users/xiqiao/Documents/evaporate-clean/data/evaporate/data/fda_510ks/data/evaporate/fda-ai-pmas/510k/K180209.txt', '/Users/xiqiao/Documents/evaporate-clean/data/evaporate/data/fda_510ks/data/evaporate/fda-ai-pmas/510k/K173829.txt', '/Users/xiqiao/Documents/evaporate-clean/data/evaporate/data/fda_510ks/data/evaporate/fda-ai-pmas/510k/K171974.txt', '/Users/xiqiao/Documents/evaporate-clean/data/evaporate/data/fda_510ks/data/evaporate/fda-ai-pmas/510k/K143736.txt', '/Users/xiqiao/Documents/evaporate-clean/data/evaporate/data/fda_510ks/data/evaporate/fda-ai-pmas/510k/K162840.txt', '/Users/xiqiao/Documents/evaporate-clean/data/evaporate/data/fda_510ks/data/evaporate/fda-ai-pmas/510k/K150617.txt', '/Users/xiqiao/Documents/evaporate-clean/data/evaporate/data/fda_510ks/data/evaporate/fda-ai-pmas/510k/K181700.txt', '/Users/xiqiao/Documents/evaporate-clean/data/evaporate/data/fda_510ks/data/evaporate/fda-ai-pmas/510k/K163626.txt', '/Users/xiqiao/Documents/evaporate-clean/data/evaporate/data/fda_510ks/data/evaporate/fda-ai-pmas/510k/K170464.txt', '/Users/xiqiao/Documents/evaporate-clean/data/evaporate/data/fda_510ks/data/evaporate/fda-ai-pmas/510k/K190223.txt', '/Users/xiqiao/Documents/evaporate-clean/data/evaporate/data/fda_510ks/data/evaporate/fda-ai-pmas/510k/K150588.txt', '/Users/xiqiao/Documents/evaporate-clean/data/evaporate/data/fda_510ks/data/evaporate/fda-ai-pmas/510k/K182357.txt', '/Users/xiqiao/Documents/evaporate-clean/data/evaporate/data/fda_510ks/data/evaporate/fda-ai-pmas/510k/K162895.txt', '/Users/xiqiao/Documents/evaporate-clean/data/evaporate/data/fda_510ks/data/evaporate/fda-ai-pmas/510k/K151046.txt', '/Users/xiqiao/Documents/evaporate-clean/data/evaporate/data/fda_510ks/data/evaporate/fda-ai-pmas/510k/K153137.txt', '/Users/xiqiao/Documents/evaporate-clean/data/evaporate/data/fda_510ks/data/evaporate/fda-ai-pmas/510k/K162705.txt'], fn_generation_prompt_num=-1, full_file_groups=['/Users/xiqiao/Documents/evaporate-clean/data/evaporate/data/fda_510ks/data/evaporate/fda-ai-pmas/510k/K181915.txt', '/Users/xiqiao/Documents/evaporate-clean/data/evaporate/data/fda_510ks/data/evaporate/fda-ai-pmas/510k/K143467.txt', '/Users/xiqiao/Documents/evaporate-clean/data/evaporate/data/fda_510ks/data/evaporate/fda-ai-pmas/510k/K143329.txt', '/Users/xiqiao/Documents/evaporate-clean/data/evaporate/data/fda_510ks/data/evaporate/fda-ai-pmas/510k/K170293.txt', '/Users/xiqiao/Documents/evaporate-clean/data/evaporate/data/fda_510ks/data/evaporate/fda-ai-pmas/510k/K180607.txt', '/Users/xiqiao/Documents/evaporate-clean/data/evaporate/data/fda_510ks/data/evaporate/fda-ai-pmas/510k/K181525.txt', '/Users/xiqiao/Documents/evaporate-clean/data/evaporate/data/fda_510ks/data/evaporate/fda-ai-pmas/510k/K151923.txt', '/Users/xiqiao/Documents/evaporate-clean/data/evaporate/data/fda_510ks/data/evaporate/fda-ai-pmas/510k/K180559.txt', '/Users/xiqiao/Documents/evaporate-clean/data/evaporate/data/fda_510ks/data/evaporate/fda-ai-pmas/510k/K152386.txt', '/Users/xiqiao/Documents/evaporate-clean/data/evaporate/data/fda_510ks/data/evaporate/fda-ai-pmas/510k/K170127.txt', '/Users/xiqiao/Documents/evaporate-clean/data/evaporate/data/fda_510ks/data/evaporate/fda-ai-pmas/510k/K181889.txt', '/Users/xiqiao/Documents/evaporate-clean/data/evaporate/data/fda_510ks/data/evaporate/fda-ai-pmas/510k/K173202.txt', '/Users/xiqiao/Documents/evaporate-clean/data/evaporate/data/fda_510ks/data/evaporate/fda-ai-pmas/510k/K162333.txt', '/Users/xiqiao/Documents/evaporate-clean/data/evaporate/data/fda_510ks/data/evaporate/fda-ai-pmas/510k/K181043.txt', '/Users/xiqiao/Documents/evaporate-clean/data/evaporate/data/fda_510ks/data/evaporate/fda-ai-pmas/510k/K150815.txt', '/Users/xiqiao/Documents/evaporate-clean/data/evaporate/data/fda_510ks/data/evaporate/fda-ai-pmas/510k/K183324.txt', '/Users/xiqiao/Documents/evaporate-clean/data/evaporate/data/fda_510ks/data/evaporate/fda-ai-pmas/510k/K150168.txt', '/Users/xiqiao/Documents/evaporate-clean/data/evaporate/data/fda_510ks/data/evaporate/fda-ai-pmas/510k/K160082.txt', '/Users/xiqiao/Documents/evaporate-clean/data/evaporate/data/fda_510ks/data/evaporate/fda-ai-pmas/510k/K172109.txt', '/Users/xiqiao/Documents/evaporate-clean/data/evaporate/data/fda_510ks/data/evaporate/fda-ai-pmas/510k/K143075.txt', '/Users/xiqiao/Documents/evaporate-clean/data/evaporate/data/fda_510ks/data/evaporate/fda-ai-pmas/510k/K141689.txt', '/Users/xiqiao/Documents/evaporate-clean/data/evaporate/data/fda_510ks/data/evaporate/fda-ai-pmas/510k/K161217.txt', '/Users/xiqiao/Documents/evaporate-clean/data/evaporate/data/fda_510ks/data/evaporate/fda-ai-pmas/510k/K181324.txt', '/Users/xiqiao/Documents/evaporate-clean/data/evaporate/data/fda_510ks/data/evaporate/fda-ai-pmas/510k/K141114.txt', '/Users/xiqiao/Documents/evaporate-clean/data/evaporate/data/fda_510ks/data/evaporate/fda-ai-pmas/510k/K172333.txt', '/Users/xiqiao/Documents/evaporate-clean/data/evaporate/data/fda_510ks/data/evaporate/fda-ai-pmas/510k/K150144.txt', '/Users/xiqiao/Documents/evaporate-clean/data/evaporate/data/fda_510ks/data/evaporate/fda-ai-pmas/510k/K161831.txt', '/Users/xiqiao/Documents/evaporate-clean/data/evaporate/data/fda_510ks/data/evaporate/fda-ai-pmas/510k/K142965.txt', '/Users/xiqiao/Documents/evaporate-clean/data/evaporate/data/fda_510ks/data/evaporate/fda-ai-pmas/510k/K172287.txt', '/Users/xiqiao/Documents/evaporate-clean/data/evaporate/data/fda_510ks/data/evaporate/fda-ai-pmas/510k/K182389.txt', '/Users/xiqiao/Documents/evaporate-clean/data/evaporate/data/fda_510ks/data/evaporate/fda-ai-pmas/510k/K143502.txt', '/Users/xiqiao/Documents/evaporate-clean/data/evaporate/data/fda_510ks/data/evaporate/fda-ai-pmas/510k/K172913.txt', '/Users/xiqiao/Documents/evaporate-clean/data/evaporate/data/fda_510ks/data/evaporate/fda-ai-pmas/510k/K181092.txt', '/Users/xiqiao/Documents/evaporate-clean/data/evaporate/data/fda_510ks/data/evaporate/fda-ai-pmas/510k/K151265.txt', '/Users/xiqiao/Documents/evaporate-clean/data/evaporate/data/fda_510ks/data/evaporate/fda-ai-pmas/510k/K162526.txt', '/Users/xiqiao/Documents/evaporate-clean/data/evaporate/data/fda_510ks/data/evaporate/fda-ai-pmas/510k/K170491.txt', '/Users/xiqiao/Documents/evaporate-clean/data/evaporate/data/fda_510ks/data/evaporate/fda-ai-pmas/510k/K160682.txt', '/Users/xiqiao/Documents/evaporate-clean/data/evaporate/data/fda_510ks/data/evaporate/fda-ai-pmas/510k/K171770.txt', '/Users/xiqiao/Documents/evaporate-clean/data/evaporate/data/fda_510ks/data/evaporate/fda-ai-pmas/510k/K162042.txt', '/Users/xiqiao/Documents/evaporate-clean/data/evaporate/data/fda_510ks/data/evaporate/fda-ai-pmas/510k/K180936.txt', '/Users/xiqiao/Documents/evaporate-clean/data/evaporate/data/fda_510ks/data/evaporate/fda-ai-pmas/510k/K161510.txt', '/Users/xiqiao/Documents/evaporate-clean/data/evaporate/data/fda_510ks/data/evaporate/fda-ai-pmas/510k/K150281.txt', '/Users/xiqiao/Documents/evaporate-clean/data/evaporate/data/fda_510ks/data/evaporate/fda-ai-pmas/510k/K151767.txt', '/Users/xiqiao/Documents/evaporate-clean/data/evaporate/data/fda_510ks/data/evaporate/fda-ai-pmas/510k/K173505.txt', '/Users/xiqiao/Documents/evaporate-clean/data/evaporate/data/fda_510ks/data/evaporate/fda-ai-pmas/510k/K150041.txt', '/Users/xiqiao/Documents/evaporate-clean/data/evaporate/data/fda_510ks/data/evaporate/fda-ai-pmas/510k/K152495.txt', '/Users/xiqiao/Documents/evaporate-clean/data/evaporate/data/fda_510ks/data/evaporate/fda-ai-pmas/510k/K172745.txt', '/Users/xiqiao/Documents/evaporate-clean/data/evaporate/data/fda_510ks/data/evaporate/fda-ai-pmas/510k/K163517.txt', '/Users/xiqiao/Documents/evaporate-clean/data/evaporate/data/fda_510ks/data/evaporate/fda-ai-pmas/510k/K160585.txt', '/Users/xiqiao/Documents/evaporate-clean/data/evaporate/data/fda_510ks/data/evaporate/fda-ai-pmas/510k/K150526.txt', '/Users/xiqiao/Documents/evaporate-clean/data/evaporate/data/fda_510ks/data/evaporate/fda-ai-pmas/510k/K161258.txt', '/Users/xiqiao/Documents/evaporate-clean/data/evaporate/data/fda_510ks/data/evaporate/fda-ai-pmas/510k/K161714.txt', '/Users/xiqiao/Documents/evaporate-clean/data/evaporate/data/fda_510ks/data/evaporate/fda-ai-pmas/510k/K173927.txt', '/Users/xiqiao/Documents/evaporate-clean/data/evaporate/data/fda_510ks/data/evaporate/fda-ai-pmas/510k/K180886.txt', '/Users/xiqiao/Documents/evaporate-clean/data/evaporate/data/fda_510ks/data/evaporate/fda-ai-pmas/510k/K163260.txt', '/Users/xiqiao/Documents/evaporate-clean/data/evaporate/data/fda_510ks/data/evaporate/fda-ai-pmas/510k/K193024.txt', '/Users/xiqiao/Documents/evaporate-clean/data/evaporate/data/fda_510ks/data/evaporate/fda-ai-pmas/510k/K173887.txt', '/Users/xiqiao/Documents/evaporate-clean/data/evaporate/data/fda_510ks/data/evaporate/fda-ai-pmas/510k/K180264.txt', '/Users/xiqiao/Documents/evaporate-clean/data/evaporate/data/fda_510ks/data/evaporate/fda-ai-pmas/510k/K193393.txt', '/Users/xiqiao/Documents/evaporate-clean/data/evaporate/data/fda_510ks/data/evaporate/fda-ai-pmas/510k/K182513.txt', '/Users/xiqiao/Documents/evaporate-clean/data/evaporate/data/fda_510ks/data/evaporate/fda-ai-pmas/510k/K182922.txt', '/Users/xiqiao/Documents/evaporate-clean/data/evaporate/data/fda_510ks/data/evaporate/fda-ai-pmas/510k/K170974.txt', '/Users/xiqiao/Documents/evaporate-clean/data/evaporate/data/fda_510ks/data/evaporate/fda-ai-pmas/510k/K182472.txt', '/Users/xiqiao/Documents/evaporate-clean/data/evaporate/data/fda_510ks/data/evaporate/fda-ai-pmas/510k/K143548.txt', '/Users/xiqiao/Documents/evaporate-clean/data/evaporate/data/fda_510ks/data/evaporate/fda-ai-pmas/510k/K181379.txt', '/Users/xiqiao/Documents/evaporate-clean/data/evaporate/data/fda_510ks/data/evaporate/fda-ai-pmas/510k/K171641.txt', '/Users/xiqiao/Documents/evaporate-clean/data/evaporate/data/fda_510ks/data/evaporate/fda-ai-pmas/510k/K190332.txt', '/Users/xiqiao/Documents/evaporate-clean/data/evaporate/data/fda_510ks/data/evaporate/fda-ai-pmas/510k/K183415.txt', '/Users/xiqiao/Documents/evaporate-clean/data/evaporate/data/fda_510ks/data/evaporate/fda-ai-pmas/510k/K161220.txt', '/Users/xiqiao/Documents/evaporate-clean/data/evaporate/data/fda_510ks/data/evaporate/fda-ai-pmas/510k/K173817.txt', '/Users/xiqiao/Documents/evaporate-clean/data/evaporate/data/fda_510ks/data/evaporate/fda-ai-pmas/510k/K151917.txt', '/Users/xiqiao/Documents/evaporate-clean/data/evaporate/data/fda_510ks/data/evaporate/fda-ai-pmas/510k/K181288.txt', '/Users/xiqiao/Documents/evaporate-clean/data/evaporate/data/fda_510ks/data/evaporate/fda-ai-pmas/510k/K161619.txt', '/Users/xiqiao/Documents/evaporate-clean/data/evaporate/data/fda_510ks/data/evaporate/fda-ai-pmas/510k/K153683.txt', '/Users/xiqiao/Documents/evaporate-clean/data/evaporate/data/fda_510ks/data/evaporate/fda-ai-pmas/510k/K182353.txt', '/Users/xiqiao/Documents/evaporate-clean/data/evaporate/data/fda_510ks/data/evaporate/fda-ai-pmas/510k/K192815.txt', '/Users/xiqiao/Documents/evaporate-clean/data/evaporate/data/fda_510ks/data/evaporate/fda-ai-pmas/510k/K153278.txt', '/Users/xiqiao/Documents/evaporate-clean/data/evaporate/data/fda_510ks/data/evaporate/fda-ai-pmas/510k/K152614.txt', '/Users/xiqiao/Documents/evaporate-clean/data/evaporate/data/fda_510ks/data/evaporate/fda-ai-pmas/510k/K171742.txt', '/Users/xiqiao/Documents/evaporate-clean/data/evaporate/data/fda_510ks/data/evaporate/fda-ai-pmas/510k/K190219.txt', '/Users/xiqiao/Documents/evaporate-clean/data/evaporate/data/fda_510ks/data/evaporate/fda-ai-pmas/510k/K171971.txt', '/Users/xiqiao/Documents/evaporate-clean/data/evaporate/data/fda_510ks/data/evaporate/fda-ai-pmas/510k/K183462.txt', '/Users/xiqiao/Documents/evaporate-clean/data/evaporate/data/fda_510ks/data/evaporate/fda-ai-pmas/510k/K162688.txt', '/Users/xiqiao/Documents/evaporate-clean/data/evaporate/data/fda_510ks/data/evaporate/fda-ai-pmas/510k/K160538.txt', '/Users/xiqiao/Documents/evaporate-clean/data/evaporate/data/fda_510ks/data/evaporate/fda-ai-pmas/510k/K180209.txt', '/Users/xiqiao/Documents/evaporate-clean/data/evaporate/data/fda_510ks/data/evaporate/fda-ai-pmas/510k/K173829.txt', '/Users/xiqiao/Documents/evaporate-clean/data/evaporate/data/fda_510ks/data/evaporate/fda-ai-pmas/510k/K171974.txt', '/Users/xiqiao/Documents/evaporate-clean/data/evaporate/data/fda_510ks/data/evaporate/fda-ai-pmas/510k/K143736.txt', '/Users/xiqiao/Documents/evaporate-clean/data/evaporate/data/fda_510ks/data/evaporate/fda-ai-pmas/510k/K162840.txt', '/Users/xiqiao/Documents/evaporate-clean/data/evaporate/data/fda_510ks/data/evaporate/fda-ai-pmas/510k/K150617.txt', '/Users/xiqiao/Documents/evaporate-clean/data/evaporate/data/fda_510ks/data/evaporate/fda-ai-pmas/510k/K181700.txt', '/Users/xiqiao/Documents/evaporate-clean/data/evaporate/data/fda_510ks/data/evaporate/fda-ai-pmas/510k/K163626.txt', '/Users/xiqiao/Documents/evaporate-clean/data/evaporate/data/fda_510ks/data/evaporate/fda-ai-pmas/510k/K170464.txt', '/Users/xiqiao/Documents/evaporate-clean/data/evaporate/data/fda_510ks/data/evaporate/fda-ai-pmas/510k/K190223.txt', '/Users/xiqiao/Documents/evaporate-clean/data/evaporate/data/fda_510ks/data/evaporate/fda-ai-pmas/510k/K150588.txt', '/Users/xiqiao/Documents/evaporate-clean/data/evaporate/data/fda_510ks/data/evaporate/fda-ai-pmas/510k/K182357.txt', '/Users/xiqiao/Documents/evaporate-clean/data/evaporate/data/fda_510ks/data/evaporate/fda-ai-pmas/510k/K162895.txt', '/Users/xiqiao/Documents/evaporate-clean/data/evaporate/data/fda_510ks/data/evaporate/fda-ai-pmas/510k/K151046.txt', '/Users/xiqiao/Documents/evaporate-clean/data/evaporate/data/fda_510ks/data/evaporate/fda-ai-pmas/510k/K153137.txt', '/Users/xiqiao/Documents/evaporate-clean/data/evaporate/data/fda_510ks/data/evaporate/fda-ai-pmas/510k/K162705.txt'], generative_index_path='/Users/xiqiao/Documents/evaporate-clean/data/evaporate/data/fda_510ks/generative_indexes/fda_510ks', gold_extractions_file='/Users/xiqiao/Documents/evaporate-clean/data/evaporate/data/fda_510ks/table.json', max_chunks_per_file=-1, max_metadata_fields=15, num_attr_to_cascade=50, num_top_k_scripts=10, overwrite_cache=False, parser='txt', remove_tables=False, run_string='dataLakefda_510ks_date01122024_fileSize100_trainSize10_numAggregate10_chunkSize3000_removeTablesFalse_bodyFalse_cascadingTrue_useBackoffTrue_MODELS1', schema_id_sizes=0, set_dicts='', slice_results=False, swde_plus=False, topic=[], train_size=10, upper_bound_fns=False, use_abstension=False, use_alg_filtering=False, use_dynamic_backoff=True, use_qa_model=False)\n"
     ]
    }
   ],
   "source": [
    "profiler_args= set_profiler_args({\n",
    "    \"data_lake\": \"fda_510ks\", \n",
    "    \"num_attr_to_cascade\": 50, \n",
    "    \"num_top_k_scripts\": 10, \n",
    "    \"train_size\": 10, \n",
    "    \"combiner_mode\": \"mv\", \n",
    "    \"do_end_to_end\": True,\n",
    "    \"use_dynamic_backoff\": True, \n",
    "    \"KEYS\": [\"\"], \n",
    "    \"data_dir\": \"/data/evaporate/data/fda_510ks/data/evaporate/fda-ai-pmas/510k\", \n",
    "    \"base_data_dir\": \"/data/evaporate/data/fda_510ks\", \n",
    "    \"gold_extractions_file\": \"/data/evaporate/data/fda_510ks/table.json\"}\n",
    ")\n",
    "print(profiler_args)"
   ]
  },
  {
   "cell_type": "code",
   "execution_count": 10,
   "metadata": {},
   "outputs": [
    {
     "name": "stderr",
     "output_type": "stream",
     "text": [
      "Chunking files: 100%|██████████| 100/100 [00:00<00:00, 745.84it/s]"
     ]
    },
    {
     "name": "stdout",
     "output_type": "stream",
     "text": [
      "dict_keys(['file2chunks', 'file2contents', 'extraction_manifest_sessions', 'gold_attributes'])\n"
     ]
    },
    {
     "name": "stderr",
     "output_type": "stream",
     "text": [
      "\n"
     ]
    }
   ],
   "source": [
    "data_dict = prerun_profiler(profiler_args)\n",
    "print(data_dict.keys())"
   ]
  },
  {
   "cell_type": "code",
   "execution_count": 11,
   "metadata": {},
   "outputs": [
    {
     "name": "stdout",
     "output_type": "stream",
     "text": [
      "10\n"
     ]
    }
   ],
   "source": [
    "print(profiler_args.train_size)"
   ]
  },
  {
   "cell_type": "markdown",
   "metadata": {},
   "source": [
    "# Get Schema Attribute"
   ]
  },
  {
   "cell_type": "code",
   "execution_count": 12,
   "metadata": {},
   "outputs": [
    {
     "name": "stdout",
     "output_type": "stream",
     "text": [
      "Chunks in sample file /Users/xiqiao/Documents/evaporate-clean/data/evaporate/data/fda_510ks/data/evaporate/fda-ai-pmas/510k/K150526.txt: 5\n",
      "Chunks in sample file /Users/xiqiao/Documents/evaporate-clean/data/evaporate/data/fda_510ks/data/evaporate/fda-ai-pmas/510k/K151046.txt: 16\n",
      "Chunks in sample file /Users/xiqiao/Documents/evaporate-clean/data/evaporate/data/fda_510ks/data/evaporate/fda-ai-pmas/510k/K180886.txt: 5\n",
      "Chunks in sample file /Users/xiqiao/Documents/evaporate-clean/data/evaporate/data/fda_510ks/data/evaporate/fda-ai-pmas/510k/K181525.txt: 9\n",
      "Chunks in sample file /Users/xiqiao/Documents/evaporate-clean/data/evaporate/data/fda_510ks/data/evaporate/fda-ai-pmas/510k/K151265.txt: 11\n",
      "Chunks in sample file /Users/xiqiao/Documents/evaporate-clean/data/evaporate/data/fda_510ks/data/evaporate/fda-ai-pmas/510k/K171641.txt: 10\n",
      "Chunks in sample file /Users/xiqiao/Documents/evaporate-clean/data/evaporate/data/fda_510ks/data/evaporate/fda-ai-pmas/510k/K182472.txt: 4\n",
      "Chunks in sample file /Users/xiqiao/Documents/evaporate-clean/data/evaporate/data/fda_510ks/data/evaporate/fda-ai-pmas/510k/K161714.txt: 8\n",
      "Chunks in sample file /Users/xiqiao/Documents/evaporate-clean/data/evaporate/data/fda_510ks/data/evaporate/fda-ai-pmas/510k/K162042.txt: 13\n",
      "Chunks in sample file /Users/xiqiao/Documents/evaporate-clean/data/evaporate/data/fda_510ks/data/evaporate/fda-ai-pmas/510k/K170974.txt: 12\n"
     ]
    },
    {
     "name": "stderr",
     "output_type": "stream",
     "text": [
      "Directly extracting metadata from chunks:  40%|████      | 4/10 [01:55<02:58, 29.80s/it]"
     ]
    },
    {
     "name": "stdout",
     "output_type": "stream",
     "text": [
      "Failed to apply prompt to chunk.\n"
     ]
    }
   ],
   "source": [
    "if  profiler_args.do_end_to_end:\n",
    "    attributes, total_time, num_toks, evaluation_result = identify_attributes(profiler_args, data_dict, evaluation=True)\n",
    "    print(\"total_time: \", total_time, \"num_toks: \", num_toks, \"evaluation_result: \", evaluation_result)\n",
    "else:\n",
    "    attributes = data_dict[\"gold_attributes\"]"
   ]
  },
  {
   "cell_type": "code",
   "execution_count": 6,
   "metadata": {},
   "outputs": [
    {
     "data": {
      "text/plain": [
       "['purpose for submission',\n",
       " 'type of test',\n",
       " 'classification',\n",
       " 'product code',\n",
       " 'panel',\n",
       " 'indications for use',\n",
       " 'predicate device name',\n",
       " 'proposed labeling',\n",
       " 'conclusion',\n",
       " '510k number',\n",
       " 'applicant',\n",
       " 'predicate 510k number',\n",
       " 'proprietary and established names',\n",
       " 'regulation section',\n",
       " 'measurand',\n",
       " 'intended use']"
      ]
     },
     "execution_count": 6,
     "metadata": {},
     "output_type": "execute_result"
    }
   ],
   "source": [
    "attributes"
   ]
  },
  {
   "cell_type": "markdown",
   "metadata": {},
   "source": [
    "Model Information\n",
    "Data Dir\n",
    "CONSTANTS = {\n",
    "        \"fda_510ks\": {\n",
    "            \"data_dir\": os.path.join(BASE_DATA_DIR, \"fda-ai-pmas/510k/\"),\n",
    "            \"database_name\": \"fda_510ks\",\n",
    "            \"cache_dir\": \".cache/fda_510ks/\",\n",
    "            \"generative_index_path\": os.path.join(BASE_DATA_DIR, \"generative_indexes/fda_510ks/\"),\n",
    "            \"gold_extractions_file\": os.path.join(BASE_DATA_DIR, \"ground_truth/fda_510ks_gold_extractions.json\"),\n",
    "            \"topic\": \"fda 510k device premarket notifications\",\n",
    "        },\n",
    "    }"
   ]
  },
  {
   "cell_type": "markdown",
   "metadata": {},
   "source": [
    "# Get Attribute function"
   ]
  },
  {
   "cell_type": "code",
   "execution_count": 7,
   "metadata": {},
   "outputs": [
    {
     "name": "stdout",
     "output_type": "stream",
     "text": [
      "\n",
      "\n",
      "Extracting purpose for submission (1 / 16)\n",
      "For attribute purpose for submission\n",
      "-- Starting with 1144 chunks\n",
      "-- Ending with 100 chunks\n",
      "-- 93 starting chunks in sample files\n",
      "-- 10 chunks in sample files\n"
     ]
    },
    {
     "name": "stderr",
     "output_type": "stream",
     "text": [
      "Extracting attribute purpose for submission using LM:   0%|          | 0/10 [00:00<?, ?it/s]"
     ]
    },
    {
     "name": "stderr",
     "output_type": "stream",
     "text": [
      "Extracting attribute purpose for submission using LM: 100%|██████████| 10/10 [00:00<00:00, 576.90it/s]\n",
      "Generating functions for attribute purpose for submission: 100%|██████████| 10/10 [00:31<00:00,  3.17s/it]\n"
     ]
    },
    {
     "name": "stdout",
     "output_type": "stream",
     "text": [
      "Extraction fraction: 1.0\n",
      "Top 10 scripts:\n",
      "- function_7; Score: {'average_f1': 1.0, 'median_f1': 1.0, 'extraction_fraction': 1.0, 'prior_average_f1': 1.0, 'prior_median_f1': 1.0}\n",
      "- function_15; Score: {'average_f1': 1.0, 'median_f1': 1.0, 'extraction_fraction': 1.0, 'prior_average_f1': 1.0, 'prior_median_f1': 1.0}\n",
      "- function_17; Score: {'average_f1': 1.0, 'median_f1': 1.0, 'extraction_fraction': 1.0, 'prior_average_f1': 1.0, 'prior_median_f1': 1.0}\n",
      "- function_0; Score: {'average_f1': 0.9, 'median_f1': 1.0, 'extraction_fraction': 1.0, 'prior_average_f1': 0.9, 'prior_median_f1': 1.0}\n",
      "- function_6; Score: {'average_f1': 0.9, 'median_f1': 1.0, 'extraction_fraction': 1.0, 'prior_average_f1': 0.9, 'prior_median_f1': 1.0}\n",
      "- function_14; Score: {'average_f1': 0.9, 'median_f1': 1.0, 'extraction_fraction': 1.0, 'prior_average_f1': 0.9, 'prior_median_f1': 1.0}\n",
      "- function_16; Score: {'average_f1': 0.9, 'median_f1': 1.0, 'extraction_fraction': 1.0, 'prior_average_f1': 0.9, 'prior_median_f1': 1.0}\n",
      "- function_5; Score: {'average_f1': 0.8753193960511034, 'median_f1': 1.0, 'extraction_fraction': 1.0, 'prior_average_f1': 0.8753193960511034, 'prior_median_f1': 1.0}\n",
      "- function_11; Score: {'average_f1': 0.8753193960511034, 'median_f1': 1.0, 'extraction_fraction': 1.0, 'prior_average_f1': 0.8753193960511034, 'prior_median_f1': 1.0}\n",
      "- function_1; Score: {'average_f1': 0.4333515781791643, 'median_f1': 0.6666666666666666, 'extraction_fraction': 1.0, 'prior_average_f1': 0.4333515781791643, 'prior_median_f1': 0.6666666666666666}\n",
      "Best script overall: function_7; Score: {'average_f1': 1.0, 'median_f1': 1.0, 'extraction_fraction': 1.0, 'prior_average_f1': 1.0, 'prior_median_f1': 1.0}\n",
      "Apply the scripts to the data lake and save the metadata. Taking the top 10 scripts per field.\n",
      "Applying function function_7...\n",
      "Applying function function_15...\n",
      "Applying function function_17...\n",
      "Applying function function_0...\n",
      "Applying function function_6...\n",
      "Applying function function_14...\n",
      "Applying function function_16...\n",
      "Applying function function_5...\n",
      "Applying function function_11...\n",
      "Applying function function_1...\n"
     ]
    },
    {
     "name": "stderr",
     "output_type": "stream",
     "text": [
      "Applying key function_7: 100%|██████████| 100/100 [00:00<00:00, 99983.41it/s]\n",
      "Applying key function_15: 100%|██████████| 100/100 [00:00<00:00, 117093.91it/s]\n",
      "Applying key function_17: 100%|██████████| 100/100 [00:00<00:00, 100102.72it/s]\n",
      "Applying key function_0: 100%|██████████| 100/100 [00:00<00:00, 270251.55it/s]\n",
      "Applying key function_6: 100%|██████████| 100/100 [00:00<00:00, 71992.86it/s]\n",
      "Applying key function_14: 100%|██████████| 100/100 [00:00<00:00, 178026.49it/s]\n",
      "Applying key function_16: 100%|██████████| 100/100 [00:00<00:00, 197937.90it/s]\n",
      "Applying key function_5: 100%|██████████| 100/100 [00:00<00:00, 276122.71it/s]\n",
      "Applying key function_11: 100%|██████████| 100/100 [00:00<00:00, 155748.38it/s]\n",
      "Applying key function_1: 100%|██████████| 100/100 [00:00<00:00, 280931.28it/s]\n"
     ]
    },
    {
     "name": "stdout",
     "output_type": "stream",
     "text": [
      "Save path: /Users/xiqiao/Documents/evaporate-clean/data/evaporate/data/fda_510ks/generative_indexes/fda_510ks/dataLakefda_510ks_date01122024_fileSize100_trainSize10_numAggregate10_chunkSize3000_removeTablesFalse_bodyFalse_cascadingFalse_useBackoffTrue_MODELS1_purpose_for_submission_all_extractions.json\n",
      "{'function_0': {'function': 'def get_purpose_for_submission_field(text: str):\\n    \"\"\"\\n    Function to extract the \"purpose for submission field\". \\n    \"\"\"\\n    pattern = r\"B\\\\. Purpose for Submission:\\\\s+(.*?)\\\\s+C\\\\. Measurand:\"\\n    match = re.search(pattern, text, re.DOTALL)\\n    if match:\\n        return [match.group(1)]', 'promptsource': 0, 'runtime': 0.023460865020751953}, 'function_1': {'function': 'def get_purpose_for_submission_field(text: str):\\n    \"\"\"\\n    Function to extract the purpose for submission field.\\n    \"\"\"\\n    pattern = r\\'B\\\\. Purpose for Submission:\\\\s+(.*?)\\\\s+\\'\\n    match = re.search(pattern, text)\\n    if match:\\n        return match.group(1)', 'promptsource': 1, 'runtime': 0.014207124710083008}, 'function_2': {'function': 'def get_purpose_for_submission_field(text: str):\\n    \"\"\"\\n    Function to extract the \"purpose for submission field\" from the given text.\\n    \"\"\"\\n    pattern = r\"Purpose for Submission:\\\\n(.+)\"\\n    match = re.search(pattern, text)\\n    if match:\\n        return match.group(1).strip().split(\"\\\\n\")', 'promptsource': 0}, 'function_3': {'function': 'def get_purpose_for_submission_field(text: str):\\n    \"\"\"\\n    Function to extract the purpose for submission field.\\n    \"\"\"\\n    pattern = r\\'Purpose for Submission:\\\\n(.+?)\\\\n\\'\\n    match = re.search(pattern, text, re.DOTALL)\\n    if match:\\n        return match.group(1).strip()', 'promptsource': 1}, 'function_4': {'function': 'def get_purpose_for_submission_field(text: str):\\n    \"\"\"\\n    Function to extract the \"purpose for submission field\" from the given text.\\n    \"\"\"\\n    pattern = r\"B\\\\. Purpose for Submission:\\\\n(.+)\"\\n    match = re.search(pattern, text)\\n    if match:\\n        return match.group(1).strip().split(\"\\\\n\")', 'promptsource': 0}, 'function_5': {'function': 'def get_purpose_for_submission_field(text: str):\\n    \"\"\"\\n    Function to extract the purpose for submission field.\\n    \"\"\"\\n    pattern = r\"Purpose for Submission:\\\\s+(.*)\"\\n    match = re.search(pattern, text)\\n    if match:\\n        return match.group(1)', 'promptsource': 1, 'runtime': 0.012451887130737305}, 'function_6': {'function': 'def get_purpose_for_submission_field(text: str):\\n    \"\"\"\\n    Function to extract the \"purpose for submission field\" from the given text.\\n    \"\"\"\\n    pattern = r\"Purpose for Submission:\\\\s*(.*?)\\\\s*C\\\\. Measurand:\"\\n    match = re.search(pattern, text, re.DOTALL)\\n    if match:\\n        return [match.group(1).strip()]', 'promptsource': 0, 'runtime': 0.07960104942321777}, 'function_7': {'function': 'def get_purpose_for_submission_field(text: str):\\n    \"\"\"\\n    Function to extract the purpose for submission field.\\n    \"\"\"\\n    pattern = r\\'Purpose for Submission:\\\\s*(.*?)\\\\s*C\\\\.\\'\\n    match = re.search(pattern, text, re.DOTALL)\\n    if match:\\n        return match.group(1).strip()', 'promptsource': 1, 'runtime': 0.017602205276489258}, 'function_8': {'function': 'def get_purpose_for_submission_field(text: str):\\n    \"\"\"\\n    Function to extract the \"purpose for submission field\" from the given text.\\n    \"\"\"\\n    pattern = r\"Purpose for Submission:\\\\n(.+)\"\\n    match = re.search(pattern, text)\\n    if match:\\n        return match.group(1).strip().split(\"\\\\n\")', 'promptsource': 0}, 'function_9': {'function': 'def get_purpose_for_submission_field(text: str):\\n    \"\"\"\\n    Function to extract the purpose for submission field.\\n    \"\"\"\\n    pattern = r\\'Purpose for Submission:\\\\n(.*)\\'\\n    match = re.search(pattern, text)\\n    if match:\\n        return match.group(1)', 'promptsource': 1}, 'function_10': {'function': 'def get_purpose_for_submission_field(text: str):\\n    \"\"\"\\n    Function to extract the \"purpose for submission field\" from the given text.\\n    \"\"\"\\n    pattern = r\"B\\\\. Purpose for Submission:\\\\n(.*?)\\\\n\"\\n    match = re.search(pattern, text, re.DOTALL)\\n    if match:\\n        return match.group(1).strip().split(\"\\\\n\")', 'promptsource': 0}, 'function_11': {'function': 'def get_purpose_for_submission_field(text: str):\\n    \"\"\"\\n    Function to extract the purpose for submission field.\\n    \"\"\"\\n    pattern = r\\'Purpose for Submission:\\\\s+(.*)\\'\\n    match = re.search(pattern, text)\\n    if match:\\n        return match.group(1)', 'promptsource': 1, 'runtime': 0.01246190071105957}, 'function_12': {'function': 'def get_purpose_for_submission_field(text: str):\\n    \"\"\"\\n    Function to extract the \"purpose for submission field\" from the given text.\\n    \"\"\"\\n    pattern = r\"Purpose for Submission:\\\\n(.+)\"\\n    match = re.search(pattern, text)\\n    if match:\\n        return match.group(1).strip().split(\"\\\\n\")', 'promptsource': 0}, 'function_13': {'function': 'def get_purpose_for_submission_field(text: str):\\n    \"\"\"\\n    Function to extract the purpose for submission field.\\n    \"\"\"\\n    pattern = r\\'Purpose for Submission:\\\\n(.+?)\\\\n\\'\\n    match = re.search(pattern, text, re.DOTALL)\\n    if match:\\n        return match.group(1).strip()', 'promptsource': 1}, 'function_14': {'function': 'def get_purpose_for_submission_field(text: str):\\n    \"\"\"\\n    Function to extract the \"purpose for submission field\" from the given text.\\n    \"\"\"\\n    pattern = r\"Purpose for Submission:\\\\s*(.*?)\\\\s*C\\\\. Measurand:\"\\n    match = re.search(pattern, text, re.DOTALL)\\n    if match:\\n        return match.group(1).strip().split(\"\\\\n\")', 'promptsource': 0, 'runtime': 0.08313894271850586}, 'function_15': {'function': 'def get_purpose_for_submission_field(text: str):\\n    \"\"\"\\n    Function to extract the purpose for submission field.\\n    \"\"\"\\n    pattern = r\\'Purpose for Submission:\\\\s*(.*?)\\\\s*C\\\\.\\'\\n    match = re.search(pattern, text, re.DOTALL)\\n    if match:\\n        return match.group(1).strip()', 'promptsource': 1, 'runtime': 0.004960775375366211}, 'function_16': {'function': 'def get_purpose_for_submission_field(text: str):\\n    \"\"\"\\n    Function to extract the \"purpose for submission field\" from the given text.\\n    \"\"\"\\n    pattern = r\"Purpose for Submission:\\\\s*(.*?)\\\\s*C\\\\. Measurand:\"\\n    match = re.search(pattern, text, re.DOTALL)\\n    if match:\\n        return [match.group(1).strip()]', 'promptsource': 0, 'runtime': 0.004374027252197266}, 'function_17': {'function': 'def get_purpose_for_submission_field(text: str):\\n    \"\"\"\\n    Function to extract the purpose for submission field.\\n    \"\"\"\\n    pattern = r\\'Purpose for Submission:\\\\s*(.*?)\\\\s*C\\\\.\\'\\n    match = re.search(pattern, text, re.DOTALL)\\n    if match:\\n        return match.group(1).strip()', 'promptsource': 1, 'runtime': 0.0043680667877197266}, 'function_18': {'function': 'def get_purpose_for_submission_field(text: str):\\n    \"\"\"\\n    Function to extract the \"purpose for submission field\". \\n    \"\"\"\\n    pattern = r\"Purpose for Submission:\\\\n(.+)\"\\n    match = re.search(pattern, text)\\n    if match:\\n        return match.group(1)', 'promptsource': 0}, 'function_19': {'function': 'def get_purpose_for_submission_field(text: str):\\n    \"\"\"\\n    Function to extract the purpose for submission field.\\n    \"\"\"\\n    pattern = r\"Purpose for Submission:\\\\s*(.*?)\\\\s*C\\\\. Manufacturer\"\\n    match = re.search(pattern, text, re.DOTALL)\\n    if match:\\n        return match.group(1).strip()', 'promptsource': 1}}\n",
      "\n",
      "\n",
      "Extracting type of test (2 / 16)\n",
      "For attribute type of test\n",
      "-- Starting with 1144 chunks\n",
      "-- Ending with 102 chunks\n",
      "-- 93 starting chunks in sample files\n",
      "-- 10 chunks in sample files\n"
     ]
    },
    {
     "name": "stderr",
     "output_type": "stream",
     "text": [
      "Extracting attribute type of test using LM: 100%|██████████| 10/10 [00:09<00:00,  1.11it/s]\n",
      "Generating functions for attribute type of test: 100%|██████████| 10/10 [00:25<00:00,  2.60s/it]\n"
     ]
    },
    {
     "name": "stdout",
     "output_type": "stream",
     "text": [
      "Extraction fraction: 1.0\n",
      "Top 10 scripts:\n",
      "- function_0; Score: {'average_f1': 0.7763425925925926, 'median_f1': 0.9444444444444444, 'extraction_fraction': 1.0, 'prior_average_f1': 0.7763425925925926, 'prior_median_f1': 0.9444444444444444}\n",
      "- function_1; Score: {'average_f1': 0.7763425925925926, 'median_f1': 0.9444444444444444, 'extraction_fraction': 1.0, 'prior_average_f1': 0.7763425925925926, 'prior_median_f1': 0.9444444444444444}\n",
      "- function_5; Score: {'average_f1': 0.7763425925925926, 'median_f1': 0.9444444444444444, 'extraction_fraction': 1.0, 'prior_average_f1': 0.7763425925925926, 'prior_median_f1': 0.9444444444444444}\n",
      "- function_6; Score: {'average_f1': 0.7763425925925926, 'median_f1': 0.9444444444444444, 'extraction_fraction': 1.0, 'prior_average_f1': 0.7763425925925926, 'prior_median_f1': 0.9444444444444444}\n",
      "- function_7; Score: {'average_f1': 0.7763425925925926, 'median_f1': 0.9444444444444444, 'extraction_fraction': 1.0, 'prior_average_f1': 0.7763425925925926, 'prior_median_f1': 0.9444444444444444}\n",
      "- function_9; Score: {'average_f1': 0.7763425925925926, 'median_f1': 0.9444444444444444, 'extraction_fraction': 1.0, 'prior_average_f1': 0.7763425925925926, 'prior_median_f1': 0.9444444444444444}\n",
      "- function_11; Score: {'average_f1': 0.7763425925925926, 'median_f1': 0.9444444444444444, 'extraction_fraction': 1.0, 'prior_average_f1': 0.7763425925925926, 'prior_median_f1': 0.9444444444444444}\n",
      "- function_14; Score: {'average_f1': 0.7763425925925926, 'median_f1': 0.9444444444444444, 'extraction_fraction': 1.0, 'prior_average_f1': 0.7763425925925926, 'prior_median_f1': 0.9444444444444444}\n",
      "- function_15; Score: {'average_f1': 0.7763425925925926, 'median_f1': 0.9444444444444444, 'extraction_fraction': 1.0, 'prior_average_f1': 0.7763425925925926, 'prior_median_f1': 0.9444444444444444}\n",
      "- function_16; Score: {'average_f1': 0.7763425925925926, 'median_f1': 0.9444444444444444, 'extraction_fraction': 1.0, 'prior_average_f1': 0.7763425925925926, 'prior_median_f1': 0.9444444444444444}\n",
      "Best script overall: function_0; Score: {'average_f1': 0.7763425925925926, 'median_f1': 0.9444444444444444, 'extraction_fraction': 1.0, 'prior_average_f1': 0.7763425925925926, 'prior_median_f1': 0.9444444444444444}\n",
      "Apply the scripts to the data lake and save the metadata. Taking the top 10 scripts per field.\n",
      "Applying function function_0...\n",
      "Applying function function_1...\n",
      "Applying function function_5...\n",
      "Applying function function_6...\n",
      "Applying function function_7...\n",
      "Applying function function_9...\n",
      "Applying function function_11...\n",
      "Applying function function_14...\n",
      "Applying function function_15...\n",
      "Applying function function_16...\n"
     ]
    },
    {
     "name": "stderr",
     "output_type": "stream",
     "text": [
      "Applying key function_0: 100%|██████████| 100/100 [00:00<00:00, 186911.94it/s]\n",
      "Applying key function_1: 100%|██████████| 100/100 [00:00<00:00, 209192.22it/s]\n",
      "Applying key function_5: 100%|██████████| 100/100 [00:00<00:00, 268178.01it/s]\n",
      "Applying key function_6: 100%|██████████| 100/100 [00:00<00:00, 186911.94it/s]\n",
      "Applying key function_7: 100%|██████████| 100/100 [00:00<00:00, 164740.93it/s]\n",
      "Applying key function_9: 100%|██████████| 100/100 [00:00<00:00, 348364.12it/s]\n",
      "Applying key function_11: 100%|██████████| 100/100 [00:00<00:00, 221335.30it/s]\n",
      "Applying key function_14: 100%|██████████| 100/100 [00:00<00:00, 129334.07it/s]\n",
      "Applying key function_15: 100%|██████████| 100/100 [00:00<00:00, 252061.54it/s]\n",
      "Applying key function_16: 100%|██████████| 100/100 [00:00<00:00, 236298.82it/s]"
     ]
    },
    {
     "name": "stdout",
     "output_type": "stream",
     "text": [
      "Save path: /Users/xiqiao/Documents/evaporate-clean/data/evaporate/data/fda_510ks/generative_indexes/fda_510ks/dataLakefda_510ks_date01122024_fileSize100_trainSize10_numAggregate10_chunkSize3000_removeTablesFalse_bodyFalse_cascadingFalse_useBackoffTrue_MODELS1_type_of_test_all_extractions.json\n",
      "{'function_0': {'function': 'def get_type_of_test_field(text: str):\\n    \"\"\"\\n    Function to extract the \"type of test field\". \\n    \"\"\"\\n    pattern = r\\'Type of Test:\\\\s*(.*)\\'\\n    match = re.search(pattern, text)\\n    if match:\\n        return [match.group(1)]', 'promptsource': 0, 'runtime': 0.011357784271240234}, 'function_1': {'function': 'def get_type_of_test_field(text: str):\\n    \"\"\"\\n    Function to extract the type of test field.\\n    \"\"\"\\n    pattern = r\\'Type of Test:\\\\s+(.*)\\'\\n    match = re.search(pattern, text)\\n    if match:\\n        return match.group(1)', 'promptsource': 1, 'runtime': 0.010949850082397461}, 'function_2': {'function': 'def get_type_of_test_field(text: str):\\n    \"\"\"\\n    Function to extract the \"type of test field\". \\n    \"\"\"\\n    pattern = r\"Type of Test:\\\\n(.+)\"\\n    match = re.search(pattern, text)\\n    if match:\\n        return match.group(1).strip().split(\"\\\\n\")', 'promptsource': 0}, 'function_3': {'function': 'def get_type_of_test_field(text: str):\\n    \"\"\"\\n    Function to extract the type of test field.\\n    \"\"\"\\n    pattern = r\\'Type of Test:\\\\n(.*)\\'\\n    match = re.search(pattern, text)\\n    if match:\\n        return match.group(1)', 'promptsource': 1}, 'function_4': {'function': 'def get_type_of_test_field(text: str):\\n    \"\"\"\\n    Function to extract the \"type of test field\". \\n    \"\"\"\\n    pattern = r\"Type of Test:\\\\n(.+)\"\\n    match = re.search(pattern, text)\\n    if match:\\n        return match.group(1).strip().split(\"\\\\n\")', 'promptsource': 0}, 'function_5': {'function': 'def get_type_of_test_field(text: str):\\n    \"\"\"\\n    Function to extract the type of test field.\\n    \"\"\"\\n    pattern = r\\'Type of Test:\\\\s+(.*)\\'\\n    match = re.search(pattern, text)\\n    if match:\\n        return match.group(1)', 'promptsource': 1, 'runtime': 0.004156351089477539}, 'function_6': {'function': 'def get_type_of_test_field(text: str):\\n    \"\"\"\\n    Function to extract the \"type of test field\". \\n    \"\"\"\\n    pattern = r\"Type of Test:\\\\s*(.*)\"\\n    match = re.search(pattern, text)\\n    if match:\\n        return [match.group(1)]', 'promptsource': 0, 'runtime': 0.01269984245300293}, 'function_7': {'function': 'def get_type_of_test_field(text: str):\\n    \"\"\"\\n    Function to extract the type of test field.\\n    \"\"\"\\n    pattern = r\\'Type of Test:\\\\s*(.*)\\'\\n    match = re.search(pattern, text)\\n    if match:\\n        return match.group(1)', 'promptsource': 1, 'runtime': 0.011502742767333984}, 'function_8': {'function': 'def get_type_of_test_field(text: str):\\n    \"\"\"\\n    Function to extract the \"type of test field\" from the given text.\\n    \"\"\"\\n    pattern = r\"Type of Test:\\\\n(.+)\"\\n    match = re.search(pattern, text)\\n    if match:\\n        return match.group(1).strip().split(\";\")', 'promptsource': 0}, 'function_9': {'function': 'def get_type_of_test_field(text: str):\\n    \"\"\"\\n    Function to extract the type of test field.\\n    \"\"\"\\n    pattern = r\\'Type of Test:\\\\s+(.*)\\'\\n    match = re.search(pattern, text)\\n    if match:\\n        return match.group(1)', 'promptsource': 1, 'runtime': 0.004457950592041016}, 'function_10': {'function': 'def get_type_of_test_field(text: str):\\n    \"\"\"\\n    Function to extract the \"type of test field\". \\n    \"\"\"\\n    pattern = r\\'Type of Test:\\\\n(.*)\\'\\n    match = re.search(pattern, text)\\n    if match:\\n        return match.group(1).strip().split(\\'\\\\n\\')', 'promptsource': 0}, 'function_11': {'function': 'def get_type_of_test_field(text: str):\\n    \"\"\"\\n    Function to extract the type of test field.\\n    \"\"\"\\n    pattern = r\\'Type of Test:\\\\s*(.*)\\'\\n    match = re.search(pattern, text)\\n    if match:\\n        return match.group(1)', 'promptsource': 1, 'runtime': 0.004236936569213867}, 'function_12': {'function': 'def get_type_of_test_field(text: str):\\n    \"\"\"\\n    Function to extract the \"type of test field\". \\n    \"\"\"\\n    pattern = r\\'Type of Test:\\\\n(.*)\\'\\n    match = re.search(pattern, text)\\n    if match:\\n        return match.group(1).strip().split(\\'\\\\n\\')', 'promptsource': 0}, 'function_13': {'function': 'def get_type_of_test_field(text: str):\\n    \"\"\"\\n    Function to extract the type of test field.\\n    \"\"\"\\n    pattern = r\\'Type of Test:\\\\n(.*)\\'\\n    match = re.search(pattern, text)\\n    if match:\\n        return match.group(1)', 'promptsource': 1}, 'function_14': {'function': 'def get_type_of_test_field(text: str):\\n    \"\"\"\\n    Function to extract the \"type of test field\". \\n    \"\"\"\\n    pattern = r\"Type of Test:\\\\s*(.*)\"\\n    match = re.search(pattern, text)\\n    if match:\\n        return [match.group(1)]', 'promptsource': 0, 'runtime': 0.004117012023925781}, 'function_15': {'function': 'def get_type_of_test_field(text: str):\\n    \"\"\"\\n    Function to extract the type of test field.\\n    \"\"\"\\n    pattern = r\\'Type of Test:\\\\s*(.*)\\'\\n    match = re.search(pattern, text)\\n    if match:\\n        return match.group(1)', 'promptsource': 1, 'runtime': 0.004686117172241211}, 'function_16': {'function': 'def get_type_of_test_field(text: str):\\n    \"\"\"\\n    Function to extract the \"type of test field\". \\n    \"\"\"\\n    pattern = r\"Type of Test:\\\\s*(.*)\"\\n    match = re.search(pattern, text)\\n    if match:\\n        return [match.group(1)]', 'promptsource': 0, 'runtime': 0.004110097885131836}, 'function_17': {'function': 'def get_type_of_test_field(text: str):\\n    \"\"\"\\n    Function to extract the type of test field.\\n    \"\"\"\\n    pattern = r\\'Type of Test:\\\\s+(.*)\\'\\n    match = re.search(pattern, text)\\n    if match:\\n        return match.group(1)', 'promptsource': 1}, 'function_18': {'function': 'def get_type_of_test_field(text: str):\\n    \"\"\"\\n    Function to extract the \"type of test field\". \\n    \"\"\"\\n    pattern = r\\'Type of Test or Tests Performed:\\\\s*(.*?)\\\\s*E\\\\.\\'\\n    match = re.search(pattern, text, re.DOTALL)\\n    if match:\\n        return match.group(1).strip().split(\\'\\\\n\\')', 'promptsource': 0}, 'function_19': {'function': 'def get_type_of_test_field(text: str):\\n    \"\"\"\\n    Function to extract the type of test field.\\n    \"\"\"\\n    pattern = r\\'Type of Test or Tests Performed:\\\\s+(.*)\\'\\n    match = re.search(pattern, text)\\n    if match:\\n        return match.group(1)', 'promptsource': 1}}\n",
      "\n",
      "\n",
      "Extracting classification (3 / 16)\n"
     ]
    },
    {
     "name": "stderr",
     "output_type": "stream",
     "text": [
      "\n"
     ]
    },
    {
     "name": "stdout",
     "output_type": "stream",
     "text": [
      "For attribute classification\n",
      "-- Starting with 1144 chunks\n",
      "-- Ending with 115 chunks\n",
      "-- 93 starting chunks in sample files\n",
      "-- 11 chunks in sample files\n"
     ]
    },
    {
     "name": "stderr",
     "output_type": "stream",
     "text": [
      "Extracting attribute classification using LM: 100%|██████████| 10/10 [00:04<00:00,  2.01it/s]\n",
      "Generating functions for attribute classification: 100%|██████████| 10/10 [00:56<00:00,  5.62s/it]\n"
     ]
    },
    {
     "name": "stdout",
     "output_type": "stream",
     "text": [
      "Extraction fraction: 1.0\n",
      "Top 10 scripts:\n",
      "- function_0; Score: {'average_f1': 0.8571428571428571, 'median_f1': 1.0, 'extraction_fraction': 1.0, 'prior_average_f1': 0.8571428571428571, 'prior_median_f1': 1.0}\n",
      "- function_6; Score: {'average_f1': 0.8571428571428571, 'median_f1': 1.0, 'extraction_fraction': 1.0, 'prior_average_f1': 0.8571428571428571, 'prior_median_f1': 1.0}\n",
      "- function_8; Score: {'average_f1': 0.8571428571428571, 'median_f1': 1.0, 'extraction_fraction': 1.0, 'prior_average_f1': 0.8571428571428571, 'prior_median_f1': 1.0}\n",
      "- function_10; Score: {'average_f1': 0.8571428571428571, 'median_f1': 1.0, 'extraction_fraction': 1.0, 'prior_average_f1': 0.8571428571428571, 'prior_median_f1': 1.0}\n",
      "- function_12; Score: {'average_f1': 0.8571428571428571, 'median_f1': 1.0, 'extraction_fraction': 1.0, 'prior_average_f1': 0.8571428571428571, 'prior_median_f1': 1.0}\n",
      "- function_13; Score: {'average_f1': 0.8571428571428571, 'median_f1': 1.0, 'extraction_fraction': 1.0, 'prior_average_f1': 0.8571428571428571, 'prior_median_f1': 1.0}\n",
      "- function_14; Score: {'average_f1': 0.8571428571428571, 'median_f1': 1.0, 'extraction_fraction': 1.0, 'prior_average_f1': 0.8571428571428571, 'prior_median_f1': 1.0}\n",
      "- function_1; Score: {'average_f1': 0.7904761904761906, 'median_f1': 1.0, 'extraction_fraction': 1.0, 'prior_average_f1': 0.7904761904761906, 'prior_median_f1': 1.0}\n",
      "- function_7; Score: {'average_f1': 0.7904761904761906, 'median_f1': 1.0, 'extraction_fraction': 1.0, 'prior_average_f1': 0.7904761904761906, 'prior_median_f1': 1.0}\n",
      "- function_15; Score: {'average_f1': 0.7904761904761906, 'median_f1': 1.0, 'extraction_fraction': 1.0, 'prior_average_f1': 0.7904761904761906, 'prior_median_f1': 1.0}\n",
      "Best script overall: function_0; Score: {'average_f1': 0.8571428571428571, 'median_f1': 1.0, 'extraction_fraction': 1.0, 'prior_average_f1': 0.8571428571428571, 'prior_median_f1': 1.0}\n",
      "Apply the scripts to the data lake and save the metadata. Taking the top 10 scripts per field.\n",
      "Applying function function_0...\n",
      "Applying function function_6...\n",
      "Applying function function_8...\n",
      "Applying function function_10...\n",
      "Applying function function_12...\n",
      "Applying function function_13...\n",
      "Applying function function_14...\n",
      "Applying function function_1...\n",
      "Applying function function_7...\n",
      "Applying function function_15...\n"
     ]
    },
    {
     "name": "stderr",
     "output_type": "stream",
     "text": [
      "Applying key function_0: 100%|██████████| 100/100 [00:00<00:00, 134951.87it/s]\n",
      "Applying key function_6: 100%|██████████| 100/100 [00:00<00:00, 135869.91it/s]\n",
      "Applying key function_8: 100%|██████████| 100/100 [00:00<00:00, 234712.03it/s]\n",
      "Applying key function_10: 100%|██████████| 100/100 [00:00<00:00, 209610.39it/s]\n",
      "Applying key function_12: 100%|██████████| 100/100 [00:00<00:00, 180167.70it/s]\n",
      "Applying key function_13: 100%|██████████| 100/100 [00:00<00:00, 294958.09it/s]\n",
      "Applying key function_14: 100%|██████████| 100/100 [00:00<00:00, 260354.07it/s]\n",
      "Applying key function_1: 100%|██████████| 100/100 [00:00<00:00, 196823.28it/s]\n",
      "Applying key function_7: 100%|██████████| 100/100 [00:00<00:00, 202819.34it/s]\n",
      "Applying key function_15: 100%|██████████| 100/100 [00:00<00:00, 309542.73it/s]\n"
     ]
    },
    {
     "name": "stdout",
     "output_type": "stream",
     "text": [
      "Save path: /Users/xiqiao/Documents/evaporate-clean/data/evaporate/data/fda_510ks/generative_indexes/fda_510ks/dataLakefda_510ks_date01122024_fileSize100_trainSize10_numAggregate10_chunkSize3000_removeTablesFalse_bodyFalse_cascadingFalse_useBackoffTrue_MODELS1_classification_all_extractions.json\n",
      "{'function_0': {'function': 'def get_classification_field(text: str):\\n    classification_field = re.findall(r\"Classification:\\\\s*(.*?)\\\\n\", text)\\n    return classification_field', 'promptsource': 0, 'runtime': 0.011996030807495117}, 'function_1': {'function': 'def get_classification_field(text: str):\\n    \"\"\"\\n    Function to extract the classification field.\\n    \"\"\"\\n    pattern = r\\'Classification:\\\\s*(\\\\w+\\\\s*\\\\w*)\\'\\n    match = re.search(pattern, text)\\n    if match:\\n        return match.group(1)', 'promptsource': 1, 'runtime': 0.013356924057006836}, 'function_2': {'function': 'def get_classification_field(text: str):\\n    classification = re.findall(r\"Classification: (.+)\", text)\\n    return classification', 'promptsource': 0}, 'function_3': {'function': 'def get_classification_field(text: str):\\n    \"\"\"\\n    Function to extract the classification field.\\n    \"\"\"\\n    pattern = r\\'Classification: (.*?)\\\\n\\'\\n    classification_field = re.search(pattern, text)\\n    if classification_field:\\n        return classification_field.group(1)', 'promptsource': 1}, 'function_4': {'function': 'def get_classification_field(text: str):\\n    classification_field = re.findall(r\"Classification:\\\\s*(\\\\w+)\", text)\\n    return classification_field', 'promptsource': 0}, 'function_5': {'function': 'def get_classification_field(text: str):\\n    \"\"\"\\n    Function to extract the classification field.\\n    \"\"\"\\n    pattern = r\\'Classification:\\\\s*(\\\\w+)\\'\\n    match = re.search(pattern, text)\\n    if match:\\n        return match.group(1)', 'promptsource': 1}, 'function_6': {'function': 'def get_classification_field(text: str):\\n    classification_field = re.findall(r\"Classification:\\\\s*(.*?)\\\\n\", text)\\n    return classification_field', 'promptsource': 0, 'runtime': 0.004442930221557617}, 'function_7': {'function': 'def get_classification_field(text: str):\\n    \"\"\"\\n    Function to extract the classification field.\\n    \"\"\"\\n    pattern = r\\'Classification:\\\\s*(\\\\w+\\\\s*\\\\w*)\\'\\n    match = re.search(pattern, text)\\n    if match:\\n        return match.group(1)', 'promptsource': 1, 'runtime': 0.004331827163696289}, 'function_8': {'function': 'def get_classification_field(text: str):\\n    \"\"\"\\n    Function to extract the \"classification field\" from the given text.\\n    \"\"\"\\n    classification_field = re.findall(r\\'Classification:\\\\s*(.*?)\\\\n\\', text)\\n    return classification_field', 'promptsource': 0, 'runtime': 0.01444697380065918}, 'function_9': {'function': 'def get_classification_field(text: str):\\n    \"\"\"\\n    Function to extract the classification field.\\n    \"\"\"\\n    pattern = r\\'Classification:\\\\n(.+?)\\\\n\\'\\n    classification_field = re.search(pattern, text, re.DOTALL)\\n    if classification_field:\\n        return classification_field.group(1)', 'promptsource': 1}, 'function_10': {'function': 'def get_classification_field(text: str):\\n    \"\"\"\\n    Function to extract the \"classification field\" from the given text.\\n    \"\"\"\\n    classification_field = re.findall(r\"Classification:\\\\s*(.*?)\\\\n\", text)\\n    return classification_field', 'promptsource': 0, 'runtime': 0.013889074325561523}, 'function_11': {'function': 'def get_classification_field(text: str):\\n    \"\"\"\\n    Function to extract the classification field.\\n    \"\"\"\\n    pattern = r\\'Classification:\\\\s*(\\\\w+)\\'\\n    match = re.search(pattern, text)\\n    if match:\\n        return match.group(1)', 'promptsource': 1}, 'function_12': {'function': 'def get_classification_field(text: str):\\n    \"\"\"\\n    Function to extract the \"classification field\" from the given text.\\n    \"\"\"\\n    classification_field = re.findall(r\"Classification:\\\\s*(.*?)\\\\n\", text)\\n    return classification_field', 'promptsource': 0, 'runtime': 0.004183053970336914}, 'function_13': {'function': 'def get_classification_field(text: str):\\n    \"\"\"\\n    Function to extract the classification field.\\n    \"\"\"\\n    pattern = r\\'Classification:\\\\s*(.*?)\\\\n\\'\\n    classification_field = re.search(pattern, text)\\n    if classification_field:\\n        return classification_field.group(1)', 'promptsource': 1, 'runtime': 0.013296127319335938}, 'function_14': {'function': 'def get_classification_field(text: str):\\n    \"\"\"\\n    Function to extract the \"classification field\" from the given text.\\n    \"\"\"\\n    classification_field = re.findall(r\"Classification:\\\\s*(.*?)\\\\n\", text)\\n    return classification_field', 'promptsource': 0, 'runtime': 0.003941774368286133}, 'function_15': {'function': 'def get_classification_field(text: str):\\n    \"\"\"\\n    Function to extract the classification field.\\n    \"\"\"\\n    pattern = r\\'Classification:\\\\s*(\\\\w+\\\\s*\\\\w*)\\'\\n    match = re.search(pattern, text)\\n    if match:\\n        return match.group(1)', 'promptsource': 1, 'runtime': 0.0043451786041259766}, 'function_16': {'function': \"def get_classification_field(text: str):\\n    classification_field = re.findall(r'Classification\\\\n(.+)', text)\\n    return classification_field\", 'promptsource': 0}, 'function_17': {'function': 'def get_classification_field(text: str):\\n    \"\"\"\\n    Function to extract the classification field.\\n    \"\"\"\\n    pattern = r\\'Classification\\\\s+(\\\\w+)\\'\\n    match = re.search(pattern, text)\\n    if match:\\n        return match.group(1)', 'promptsource': 1}, 'function_18': {'function': 'def get_classification_field(text: str):\\n    classification_field = re.findall(r\"Classification:\\\\s*(\\\\w+)\", text)\\n    return classification_field', 'promptsource': 0}, 'function_19': {'function': 'def get_classification_field(text: str):\\n    \"\"\"\\n    Function to extract the classification field.\\n    \"\"\"\\n    pattern = r\\'Classification:\\\\s*(\\\\w+)\\'\\n    match = re.search(pattern, text)\\n    if match:\\n        return match.group(1)', 'promptsource': 1}, 'function_20': {'function': \"def get_classification_field(text: str):\\n    classification_field = re.findall(r'IEC \\\\d{4}-\\\\d{1}:.*', text)\\n    return classification_field\", 'promptsource': 0}, 'function_21': {'function': 'def get_classification_field(text: str):\\n    \"\"\"\\n    Function to extract the classification field.\\n    \"\"\"\\n    pattern = r\\'Equipment classification and requirements\\'\\n    match = re.search(pattern, text)\\n    if match:\\n        classification_field = match.group()\\n        return classification_field', 'promptsource': 1}}\n",
      "\n",
      "\n",
      "Extracting product code (4 / 16)\n",
      "For attribute product code\n",
      "-- Starting with 1144 chunks\n",
      "-- Ending with 111 chunks\n",
      "-- 93 starting chunks in sample files\n",
      "-- 10 chunks in sample files\n"
     ]
    },
    {
     "name": "stderr",
     "output_type": "stream",
     "text": [
      "Extracting attribute product code using LM: 100%|██████████| 10/10 [00:05<00:00,  1.91it/s]\n",
      "Generating functions for attribute product code: 100%|██████████| 10/10 [00:42<00:00,  4.24s/it]\n"
     ]
    },
    {
     "name": "stdout",
     "output_type": "stream",
     "text": [
      "Extraction fraction: 1.0\n",
      "Apply the scripts to the data lake and save the metadata. Taking the top 10 scripts per field.\n"
     ]
    },
    {
     "name": "stderr",
     "output_type": "stream",
     "text": [
      "Applying key default: 100%|██████████| 100/100 [00:00<00:00, 213668.06it/s]\n"
     ]
    },
    {
     "name": "stdout",
     "output_type": "stream",
     "text": [
      "Save path: /Users/xiqiao/Documents/evaporate-clean/data/evaporate/data/fda_510ks/generative_indexes/fda_510ks/dataLakefda_510ks_date01122024_fileSize100_trainSize10_numAggregate10_chunkSize3000_removeTablesFalse_bodyFalse_cascadingFalse_useBackoffTrue_MODELS1_product_code_all_extractions.json\n",
      "{'function_0': {'function': 'def get_product_code_field(text: str):\\n    \"\"\"\\n    Function to extract the \"product code field\". \\n    \"\"\"\\n    pattern = r\"Product code:\\\\s*(\\\\w+)\"\\n    matches = re.findall(pattern, text)\\n    return matches', 'promptsource': 0}, 'function_1': {'function': 'def get_product_code_field(text: str):\\n    \"\"\"\\n    Function to extract the product code field.\\n    \"\"\"\\n    pattern = r\\'Product code:\\\\s*(\\\\w+ - .+)\\'\\n    match = re.search(pattern, text)\\n    if match:\\n        return match.group(1)', 'promptsource': 1}, 'function_2': {'function': 'def get_product_code_field(text: str):\\n    \"\"\"\\n    Function to extract the \"product code field\" from the given text.\\n    \"\"\"\\n    product_code_field = re.findall(r\\'Product code: (\\\\w+)\\', text)\\n    return product_code_field', 'promptsource': 0}, 'function_3': {'function': 'def get_product_code_field(text: str):\\n    \"\"\"\\n    Function to extract the product code field.\\n    \"\"\"\\n    pattern = r\\'Product code: (\\\\w+)\\'\\n    match = re.search(pattern, text)\\n    if match:\\n        return match.group(1)', 'promptsource': 1}, 'function_4': {'function': 'def get_product_code_field(text: str):\\n    \"\"\"\\n    Function to extract the \"product code field\" from the given text.\\n    \"\"\"\\n    product_code_field = re.findall(r\\'Product code:\\\\s*(\\\\w+)\\', text)\\n    return product_code_field', 'promptsource': 0}, 'function_5': {'function': 'def get_product_code_field(text: str):\\n    \"\"\"\\n    Function to extract the product code field.\\n    \"\"\"\\n    pattern = r\\'Product code:\\\\s*(\\\\w+)\\'\\n    match = re.search(pattern, text)\\n    if match:\\n        return match.group(1)', 'promptsource': 1}, 'function_6': {'function': \"def get_product_code_field(text: str):\\n    product_code_field = re.findall(r'Product code:\\\\s*(\\\\w+)', text)\\n    return product_code_field\", 'promptsource': 0}, 'function_7': {'function': 'def get_product_code_field(text: str):\\n    \"\"\"\\n    Function to extract the product code field.\\n    \"\"\"\\n    pattern = r\\'Product code:\\\\s*(\\\\w+)\\'\\n    match = re.search(pattern, text)\\n    if match:\\n        return match.group(1)', 'promptsource': 1}, 'function_8': {'function': 'def get_product_code_field(text: str):\\n    \"\"\"\\n    Function to extract the \"product code field\" from the given text.\\n    \"\"\"\\n    product_code_field = re.findall(r\\'Product code:\\\\s*(\\\\w+)\\', text)\\n    return product_code_field', 'promptsource': 0}, 'function_9': {'function': 'def get_product_code_field(text: str):\\n    \"\"\"\\n    Function to extract the product code field.\\n    \"\"\"\\n    pattern = r\\'Product code:\\\\n\\\\n(.*)\\'\\n    match = re.search(pattern, text)\\n    if match:\\n        return match.group(1)', 'promptsource': 1}, 'function_10': {'function': 'def get_product_code_field(text: str):\\n    \"\"\"\\n    Function to extract the \"product code field\". \\n    \"\"\"\\n    product_code = re.findall(r\\'Product code:\\\\s*(\\\\w+)\\', text)\\n    return product_code', 'promptsource': 0}, 'function_11': {'function': 'def get_product_code_field(text: str):\\n    \"\"\"\\n    Function to extract the product code field.\\n    \"\"\"\\n    pattern = r\\'Product code:\\\\s*(\\\\w+[\\\\s\\\\w]*)\\'\\n    match = re.search(pattern, text)\\n    if match:\\n        return match.group(1)', 'promptsource': 1}, 'function_12': {'function': 'def get_product_code_field(text: str):\\n    \"\"\"\\n    Function to extract the \"product code field\" from the given text.\\n    \"\"\"\\n    pattern = r\"Product code:\\\\s*(\\\\w+)\"\\n    matches = re.findall(pattern, text)\\n    return matches', 'promptsource': 0}, 'function_13': {'function': 'def get_product_code_field(text: str):\\n    \"\"\"\\n    Function to extract the product code field.\\n    \"\"\"\\n    pattern = r\\'Product code:\\\\s*(\\\\w+):\\'\\n    match = re.search(pattern, text)\\n    if match:\\n        return match.group(1)', 'promptsource': 1}, 'function_14': {'function': 'def get_product_code_field(text: str):\\n    \"\"\"\\n    Function to extract the \"product code field\" from the given text.\\n    \"\"\"\\n    product_code_field = re.findall(r\\'Product code:\\\\s*(\\\\w+)\\', text)\\n    return product_code_field', 'promptsource': 0}, 'function_15': {'function': 'def get_product_code_field(text: str):\\n    \"\"\"\\n    Function to extract the product code field.\\n    \"\"\"\\n    pattern = r\\'Product code:\\\\s*(\\\\w+)\\'\\n    match = re.search(pattern, text)\\n    if match:\\n        return match.group(1)', 'promptsource': 1}, 'function_16': {'function': 'def get_product_code_field(text: str):\\n    \"\"\"\\n    Function to extract the \"product code field\". \\n    \"\"\"\\n    product_code_list = re.findall(r\\'Product Code\\\\n(.+)\\', text)\\n    return product_code_list', 'promptsource': 0}, 'function_17': {'function': 'def get_product_code_field(text: str):\\n    \"\"\"\\n    Function to extract the product code field.\\n    \"\"\"\\n    pattern = r\\'Product Code\\\\s+(\\\\w+)\\'\\n    match = re.search(pattern, text)\\n    if match:\\n        return match.group(1)', 'promptsource': 1}, 'function_18': {'function': 'def get_product_code_field(text: str):\\n    \"\"\"\\n    Function to extract the \"product code field\" from the given text.\\n    \"\"\"\\n    product_code_field = re.findall(r\\'Product code:\\\\s*(\\\\w+)\\', text)\\n    return product_code_field', 'promptsource': 0}, 'function_19': {'function': 'def get_product_code_field(text: str):\\n    \"\"\"\\n    Function to extract the product code field.\\n    \"\"\"\\n    pattern = r\\'Product code:\\\\s*(\\\\w+)\\'\\n    match = re.search(pattern, text)\\n    if match:\\n        return match.group(1)', 'promptsource': 1}}\n",
      "\n",
      "\n",
      "Extracting panel (5 / 16)\n",
      "For attribute panel\n",
      "-- Starting with 1144 chunks\n",
      "-- Ending with 340 chunks\n",
      "-- 93 starting chunks in sample files\n",
      "-- 15 chunks in sample files\n"
     ]
    },
    {
     "name": "stderr",
     "output_type": "stream",
     "text": [
      "Extracting attribute panel using LM: 100%|██████████| 10/10 [00:08<00:00,  1.12it/s]\n",
      "Generating functions for attribute panel: 100%|██████████| 10/10 [00:52<00:00,  5.24s/it]\n"
     ]
    },
    {
     "name": "stdout",
     "output_type": "stream",
     "text": [
      "Extraction fraction: 1.0\n",
      "Top 10 scripts:\n",
      "- function_15; Score: {'average_f1': 0.5, 'median_f1': 0.5, 'extraction_fraction': 1.0, 'prior_average_f1': 0.5, 'prior_median_f1': 0.5}\n",
      "Best script overall: function_15; Score: {'average_f1': 0.5, 'median_f1': 0.5, 'extraction_fraction': 1.0, 'prior_average_f1': 0.5, 'prior_median_f1': 0.5}\n",
      "Apply the scripts to the data lake and save the metadata. Taking the top 10 scripts per field.\n",
      "Applying function function_15...\n"
     ]
    },
    {
     "name": "stderr",
     "output_type": "stream",
     "text": [
      "Applying key function_15: 100%|██████████| 100/100 [00:00<00:00, 214104.34it/s]\n"
     ]
    },
    {
     "name": "stdout",
     "output_type": "stream",
     "text": [
      "Save path: /Users/xiqiao/Documents/evaporate-clean/data/evaporate/data/fda_510ks/generative_indexes/fda_510ks/dataLakefda_510ks_date01122024_fileSize100_trainSize10_numAggregate10_chunkSize3000_removeTablesFalse_bodyFalse_cascadingFalse_useBackoffTrue_MODELS1_panel_all_extractions.json\n",
      "{'function_0': {'function': 'def get_panel_field(text: str):\\n    \"\"\"\\n    Function to extract the \"panel field\". \\n    \"\"\"\\n    panel_field = re.findall(r\\'Panel:\\\\s*(\\\\w+)\\', text)\\n    return panel_field', 'promptsource': 0}, 'function_1': {'function': 'def get_panel_field(text: str):\\n    \"\"\"\\n    Function to extract the panel field.\\n    \"\"\"\\n    pattern = r\\'Panel:\\\\s*(\\\\w+)\\'\\n    match = re.search(pattern, text)\\n    if match:\\n        return match.group(1)', 'promptsource': 1}, 'function_2': {'function': 'def get_panel_field(text: str):\\n    \"\"\"\\n    Function to extract the \"panel field\" from the given text.\\n    \"\"\"\\n    panel_field = re.findall(r\\'Panel: (\\\\w+)\\', text)\\n    return panel_field', 'promptsource': 0}, 'function_3': {'function': 'def get_panel_field(text: str):\\n    \"\"\"\\n    Function to extract the panel field.\\n    \"\"\"\\n    pattern = r\\'Panel:\\\\s*(\\\\w+)\\'\\n    match = re.search(pattern, text)\\n    if match:\\n        return match.group(1)', 'promptsource': 1}, 'function_4': {'function': 'def get_panel_field(text: str):\\n    \"\"\"\\n    Function to extract the \"panel field\" from the given text.\\n    \"\"\"\\n    panel_field = re.findall(r\\'Panel Field:(.*?)\\\\n\\', text, re.DOTALL)\\n    return panel_field', 'promptsource': 0}, 'function_5': {'function': 'def get_panel_field(text: str):\\n    \"\"\"\\n    Function to extract the panel field.\\n    \"\"\"\\n    pattern = r\\'Panel\\\\s+(\\\\w+)\\'\\n    match = re.search(pattern, text)\\n    if match:\\n        return match.group(1)', 'promptsource': 1}, 'function_6': {'function': 'def get_panel_field(text: str):\\n    \"\"\"\\n    Function to extract the \"panel field\". \\n    \"\"\"\\n    panel_field = re.findall(r\\'Panel:\\\\s+(\\\\d+)\\', text)\\n    return panel_field', 'promptsource': 0}, 'function_7': {'function': 'def get_panel_field(text: str):\\n    \"\"\"\\n    Function to extract the panel field.\\n    \"\"\"\\n    pattern = r\\'Panel:\\\\n(\\\\d+) –\\'\\n    match = re.search(pattern, text)\\n    if match:\\n        panel_field = match.group(1)\\n        return panel_field', 'promptsource': 1}, 'function_8': {'function': 'def get_panel_field(text: str):\\n    \"\"\"\\n    Function to extract the \"panel field\". \\n    \"\"\"\\n    panel_field = re.findall(r\\'Panel:(.*?)\\\\n\\', text, re.DOTALL)\\n    return panel_field', 'promptsource': 0}, 'function_9': {'function': 'def get_panel_field(text: str):\\n    \"\"\"\\n    Function to extract the panel field.\\n    \"\"\"\\n    pattern = r\\'Panel:\\\\s*(\\\\w+)\\'\\n    match = re.search(pattern, text)\\n    if match:\\n        return match.group(1)', 'promptsource': 1}, 'function_10': {'function': \"def get_panel_field(text: str):\\n    panel_field = re.findall(r'Panel:\\\\s*(\\\\w+)', text)\\n    return panel_field\", 'promptsource': 0}, 'function_11': {'function': 'def get_panel_field(text: str):\\n    \"\"\"\\n    Function to extract the panel field.\\n    \"\"\"\\n    pattern = r\\'Panel:\\\\n(.*)\\'\\n    match = re.search(pattern, text)\\n    if match:\\n        return match.group(1)', 'promptsource': 1}, 'function_12': {'function': 'def get_panel_field(text: str):\\n    \"\"\"\\n    Function to extract the \"panel field\" from the given text.\\n    \"\"\"\\n    panel_field = re.findall(r\\'Panel:\\\\n\\\\((.*?)\\\\)\\', text)\\n    return panel_field', 'promptsource': 0}, 'function_13': {'function': 'def get_panel_field(text: str):\\n    \"\"\"\\n    Function to extract the panel field.\\n    \"\"\"\\n    pattern = r\\'Panel:\\\\n\\\\((\\\\d+)\\\\)\\'\\n    match = re.search(pattern, text)\\n    if match:\\n        return match.group(1)', 'promptsource': 1}, 'function_14': {'function': 'def get_panel_field(text: str):\\n    \"\"\"\\n    Function to extract the \"panel field\" from the given text.\\n    \"\"\"\\n    panel_field = re.findall(r\\'Panel:\\\\s*(\\\\w+)\\', text)\\n    return panel_field', 'promptsource': 0}, 'function_15': {'function': 'def get_panel_field(text: str):\\n    \"\"\"\\n    Function to extract the panel field.\\n    \"\"\"\\n    pattern = r\\'Panel:\\\\s*\\\\n(.*)\\'\\n    match = re.search(pattern, text)\\n    if match:\\n        return match.group(1)', 'promptsource': 1, 'runtime': 0.013415098190307617}, 'function_16': {'function': \"def get_panel_field(text: str):\\n    panel_field = re.findall(r'Panel: (.+)', text)\\n    return panel_field\", 'promptsource': 0}, 'function_17': {'function': 'def get_panel_field(text: str):\\n    \"\"\"\\n    Function to extract the panel field.\\n    \"\"\"\\n    pattern = r\\'LP\\\\d|MP\\\\d|TN\\\\d\\'\\n    panels = re.findall(pattern, text)\\n    return panels', 'promptsource': 1}, 'function_18': {'function': 'def get_panel_field(text: str):\\n    \"\"\"\\n    Function to extract the \"panel field\" from the given text.\\n    \"\"\"\\n    panel_field = re.findall(r\\'Panel:\\\\n(.+)\\', text)\\n    return panel_field', 'promptsource': 0}, 'function_19': {'function': 'def get_panel_field(text: str):\\n    \"\"\"\\n    Function to extract the panel field.\\n    \"\"\"\\n    pattern = r\\'Panel:\\\\n(\\\\d+) -\\'\\n    match = re.search(pattern, text)\\n    if match:\\n        return match.group(1)', 'promptsource': 1}, 'function_20': {'function': 'def get_panel_field(text: str):\\n    \"\"\"\\n    Function to extract the \"panel field\" from the given text.\\n    \"\"\"\\n    panel_field = re.findall(r\\'Panel\\\\n(.+)\\', text)\\n    return panel_field', 'promptsource': 0}, 'function_21': {'function': 'def get_panel_field(text: str):\\n    \"\"\"\\n    Function to extract the panel field.\\n    \"\"\"\\n    pattern = r\\'Control Panel\\\\n\\\\n(.+?)\\\\n\\'\\n    match = re.search(pattern, text, re.DOTALL)\\n    if match:\\n        panel_field = match.group(1)\\n        return panel_field.strip()', 'promptsource': 1}, 'function_22': {'function': 'def get_panel_field(text: str):\\n    \"\"\"\\n    Function to extract the \"panel field\" from the given text.\\n    \"\"\"\\n    panel_field = re.findall(r\\'Panel:\\\\s+(\\\\d+)\\', text)\\n    return panel_field', 'promptsource': 0}, 'function_23': {'function': 'def get_panel_field(text: str):\\n    \"\"\"\\n    Function to extract the panel field.\\n    \"\"\"\\n    pattern = r\\'Panel:\\\\s+(\\\\d+)\\'\\n    match = re.search(pattern, text)\\n    if match:\\n        return match.group(1)', 'promptsource': 1}, 'function_24': {'function': 'def get_panel_field(text: str):\\n    \"\"\"\\n    Function to extract the \"panel field\". \\n    \"\"\"\\n    panel_field = re.findall(r\\'Panel\\\\n(.+)\\', text)\\n    return panel_field', 'promptsource': 0}, 'function_25': {'function': 'def get_panel_field(text: str):\\n    \"\"\"\\n    Function to extract the panel field.\\n    \"\"\"\\n    pattern = r\\'Panel\\\\s+(\\\\w+)\\'\\n    match = re.search(pattern, text)\\n    if match:\\n        return match.group(1)', 'promptsource': 1}, 'function_26': {'function': 'def get_panel_field(text: str):\\n    \"\"\"\\n    Function to extract the \"panel field\". \\n    \"\"\"\\n    panel_field = re.findall(r\\'Panel:\\\\s*(\\\\w+)\\', text)\\n    return panel_field', 'promptsource': 0}, 'function_27': {'function': 'def get_panel_field(text: str):\\n    \"\"\"\\n    Function to extract the panel field.\\n    \"\"\"\\n    pattern = r\\'Panel:\\\\s*(\\\\w+)\\'\\n    match = re.search(pattern, text)\\n    if match:\\n        return match.group(1)', 'promptsource': 1}, 'function_28': {'function': 'def get_panel_field(text: str):\\n    \"\"\"\\n    Function to extract the \"panel field\". \\n    \"\"\"\\n    panel_field = re.findall(r\\'Panel\\\\n(.+)\\', text)\\n    return panel_field', 'promptsource': 0}, 'function_29': {'function': 'def get_panel_field(text: str):\\n    \"\"\"\\n    Function to extract the panel field.\\n    \"\"\"\\n    pattern = r\\'Panel\\\\n(.+?)\\\\n\\'\\n    panel_field = re.search(pattern, text, re.DOTALL)\\n    if panel_field:\\n        return panel_field.group(1)', 'promptsource': 1}}\n",
      "\n",
      "\n",
      "Extracting indications for use (6 / 16)\n",
      "For attribute indications for use\n",
      "-- Starting with 1144 chunks\n",
      "-- Ending with 174 chunks\n",
      "-- 93 starting chunks in sample files\n",
      "-- 16 chunks in sample files\n"
     ]
    },
    {
     "name": "stderr",
     "output_type": "stream",
     "text": [
      "Extracting attribute indications for use using LM: 100%|██████████| 10/10 [00:16<00:00,  1.66s/it]\n",
      "Generating functions for attribute indications for use: 100%|██████████| 10/10 [01:09<00:00,  6.93s/it]\n"
     ]
    },
    {
     "name": "stdout",
     "output_type": "stream",
     "text": [
      "Extraction fraction: 1.0\n",
      "Top 10 scripts:\n",
      "- function_6; Score: {'average_f1': 0.5145686238796411, 'median_f1': 0.43068625665310745, 'extraction_fraction': 1.0, 'prior_average_f1': 0.5145686238796411, 'prior_median_f1': 0.43068625665310745}\n",
      "Best script overall: function_6; Score: {'average_f1': 0.5145686238796411, 'median_f1': 0.43068625665310745, 'extraction_fraction': 1.0, 'prior_average_f1': 0.5145686238796411, 'prior_median_f1': 0.43068625665310745}\n",
      "Apply the scripts to the data lake and save the metadata. Taking the top 10 scripts per field.\n",
      "Applying function function_6...\n"
     ]
    },
    {
     "name": "stderr",
     "output_type": "stream",
     "text": [
      "Applying key function_6: 100%|██████████| 100/100 [00:00<00:00, 136222.93it/s]\n"
     ]
    },
    {
     "name": "stdout",
     "output_type": "stream",
     "text": [
      "Save path: /Users/xiqiao/Documents/evaporate-clean/data/evaporate/data/fda_510ks/generative_indexes/fda_510ks/dataLakefda_510ks_date01122024_fileSize100_trainSize10_numAggregate10_chunkSize3000_removeTablesFalse_bodyFalse_cascadingFalse_useBackoffTrue_MODELS1_indications_for_use_all_extractions.json\n",
      "{'function_0': {'function': 'def get_indications_for_use_field(text: str):\\n    \"\"\"\\n    Function to extract the \"indications for use field\". \\n    \"\"\"\\n    indications_for_use = re.findall(r\\'(?<=2\\\\. Indication\\\\(s\\\\) for use:\\\\n\\\\n)(.*?)(?=\\\\n\\\\n3\\\\. Special conditions for use statement\\\\(s\\\\):)\\', text, re.DOTALL)\\n    return indications_for_use', 'promptsource': 0}, 'function_1': {'function': 'def get_indications_for_use_field(text: str):\\n    \"\"\"\\n    Function to extract the indications for use field.\\n    \"\"\"\\n    pattern = r\\'Indication\\\\(s\\\\) for use:\\\\n\\\\n(.+?)\\\\n\\'\\n    match = re.search(pattern, text, re.DOTALL)\\n    if match:\\n        return match.group(1)', 'promptsource': 1}, 'function_2': {'function': 'def get_indications_for_use_field(text: str):\\n    \"\"\"\\n    Function to extract the \"indications for use field\". \\n    \"\"\"\\n    indications_for_use = re.findall(r\\'Indications for Use:(.*?)\\\\n\\', text, re.DOTALL)\\n    return indications_for_use', 'promptsource': 0}, 'function_3': {'function': 'def get_indications_for_use_field(text: str):\\n    \"\"\"\\n    Function to extract the indications for use field.\\n    \"\"\"\\n    pattern = r\\'Indications for Use:(.*?)\\\\n\\'\\n    indications = re.search(pattern, text, re.DOTALL)\\n    if indications:\\n        return indications.group(1).strip()', 'promptsource': 1}, 'function_4': {'function': 'def get_indications_for_use_field(text: str):\\n    \"\"\"\\n    Function to extract the \"indications for use field\". \\n    \"\"\"\\n    indications_for_use = re.findall(r\\'Indications for Use\\\\n(.+)\\', text)\\n    return indications_for_use', 'promptsource': 0}, 'function_5': {'function': 'def get_indications_for_use_field(text: str):\\n    \"\"\"\\n    Function to extract the indications for use field.\\n    \"\"\"\\n    pattern = r\\'Indications for Use\\\\n(.+?)\\\\n\\'\\n    match = re.search(pattern, text, re.DOTALL)\\n    if match:\\n        return match.group(1).strip()', 'promptsource': 1}, 'function_6': {'function': 'def get_indications_for_use_field(text: str):\\n    \"\"\"\\n    Function to extract the \"indications for use field\". \\n    \"\"\"\\n    indications_for_use = re.findall(r\\'2\\\\. Indication\\\\(s\\\\) for use:(.*?)3\\', text, re.DOTALL)\\n    return indications_for_use', 'promptsource': 0, 'runtime': 0.013470888137817383}, 'function_7': {'function': 'def get_indications_for_use_field(text: str):\\n    \"\"\"\\n    Function to extract the indications for use field.\\n    \"\"\"\\n    pattern = r\\'Indication\\\\(s\\\\) for use:(.*?)Special conditions for use statement\\\\(s\\\\):\\'\\n    indications_for_use_field = re.search(pattern, text, re.DOTALL)\\n    if indications_for_use_field:\\n        return indications_for_use_field.group(1).strip()', 'promptsource': 1}, 'function_8': {'function': 'def get_indications_for_use_field(text: str):\\n    \"\"\"\\n    Function to extract the \"indications for use field\" from the given text.\\n    \"\"\"\\n    indications_for_use = re.findall(r\\'Indications for Use\\\\n(.+)\\', text)\\n    return indications_for_use', 'promptsource': 0}, 'function_9': {'function': 'def get_indications_for_use_field(text: str):\\n    \"\"\"\\n    Function to extract the indications for use field.\\n    \"\"\"\\n    pattern = r\\'Indications for Use:(.*?)\\\\n\\'\\n    indications = re.search(pattern, text, re.DOTALL)\\n    if indications:\\n        return indications.group(1).strip()', 'promptsource': 1}, 'function_10': {'function': \"def get_indications_for_use_field(text: str):\\n    indications_for_use = re.findall(r'(?<=H\\\\. Intended Use:\\\\n\\\\n1\\\\. Intended use\\\\(s\\\\):\\\\n)(.*?)(?=\\\\n\\\\n2\\\\. Indication\\\\(s\\\\) for use:)', text, re.DOTALL)\\n    return indications_for_use\", 'promptsource': 0}, 'function_11': {'function': 'def get_indications_for_use_field(text: str):\\n    \"\"\"\\n    Function to extract the indications for use field.\\n    \"\"\"\\n    pattern = r\\'Indication\\\\(s\\\\) for use:\\\\n(.+?)\\\\n\\'\\n    match = re.search(pattern, text, re.DOTALL)\\n    if match:\\n        return match.group(1).strip()', 'promptsource': 1}, 'function_12': {'function': 'def get_indications_for_use_field(text: str):\\n    \"\"\"\\n    Function to extract the \"indications for use field\". \\n    \"\"\"\\n    indications_for_use = re.findall(r\\'Indications for Use:(.*?)\\\\n\\', text, re.DOTALL)\\n    return indications_for_use', 'promptsource': 0}, 'function_13': {'function': 'def get_indications_for_use_field(text: str):\\n    \"\"\"\\n    Function to extract the indications for use field.\\n    \"\"\"\\n    pattern = r\\'Indications for Use:(.*?)\\\\n\\'\\n    indications = re.search(pattern, text, re.DOTALL)\\n    if indications:\\n        return indications.group(1).strip()', 'promptsource': 1}, 'function_14': {'function': 'def get_indications_for_use_field(text: str):\\n    \"\"\"\\n    Function to extract the \"indications for use field\". \\n    \"\"\"\\n    indications_for_use = re.findall(r\\'Indication\\\\(s\\\\) for use: (.+)\\', text)\\n    return indications_for_use', 'promptsource': 0}, 'function_15': {'function': 'def get_indications_for_use_field(text: str):\\n    \"\"\"\\n    Function to extract the indications for use field.\\n    \"\"\"\\n    pattern = r\\'Indication\\\\(s\\\\) for use:\\\\n(.+?)\\\\n\\'\\n    match = re.search(pattern, text, re.DOTALL)\\n    if match:\\n        return match.group(1)', 'promptsource': 1}, 'function_16': {'function': \"def get_indications_for_use_field(text: str):\\n    indications = re.findall(r'(?<=2\\\\. Indication\\\\(s\\\\) for use:\\\\n\\\\n)(.*?)(?=\\\\n\\\\n3\\\\. Special conditions for use statement\\\\(s\\\\):)', text, re.DOTALL)\\n    return indications\", 'promptsource': 0}, 'function_17': {'function': 'def get_indications_for_use_field(text: str):\\n    \"\"\"\\n    Function to extract the indications for use field.\\n    \"\"\"\\n    pattern = r\\'Indication\\\\(s\\\\) for use:(.*?)Special conditions for use statement\\\\(s\\\\):\\'\\n    indications_for_use_field = re.search(pattern, text, re.DOTALL)\\n    if indications_for_use_field:\\n        return indications_for_use_field.group(1).strip()', 'promptsource': 1}, 'function_18': {'function': 'def get_indications_for_use_field(text: str):\\n    \"\"\"\\n    Function to extract the \"indications for use field\" from the given text.\\n    \"\"\"\\n    indications_for_use = re.findall(r\\'Indications for Use:(.*?)J\\\\. Substantial Equivalence Information:\\', text, re.DOTALL)\\n    return indications_for_use', 'promptsource': 0}, 'function_19': {'function': 'def get_indications_for_use_field(text: str):\\n    \"\"\"\\n    Function to extract the indications for use field.\\n    \"\"\"\\n    pattern = r\\'Indications for Use:(.*?)J\\\\. Substantial Equivalence Information:\\'\\n    indications_for_use_field = re.search(pattern, text, re.DOTALL)\\n    if indications_for_use_field:\\n        return indications_for_use_field.group(1).strip()', 'promptsource': 1}, 'function_20': {'function': 'def get_indications_for_use_field(text: str):\\n    \"\"\"\\n    Function to extract the \"indications for use field\" from the given text.\\n    \"\"\"\\n    indications_for_use = re.findall(r\\'Indication\\\\(s\\\\) for use:\\\\n(.+)\\', text)\\n    return indications_for_use', 'promptsource': 0}, 'function_21': {'function': 'def get_indications_for_use_field(text: str):\\n    \"\"\"\\n    Function to extract the indications for use field.\\n    \"\"\"\\n    pattern = r\\'Indication\\\\(s\\\\) for use:(.*?)Special conditions for use statement\\\\(s\\\\):\\'\\n    indications_for_use_field = re.search(pattern, text, re.DOTALL)\\n    if indications_for_use_field:\\n        return indications_for_use_field.group(1).strip()', 'promptsource': 1}, 'function_22': {'function': 'def get_indications_for_use_field(text: str):\\n    \"\"\"\\n    Function to extract the \"indications for use field\". \\n    \"\"\"\\n    indications_for_use = re.findall(r\\'Intended Use\\\\n(.+?)\\\\n\\', text)\\n    return indications_for_use', 'promptsource': 0}, 'function_23': {'function': 'def get_indications_for_use_field(text: str):\\n    \"\"\"\\n    Function to extract the indications for use field.\\n    \"\"\"\\n    pattern = r\\'Indications for Use\\\\n\\\\n(.+?)\\\\n\\\\n\\'\\n    indications_for_use_field = re.search(pattern, text, re.DOTALL)\\n    if indications_for_use_field:\\n        return indications_for_use_field.group(1)', 'promptsource': 1}, 'function_24': {'function': 'def get_indications_for_use_field(text: str):\\n    \"\"\"\\n    Function to extract the \"indications for use field\". \\n    \"\"\"\\n    indications_for_use = re.findall(r\\'Indication\\\\(s\\\\) for use:(.*?)\\\\n\\', text, re.DOTALL)\\n    return indications_for_use', 'promptsource': 0}, 'function_25': {'function': 'def get_indications_for_use_field(text: str):\\n    \"\"\"\\n    Function to extract the indications for use field.\\n    \"\"\"\\n    pattern = r\\'Indication\\\\(s\\\\) for use:\\\\n(.*?)\\\\n\\'\\n    match = re.search(pattern, text, re.DOTALL)\\n    if match:\\n        return match.group(1).strip()', 'promptsource': 1}, 'function_26': {'function': \"def get_indications_for_use_field(text: str):\\n    indications_for_use = re.findall(r'Indications for Use\\\\n(.+)', text)\\n    return indications_for_use\", 'promptsource': 0}, 'function_27': {'function': 'def get_indications_for_use_field(text: str):\\n    \"\"\"\\n    Function to extract the indications for use field.\\n    \"\"\"\\n    pattern = r\\'Indications for Use\\\\n(.+?)\\\\n\\'\\n    match = re.search(pattern, text, re.DOTALL)\\n    if match:\\n        return match.group(1).strip()', 'promptsource': 1}, 'function_28': {'function': 'def get_indications_for_use_field(text: str):\\n    \"\"\"\\n    Function to extract the \"indications for use field\". \\n    \"\"\"\\n    indications_for_use = re.findall(r\\'(?<=indicated for use with the instrument\\\\.\\\\n\\\\n)(.*?)(?=\\\\n\\\\n)\\', text, re.DOTALL)\\n    return indications_for_use', 'promptsource': 0}, 'function_29': {'function': 'def get_indications_for_use_field(text: str):\\n    \"\"\"\\n    Function to extract the indications for use field.\\n    \"\"\"\\n    pattern = r\\'indicated for use with the instrument\\\\.\\'\\n    match = re.search(pattern, text)\\n    if match:\\n        start_index = match.start()\\n        end_index = text.find(\\'\\\\n\\', start_index)\\n        indications_for_use_field = text[start_index:end_index].strip()\\n        return indications_for_use_field', 'promptsource': 1}, 'function_30': {'function': \"def get_indications_for_use_field(text: str):\\n    indications = re.findall(r'Indication\\\\(s\\\\) for use:(.*?)Special conditions for use statement\\\\(s\\\\):', text, re.DOTALL)\\n    return indications\", 'promptsource': 0}, 'function_31': {'function': 'def get_indications_for_use_field(text: str):\\n    \"\"\"\\n    Function to extract the indications for use field.\\n    \"\"\"\\n    pattern = r\\'Indication\\\\(s\\\\) for use:(.*?)Special conditions for use statement\\\\(s\\\\):\\'\\n    indications_field = re.search(pattern, text, re.DOTALL)\\n    if indications_field:\\n        return indications_field.group(1).strip()', 'promptsource': 1}}\n",
      "\n",
      "\n",
      "Extracting predicate device name (7 / 16)\n",
      "For attribute predicate device name\n",
      "-- Starting with 1144 chunks\n",
      "-- Ending with 100 chunks\n",
      "-- 93 starting chunks in sample files\n",
      "-- 10 chunks in sample files\n"
     ]
    },
    {
     "name": "stderr",
     "output_type": "stream",
     "text": [
      "Extracting attribute predicate device name using LM: 100%|██████████| 10/10 [00:07<00:00,  1.39it/s]\n",
      "Generating functions for attribute predicate device name: 100%|██████████| 10/10 [00:49<00:00,  4.95s/it]\n"
     ]
    },
    {
     "name": "stdout",
     "output_type": "stream",
     "text": [
      "Extraction fraction: 0.9\n",
      "Top 10 scripts:\n",
      "- function_3; Score: {'average_f1': 0.7066666666666667, 'median_f1': 1.0, 'extraction_fraction': 0.9, 'prior_average_f1': 0.7066666666666667, 'prior_median_f1': 1.0}\n",
      "- function_5; Score: {'average_f1': 0.7066666666666667, 'median_f1': 1.0, 'extraction_fraction': 0.9, 'prior_average_f1': 0.7066666666666667, 'prior_median_f1': 1.0}\n",
      "- function_8; Score: {'average_f1': 0.7066666666666667, 'median_f1': 1.0, 'extraction_fraction': 0.9, 'prior_average_f1': 0.7066666666666667, 'prior_median_f1': 1.0}\n",
      "- function_9; Score: {'average_f1': 0.7066666666666667, 'median_f1': 1.0, 'extraction_fraction': 0.9, 'prior_average_f1': 0.7066666666666667, 'prior_median_f1': 1.0}\n",
      "- function_11; Score: {'average_f1': 0.7066666666666667, 'median_f1': 1.0, 'extraction_fraction': 0.9, 'prior_average_f1': 0.7066666666666667, 'prior_median_f1': 1.0}\n",
      "- function_12; Score: {'average_f1': 0.7066666666666667, 'median_f1': 1.0, 'extraction_fraction': 0.9, 'prior_average_f1': 0.7066666666666667, 'prior_median_f1': 1.0}\n",
      "- function_13; Score: {'average_f1': 0.7066666666666667, 'median_f1': 1.0, 'extraction_fraction': 0.9, 'prior_average_f1': 0.7066666666666667, 'prior_median_f1': 1.0}\n",
      "- function_4; Score: {'average_f1': 0.6666666666666666, 'median_f1': 1.0, 'extraction_fraction': 0.9, 'prior_average_f1': 0.6666666666666666, 'prior_median_f1': 1.0}\n",
      "Best script overall: function_3; Score: {'average_f1': 0.7066666666666667, 'median_f1': 1.0, 'extraction_fraction': 0.9, 'prior_average_f1': 0.7066666666666667, 'prior_median_f1': 1.0}\n",
      "Apply the scripts to the data lake and save the metadata. Taking the top 10 scripts per field.\n",
      "Applying function function_3...\n",
      "Applying function function_5...\n",
      "Applying function function_8...\n",
      "Applying function function_9...\n",
      "Applying function function_11...\n",
      "Applying function function_12...\n",
      "Applying function function_13...\n",
      "Applying function function_4...\n"
     ]
    },
    {
     "name": "stderr",
     "output_type": "stream",
     "text": [
      "Applying key function_3: 100%|██████████| 100/100 [00:00<00:00, 224775.13it/s]\n",
      "Applying key function_5: 100%|██████████| 100/100 [00:00<00:00, 374491.43it/s]\n",
      "Applying key function_8: 100%|██████████| 100/100 [00:00<00:00, 337977.76it/s]\n",
      "Applying key function_9: 100%|██████████| 100/100 [00:00<00:00, 265798.73it/s]\n",
      "Applying key function_11: 100%|██████████| 100/100 [00:00<00:00, 122104.92it/s]\n",
      "Applying key function_12: 100%|██████████| 100/100 [00:00<00:00, 329740.88it/s]\n",
      "Applying key function_13: 100%|██████████| 100/100 [00:00<00:00, 177950.95it/s]\n",
      "Applying key function_4: 100%|██████████| 100/100 [00:00<00:00, 175200.67it/s]\n"
     ]
    },
    {
     "name": "stdout",
     "output_type": "stream",
     "text": [
      "Save path: /Users/xiqiao/Documents/evaporate-clean/data/evaporate/data/fda_510ks/generative_indexes/fda_510ks/dataLakefda_510ks_date01122024_fileSize100_trainSize10_numAggregate10_chunkSize3000_removeTablesFalse_bodyFalse_cascadingFalse_useBackoffTrue_MODELS1_predicate_device_name_all_extractions.json\n",
      "{'function_0': {'function': 'def get_predicate_device_name_field(text: str):\\n    \"\"\"\\n    Function to extract the \"predicate device name field\" from the given text.\\n    \"\"\"\\n    pattern = r\"Predicate device names:\\\\s*(.*?)\\\\s*for use on\"\\n    match = re.search(pattern, text)\\n    if match:\\n        return match.group(1).split(\"\\\\n\")', 'promptsource': 0}, 'function_1': {'function': 'def get_predicate_device_name_field(text: str):\\n    \"\"\"\\n    Function to extract the predicate device name field.\\n    \"\"\"\\n    pattern = r\"Predicate device names:\\\\s+(.+)\"\\n    match = re.search(pattern, text)\\n    if match:\\n        return match.group(1)', 'promptsource': 1}, 'function_2': {'function': 'def get_predicate_device_name_field(text: str):\\n    pattern = r\"Predicate device name\\\\(s\\\\):\\\\n(.*?)\\\\n\"\\n    result = re.findall(pattern, text, re.DOTALL)\\n    return result', 'promptsource': 0}, 'function_3': {'function': 'def get_predicate_device_name_field(text: str):\\n    \"\"\"\\n    Function to extract the predicate device name field.\\n    \"\"\"\\n    pattern = r\\'Predicate device name\\\\(s\\\\):\\\\s+(.*)\\'\\n    match = re.search(pattern, text)\\n    if match:\\n        return match.group(1)', 'promptsource': 1, 'runtime': 0.012002944946289062}, 'function_4': {'function': 'def get_predicate_device_name_field(text: str):\\n    pattern = r\"Predicate device name\\\\(s\\\\):\\\\s*(.*?)\\\\s*\\\\d+\\\\.\"\\n    matches = re.findall(pattern, text)\\n    return matches', 'promptsource': 0, 'runtime': 0.013950109481811523}, 'function_5': {'function': 'def get_predicate_device_name_field(text: str):\\n    \"\"\"\\n    Function to extract the predicate device name field.\\n    \"\"\"\\n    pattern = r\\'Predicate device name\\\\(s\\\\):\\\\s*(.*?)\\\\n\\'\\n    match = re.search(pattern, text)\\n    if match:\\n        return match.group(1)', 'promptsource': 1, 'runtime': 0.013165950775146484}, 'function_6': {'function': 'def get_predicate_device_name_field(text: str):\\n    pattern = r\"Predicate device name\\\\(s\\\\):\\\\n(.+)\"\\n    match = re.search(pattern, text)\\n    if match:\\n        return match.group(1).split(\"\\\\n\")', 'promptsource': 0}, 'function_7': {'function': 'def get_predicate_device_name_field(text: str):\\n    \"\"\"\\n    Function to extract the predicate device name field.\\n    \"\"\"\\n    pattern = r\\'Predicate device name\\\\(s\\\\):\\\\n(.*)\\'\\n    match = re.search(pattern, text)\\n    if match:\\n        return match.group(1)', 'promptsource': 1}, 'function_8': {'function': 'def get_predicate_device_name_field(text: str):\\n    pattern = r\"Predicate device name\\\\(s\\\\):\\\\s*(.*?)\\\\s*\\\\n\"\\n    matches = re.findall(pattern, text)\\n    return matches', 'promptsource': 0, 'runtime': 0.013185977935791016}, 'function_9': {'function': 'def get_predicate_device_name_field(text: str):\\n    \"\"\"\\n    Function to extract the predicate device name field.\\n    \"\"\"\\n    pattern = r\\'Predicate device name\\\\(s\\\\):\\\\s*(.*?)\\\\s*\\\\n\\'\\n    match = re.search(pattern, text)\\n    if match:\\n        return match.group(1)', 'promptsource': 1, 'runtime': 0.011860132217407227}, 'function_10': {'function': 'def get_predicate_device_name_field(text: str):\\n    pattern = r\"Predicate device name\\\\(s\\\\):\\\\n\\\\n(.+)\"\\n    match = re.search(pattern, text)\\n    if match:\\n        return match.group(1).split(\"\\\\n\")', 'promptsource': 0}, 'function_11': {'function': 'def get_predicate_device_name_field(text: str):\\n    \"\"\"\\n    Function to extract the predicate device name field.\\n    \"\"\"\\n    pattern = r\"Predicate device name\\\\(s\\\\):\\\\s*(.*)\"\\n    match = re.search(pattern, text)\\n    if match:\\n        return match.group(1)', 'promptsource': 1, 'runtime': 0.012713909149169922}, 'function_12': {'function': 'def get_predicate_device_name_field(text: str):\\n    pattern = r\"Predicate device name\\\\(s\\\\):\\\\s*(.*?)\\\\s*\\\\n\"\\n    matches = re.findall(pattern, text)\\n    return matches', 'promptsource': 0, 'runtime': 0.004232883453369141}, 'function_13': {'function': 'def get_predicate_device_name_field(text: str):\\n    \"\"\"\\n    Function to extract the predicate device name field.\\n    \"\"\"\\n    pattern = r\\'Predicate device name\\\\(s\\\\):\\\\s*(.*)\\'\\n    match = re.search(pattern, text)\\n    if match:\\n        return match.group(1)', 'promptsource': 1, 'runtime': 0.012512922286987305}, 'function_14': {'function': 'def get_predicate_device_name_field(text: str):\\n    pattern = r\"Predicate device name\\\\(s\\\\):\\\\s*(.*?)\\\\s*\"\\n    matches = re.findall(pattern, text)\\n    return matches', 'promptsource': 0}, 'function_15': {'function': 'def get_predicate_device_name_field(text: str):\\n    \"\"\"\\n    Function to extract the predicate device name field.\\n    \"\"\"\\n    pattern = r\\'Predicate device name\\\\(s\\\\):\\\\s*(.*?)\\\\s*\\'\\n    match = re.search(pattern, text)\\n    if match:\\n        return match.group(1)', 'promptsource': 1}, 'function_16': {'function': 'def get_predicate_device_name_field(text: str):\\n    pattern = r\"Predicate device name\\\\(s\\\\):\\\\n(.+)\"\\n    match = re.search(pattern, text)\\n    if match:\\n        return match.group(1).split(\"\\\\n\")', 'promptsource': 0}, 'function_17': {'function': 'def get_predicate_device_name_field(text: str):\\n    \"\"\"\\n    Function to extract the predicate device name field.\\n    \"\"\"\\n    pattern = r\\'Predicate device name\\\\(s\\\\):\\\\n(.*)\\'\\n    match = re.search(pattern, text)\\n    if match:\\n        return match.group(1)', 'promptsource': 1}, 'function_18': {'function': 'def get_predicate_device_name_field(text: str):\\n    \"\"\"\\n    Function to extract the \"predicate device name field\" from the given text.\\n    \"\"\"\\n    pattern = r\"Predicate device names: (.+)\"\\n    matches = re.findall(pattern, text)\\n    return matches', 'promptsource': 0}, 'function_19': {'function': 'def get_predicate_device_name_field(text: str):\\n    \"\"\"\\n    Function to extract the predicate device name field.\\n    \"\"\"\\n    pattern = r\\'Predicate device names: (.*)\\'\\n    match = re.search(pattern, text)\\n    if match:\\n        return match.group(1)', 'promptsource': 1}}\n",
      "\n",
      "\n",
      "Extracting proposed labeling (8 / 16)\n",
      "For attribute proposed labeling\n",
      "-- Starting with 1144 chunks\n",
      "-- Ending with 102 chunks\n",
      "-- 93 starting chunks in sample files\n",
      "-- 10 chunks in sample files\n"
     ]
    },
    {
     "name": "stderr",
     "output_type": "stream",
     "text": [
      "Extracting attribute proposed labeling using LM: 100%|██████████| 10/10 [00:06<00:00,  1.47it/s]\n",
      "Generating functions for attribute proposed labeling: 100%|██████████| 10/10 [00:28<00:00,  2.84s/it]\n"
     ]
    },
    {
     "name": "stdout",
     "output_type": "stream",
     "text": [
      "Extraction fraction: 1.0\n",
      "Top 10 scripts:\n",
      "- function_11; Score: {'average_f1': 0.9610946325006633, 'median_f1': 0.967741935483871, 'extraction_fraction': 1.0, 'prior_average_f1': 0.9610946325006633, 'prior_median_f1': 0.967741935483871}\n",
      "- function_0; Score: {'average_f1': 0.5967741935483871, 'median_f1': 0.9838709677419355, 'extraction_fraction': 1.0, 'prior_average_f1': 0.5967741935483871, 'prior_median_f1': 0.9838709677419355}\n",
      "- function_1; Score: {'average_f1': 0.5967741935483871, 'median_f1': 0.9838709677419355, 'extraction_fraction': 1.0, 'prior_average_f1': 0.5967741935483871, 'prior_median_f1': 0.9838709677419355}\n",
      "- function_3; Score: {'average_f1': 0.5967741935483871, 'median_f1': 0.9838709677419355, 'extraction_fraction': 1.0, 'prior_average_f1': 0.5967741935483871, 'prior_median_f1': 0.9838709677419355}\n",
      "- function_4; Score: {'average_f1': 0.5967741935483871, 'median_f1': 0.9838709677419355, 'extraction_fraction': 1.0, 'prior_average_f1': 0.5967741935483871, 'prior_median_f1': 0.9838709677419355}\n",
      "- function_6; Score: {'average_f1': 0.5967741935483871, 'median_f1': 0.9838709677419355, 'extraction_fraction': 1.0, 'prior_average_f1': 0.5967741935483871, 'prior_median_f1': 0.9838709677419355}\n",
      "- function_12; Score: {'average_f1': 0.5967741935483871, 'median_f1': 0.9838709677419355, 'extraction_fraction': 1.0, 'prior_average_f1': 0.5967741935483871, 'prior_median_f1': 0.9838709677419355}\n",
      "- function_13; Score: {'average_f1': 0.5967741935483871, 'median_f1': 0.9838709677419355, 'extraction_fraction': 1.0, 'prior_average_f1': 0.5967741935483871, 'prior_median_f1': 0.9838709677419355}\n",
      "- function_14; Score: {'average_f1': 0.5967741935483871, 'median_f1': 0.9838709677419355, 'extraction_fraction': 1.0, 'prior_average_f1': 0.5967741935483871, 'prior_median_f1': 0.9838709677419355}\n",
      "- function_15; Score: {'average_f1': 0.5967741935483871, 'median_f1': 0.9838709677419355, 'extraction_fraction': 1.0, 'prior_average_f1': 0.5967741935483871, 'prior_median_f1': 0.9838709677419355}\n",
      "Best script overall: function_11; Score: {'average_f1': 0.9610946325006633, 'median_f1': 0.967741935483871, 'extraction_fraction': 1.0, 'prior_average_f1': 0.9610946325006633, 'prior_median_f1': 0.967741935483871}\n",
      "Apply the scripts to the data lake and save the metadata. Taking the top 10 scripts per field.\n",
      "Applying function function_11...\n",
      "Applying function function_0...\n",
      "Applying function function_1...\n",
      "Applying function function_3...\n",
      "Applying function function_4...\n",
      "Applying function function_6...\n",
      "Applying function function_12...\n",
      "Applying function function_13...\n",
      "Applying function function_14...\n",
      "Applying function function_15...\n"
     ]
    },
    {
     "name": "stderr",
     "output_type": "stream",
     "text": [
      "Applying key function_11: 100%|██████████| 100/100 [00:00<00:00, 218795.20it/s]\n",
      "Applying key function_0: 100%|██████████| 100/100 [00:00<00:00, 209715.20it/s]\n",
      "Applying key function_1: 100%|██████████| 100/100 [00:00<00:00, 236832.52it/s]\n",
      "Applying key function_3: 100%|██████████| 100/100 [00:00<00:00, 306601.17it/s]\n",
      "Applying key function_4: 100%|██████████| 100/100 [00:00<00:00, 245712.01it/s]\n",
      "Applying key function_6: 100%|██████████| 100/100 [00:00<00:00, 196178.86it/s]\n",
      "Applying key function_12: 100%|██████████| 100/100 [00:00<00:00, 375833.69it/s]\n",
      "Applying key function_13: 100%|██████████| 100/100 [00:00<00:00, 461419.58it/s]\n",
      "Applying key function_14: 100%|██████████| 100/100 [00:00<00:00, 366314.76it/s]\n",
      "Applying key function_15: 100%|██████████| 100/100 [00:00<00:00, 458393.88it/s]\n"
     ]
    },
    {
     "name": "stdout",
     "output_type": "stream",
     "text": [
      "Save path: /Users/xiqiao/Documents/evaporate-clean/data/evaporate/data/fda_510ks/generative_indexes/fda_510ks/dataLakefda_510ks_date01122024_fileSize100_trainSize10_numAggregate10_chunkSize3000_removeTablesFalse_bodyFalse_cascadingFalse_useBackoffTrue_MODELS1_proposed_labeling_all_extractions.json\n",
      "{'function_0': {'function': 'def get_proposed_labeling_field(text: str):\\n    \"\"\"\\n    Function to extract the \"proposed labeling field\". \\n    \"\"\"\\n    proposed_labeling = re.findall(r\\'N\\\\. Proposed Labeling:(.*?)O\\\\. Conclusion:\\', text, re.DOTALL)\\n    return proposed_labeling', 'promptsource': 0, 'runtime': 0.013866901397705078}, 'function_1': {'function': 'def get_proposed_labeling_field(text: str):\\n    \"\"\"\\n    Function to extract the proposed labeling field.\\n    \"\"\"\\n    pattern = r\\'N\\\\. Proposed Labeling:(.*?)O\\\\. Conclusion:\\'\\n    proposed_labeling_field = re.search(pattern, text, re.DOTALL)\\n    if proposed_labeling_field:\\n        return proposed_labeling_field.group(1).strip()', 'promptsource': 1, 'runtime': 0.014734029769897461}, 'function_2': {'function': 'def get_proposed_labeling_field(text: str):\\n    \"\"\"\\n    Function to extract the \"proposed labeling field\" from the given text.\\n    \"\"\"\\n    # Find the start and end indices of the proposed labeling field\\n    start_index = text.find(\"N. Proposed Labeling:\")\\n    end_index = text.find(\"O. Conclusion:\")\\n    \\n    # Extract the proposed labeling field\\n    proposed_labeling_field = text[start_index:end_index].strip()\\n    \\n    # Split the proposed labeling field into lines\\n    lines = proposed_labeling_field.split(\"\\\\n\")\\n    \\n    # Remove any empty lines\\n    lines = [line.strip() for line in lines if line.strip()]\\n    \\n    return lines', 'promptsource': 0}, 'function_3': {'function': 'def get_proposed_labeling_field(text: str):\\n    \"\"\"\\n    Function to extract the proposed labeling field.\\n    \"\"\"\\n    pattern = r\\'N\\\\. Proposed Labeling:(.*?)O\\\\. Conclusion:\\'\\n    proposed_labeling_field = re.search(pattern, text, re.DOTALL)\\n    if proposed_labeling_field:\\n        return proposed_labeling_field.group(1).strip()', 'promptsource': 1, 'runtime': 0.004957914352416992}, 'function_4': {'function': 'def get_proposed_labeling_field(text: str):\\n    \"\"\"\\n    Function to extract the \"proposed labeling field\" from text.\\n    \"\"\"\\n    proposed_labeling = re.findall(r\\'N\\\\. Proposed Labeling:(.*?)O\\\\.\\', text, re.DOTALL)\\n    return proposed_labeling', 'promptsource': 0, 'runtime': 0.014548778533935547}, 'function_5': {'function': 'def get_proposed_labeling_field(text: str):\\n    \"\"\"\\n    Function to extract the proposed labeling field.\\n    \"\"\"\\n    pattern = r\\'N\\\\. Proposed Labeling:\\\\n(.*?)\\\\n\\'\\n    match = re.search(pattern, text, re.DOTALL)\\n    if match:\\n        return match.group(1)', 'promptsource': 1}, 'function_6': {'function': 'def get_proposed_labeling_field(text: str):\\n    \"\"\"\\n    Function to extract the \"proposed labeling field\" from the given text.\\n    \"\"\"\\n    proposed_labeling = re.findall(r\\'N\\\\. Proposed Labeling:(.*?)O\\\\.\\', text, re.DOTALL)\\n    return [label.strip() for label in proposed_labeling]', 'promptsource': 0, 'runtime': 0.015196084976196289}, 'function_7': {'function': 'def get_proposed_labeling_field(text: str):\\n    \"\"\"\\n    Function to extract the proposed labeling field.\\n    \"\"\"\\n    pattern = r\\'N\\\\. Proposed Labeling:\\\\n(.*?)\\\\n\\'\\n    match = re.search(pattern, text, re.DOTALL)\\n    if match:\\n        return match.group(1)', 'promptsource': 1}, 'function_8': {'function': 'def get_proposed_labeling_field(text: str):\\n    \"\"\"\\n    Function to extract the \"proposed labeling field\" from the given text.\\n    \"\"\"\\n    proposed_labeling = re.findall(r\\'Q\\\\. Proposed Labeling:(.*?)R\\\\.\\', text, re.DOTALL)\\n    return proposed_labeling', 'promptsource': 0}, 'function_9': {'function': 'def get_proposed_labeling_field(text: str):\\n    \"\"\"\\n    Function to extract the proposed labeling field.\\n    \"\"\"\\n    pattern = r\\'Q\\\\. Proposed Labeling:(.*?)R\\\\. Conclusion:\\'\\n    proposed_labeling_field = re.search(pattern, text, re.DOTALL)\\n    if proposed_labeling_field:\\n        return proposed_labeling_field.group(1).strip()', 'promptsource': 1}, 'function_10': {'function': 'def get_proposed_labeling_field(text: str):\\n    \"\"\"\\n    Function to extract the \"proposed labeling field\" from the given text.\\n    \"\"\"\\n    pattern = r\"Q\\\\. Proposed Labeling:\\\\n(.*?)\\\\n\"\\n    result = re.findall(pattern, text, re.DOTALL)\\n    return result', 'promptsource': 0}, 'function_11': {'function': 'def get_proposed_labeling_field(text: str):\\n    \"\"\"\\n    Function to extract the proposed labeling field.\\n    \"\"\"\\n    pattern = r\\'Proposed Labeling:(.*?)Conclusion:\\'\\n    proposed_labeling_field = re.search(pattern, text, re.DOTALL)\\n    if proposed_labeling_field:\\n        return proposed_labeling_field.group(1).strip()', 'promptsource': 1, 'runtime': 0.013673067092895508}, 'function_12': {'function': 'def get_proposed_labeling_field(text: str):\\n    \"\"\"\\n    Function to extract the \"proposed labeling field\". \\n    \"\"\"\\n    pattern = r\"N\\\\. Proposed Labeling:(.*?)O\\\\.\"\\n    result = re.findall(pattern, text, re.DOTALL)\\n    return result', 'promptsource': 0, 'runtime': 0.013557910919189453}, 'function_13': {'function': 'def get_proposed_labeling_field(text: str):\\n    \"\"\"\\n    Function to extract the proposed labeling field.\\n    \"\"\"\\n    pattern = r\\'N\\\\. Proposed Labeling:(.*?)O\\\\. Conclusion:\\'\\n    proposed_labeling_field = re.search(pattern, text, re.DOTALL)\\n    if proposed_labeling_field:\\n        return proposed_labeling_field.group(1).strip()', 'promptsource': 1, 'runtime': 0.004085063934326172}, 'function_14': {'function': 'def get_proposed_labeling_field(text: str):\\n    \"\"\"\\n    Function to extract the \"proposed labeling field\" from the given text.\\n    \"\"\"\\n    proposed_labeling = re.findall(r\\'N\\\\. Proposed Labeling:(.*?)O\\\\. Conclusion:\\', text, re.DOTALL)\\n    return proposed_labeling[0].strip().split(\\'\\\\n\\')', 'promptsource': 0, 'runtime': 0.019886016845703125}, 'function_15': {'function': 'def get_proposed_labeling_field(text: str):\\n    \"\"\"\\n    Function to extract the proposed labeling field.\\n    \"\"\"\\n    pattern = r\\'N\\\\. Proposed Labeling:(.*?)O\\\\. Conclusion:\\'\\n    proposed_labeling_field = re.search(pattern, text, re.DOTALL)\\n    if proposed_labeling_field:\\n        return proposed_labeling_field.group(1).strip()', 'promptsource': 1, 'runtime': 0.004861116409301758}, 'function_16': {'function': 'def get_proposed_labeling_field(text: str):\\n    \"\"\"\\n    Function to extract the \"proposed labeling field\". \\n    \"\"\"\\n    proposed_labeling = re.findall(r\\'Proposed Labeling:(.*?)\\\\n\\', text, re.DOTALL)\\n    return proposed_labeling', 'promptsource': 0}, 'function_17': {'function': 'def get_proposed_labeling_field(text: str):\\n    \"\"\"\\n    Function to extract the proposed labeling field.\\n    \"\"\"\\n    pattern = r\\'Proposed Labeling:(.*?)R\\\\. Conclusion:\\'\\n    proposed_labeling_field = re.search(pattern, text, re.DOTALL)\\n    if proposed_labeling_field:\\n        return proposed_labeling_field.group(1).strip()', 'promptsource': 1}, 'function_18': {'function': 'def get_proposed_labeling_field(text: str):\\n    \"\"\"\\n    Function to extract the \"proposed labeling field\" from the given text.\\n    \"\"\"\\n    proposed_labeling = re.findall(r\\'K\\\\. Proposed Labeling:(.*?)L\\\\. Conclusion:\\', text, re.DOTALL)\\n    return proposed_labeling[0].strip().split(\\'\\\\n\\') if proposed_labeling else []', 'promptsource': 0}, 'function_19': {'function': 'def get_proposed_labeling_field(text: str):\\n    \"\"\"\\n    Function to extract the proposed labeling field.\\n    \"\"\"\\n    pattern = r\\'K\\\\. Proposed Labeling:(.*?)L\\\\. Conclusion:\\'\\n    proposed_labeling_field = re.search(pattern, text, re.DOTALL)\\n    if proposed_labeling_field:\\n        return proposed_labeling_field.group(1).strip()', 'promptsource': 1}}\n",
      "\n",
      "\n",
      "Extracting conclusion (9 / 16)\n",
      "For attribute conclusion\n",
      "-- Starting with 1144 chunks\n",
      "-- Ending with 102 chunks\n",
      "-- 93 starting chunks in sample files\n",
      "-- 10 chunks in sample files\n"
     ]
    },
    {
     "name": "stderr",
     "output_type": "stream",
     "text": [
      "Extracting attribute conclusion using LM: 100%|██████████| 10/10 [00:06<00:00,  1.49it/s]\n",
      "Generating functions for attribute conclusion: 100%|██████████| 10/10 [00:48<00:00,  4.83s/it]\n"
     ]
    },
    {
     "name": "stdout",
     "output_type": "stream",
     "text": [
      "Extraction fraction: 0.9\n",
      "Top 10 scripts:\n",
      "- function_9; Score: {'average_f1': 0.8161290322580644, 'median_f1': 1.0, 'extraction_fraction': 0.9, 'prior_average_f1': 0.8161290322580644, 'prior_median_f1': 1.0}\n",
      "- function_17; Score: {'average_f1': 0.7015873015873016, 'median_f1': 0.888888888888889, 'extraction_fraction': 0.9, 'prior_average_f1': 0.7015873015873016, 'prior_median_f1': 0.888888888888889}\n",
      "Best script overall: function_9; Score: {'average_f1': 0.8161290322580644, 'median_f1': 1.0, 'extraction_fraction': 0.9, 'prior_average_f1': 0.8161290322580644, 'prior_median_f1': 1.0}\n",
      "Apply the scripts to the data lake and save the metadata. Taking the top 10 scripts per field.\n",
      "Applying function function_9...\n",
      "Applying function function_17...\n"
     ]
    },
    {
     "name": "stderr",
     "output_type": "stream",
     "text": [
      "Applying key function_9: 100%|██████████| 100/100 [00:00<00:00, 94979.71it/s]\n",
      "Applying key function_17: 100%|██████████| 100/100 [00:00<00:00, 161630.21it/s]\n"
     ]
    },
    {
     "name": "stdout",
     "output_type": "stream",
     "text": [
      "Save path: /Users/xiqiao/Documents/evaporate-clean/data/evaporate/data/fda_510ks/generative_indexes/fda_510ks/dataLakefda_510ks_date01122024_fileSize100_trainSize10_numAggregate10_chunkSize3000_removeTablesFalse_bodyFalse_cascadingFalse_useBackoffTrue_MODELS1_conclusion_all_extractions.json\n",
      "{'function_0': {'function': \"def get_conclusion_field(text: str):\\n    conclusion_list = re.findall(r'Conclusion: (.+)', text)\\n    return conclusion_list\", 'promptsource': 0}, 'function_1': {'function': 'def get_conclusion_field(text: str):\\n    \"\"\"\\n    Function to extract the conclusion field.\\n    \"\"\"\\n    pattern = r\\'O\\\\. Conclusion:\\\\n(.*)\\'\\n    match = re.search(pattern, text, re.DOTALL)\\n    if match:\\n        return match.group(1).strip()', 'promptsource': 1}, 'function_2': {'function': 'def get_conclusion_field(text: str):\\n    conclusion = re.findall(r\"O\\\\. Conclusion:\\\\n\\\\n(.+)\", text)\\n    return conclusion', 'promptsource': 0}, 'function_3': {'function': 'def get_conclusion_field(text: str):\\n    \"\"\"\\n    Function to extract the conclusion field.\\n    \"\"\"\\n    pattern = r\\'Conclusion:\\\\n\\\\n(.*)\\'\\n    match = re.search(pattern, text, re.DOTALL)\\n    if match:\\n        return match.group(1).strip()', 'promptsource': 1}, 'function_4': {'function': \"def get_conclusion_field(text: str):\\n    conclusion = re.findall(r'O\\\\. Conclusion:\\\\n(.+)', text)\\n    return conclusion\", 'promptsource': 0}, 'function_5': {'function': 'def get_conclusion_field(text: str):\\n    \"\"\"\\n    Function to extract the conclusion field.\\n    \"\"\"\\n    pattern = r\\'O\\\\. Conclusion:\\\\n(.*)\\'\\n    match = re.search(pattern, text, re.DOTALL)\\n    if match:\\n        return match.group(1).strip()', 'promptsource': 1}, 'function_6': {'function': \"def get_conclusion_field(text: str):\\n    conclusion = re.findall(r'(?<=O\\\\. Conclusion:)(.*?)(?=\\\\n)', text, re.DOTALL)\\n    return conclusion\", 'promptsource': 0}, 'function_7': {'function': 'def get_conclusion_field(text: str):\\n    \"\"\"\\n    Function to extract the conclusion field.\\n    \"\"\"\\n    pattern = r\\'O\\\\. Conclusion:\\\\n(.*)\\'\\n    match = re.search(pattern, text, re.DOTALL)\\n    if match:\\n        return match.group(1).strip()', 'promptsource': 1}, 'function_8': {'function': \"def get_conclusion_field(text: str):\\n    conclusion_list = re.findall(r'Conclusion: (.+)', text)\\n    return conclusion_list\", 'promptsource': 0}, 'function_9': {'function': 'def get_conclusion_field(text: str):\\n    \"\"\"\\n    Function to extract the conclusion field.\\n    \"\"\"\\n    pattern = r\\'Conclusion:\\\\s+(.*)\\'\\n    match = re.search(pattern, text, re.DOTALL)\\n    if match:\\n        return match.group(1).strip()', 'promptsource': 1, 'runtime': 0.014377832412719727}, 'function_10': {'function': 'def get_conclusion_field(text: str):\\n    conclusion = re.findall(r\"R\\\\. Conclusion:\\\\n(.+)\", text)\\n    return conclusion', 'promptsource': 0}, 'function_11': {'function': 'def get_conclusion_field(text: str):\\n    \"\"\"\\n    Function to extract the conclusion field.\\n    \"\"\"\\n    pattern = r\"R\\\\. Conclusion:\\\\n(.+)\"\\n    match = re.search(pattern, text, re.DOTALL)\\n    if match:\\n        return match.group(1).strip()', 'promptsource': 1}, 'function_12': {'function': \"def get_conclusion_field(text: str):\\n    conclusion = re.findall(r'(?<=O\\\\. Conclusion:)(.*?)(?=\\\\n)', text, re.DOTALL)\\n    return conclusion\", 'promptsource': 0}, 'function_13': {'function': 'def get_conclusion_field(text: str):\\n    \"\"\"\\n    Function to extract the conclusion field.\\n    \"\"\"\\n    pattern = r\\'(?<=O\\\\. Conclusion:\\\\n\\\\n)(.*?)(?=\\\\n\\\\n)\\'\\n    conclusion_field = re.search(pattern, text, re.DOTALL)\\n    if conclusion_field:\\n        return conclusion_field.group(1).strip()', 'promptsource': 1}, 'function_14': {'function': 'def get_conclusion_field(text: str):\\n    conclusion = re.findall(r\"O\\\\. Conclusion:\\\\n\\\\n(.+)\", text)\\n    return conclusion', 'promptsource': 0}, 'function_15': {'function': 'def get_conclusion_field(text: str):\\n    \"\"\"\\n    Function to extract the conclusion field.\\n    \"\"\"\\n    pattern = r\\'O\\\\. Conclusion:\\\\n\\\\n(.*)\\'\\n    match = re.search(pattern, text, re.DOTALL)\\n    if match:\\n        return match.group(1).strip()', 'promptsource': 1}, 'function_16': {'function': \"def get_conclusion_field(text: str):\\n    conclusion_list = re.findall(r'Conclusion: (.+)', text)\\n    return conclusion_list\", 'promptsource': 0}, 'function_17': {'function': 'def get_conclusion_field(text: str):\\n    \"\"\"\\n    Function to extract the conclusion field.\\n    \"\"\"\\n    pattern = r\\'Conclusion:\\\\s+(.*)\\'\\n    match = re.search(pattern, text)\\n    if match:\\n        return match.group(1)', 'promptsource': 1, 'runtime': 0.014953136444091797}, 'function_18': {'function': \"def get_conclusion_field(text: str):\\n    conclusion = re.findall(r'Conclusion: (.+)', text)\\n    return conclusion\", 'promptsource': 0}, 'function_19': {'function': 'def get_conclusion_field(text: str):\\n    \"\"\"\\n    Function to extract the conclusion field.\\n    \"\"\"\\n    pattern = r\\'Conclusion:\\\\n\\\\n(.*)\\'\\n    match = re.search(pattern, text, re.DOTALL)\\n    if match:\\n        return match.group(1)', 'promptsource': 1}}\n",
      "\n",
      "\n",
      "Extracting 510k number (10 / 16)\n",
      "For attribute 510k number\n",
      "-- Starting with 1144 chunks\n",
      "-- Ending with 188 chunks\n",
      "-- 93 starting chunks in sample files\n",
      "-- 19 chunks in sample files\n"
     ]
    },
    {
     "name": "stderr",
     "output_type": "stream",
     "text": [
      "Extracting attribute 510k number using LM: 100%|██████████| 10/10 [00:09<00:00,  1.10it/s]\n",
      "Generating functions for attribute 510k number: 100%|██████████| 10/10 [01:21<00:00,  8.19s/it]\n"
     ]
    },
    {
     "name": "stdout",
     "output_type": "stream",
     "text": [
      "Extraction fraction: 1.0\n",
      "Top 10 scripts:\n",
      "- function_0; Score: {'average_f1': 0.6181818181818182, 'median_f1': 0.6666666666666666, 'extraction_fraction': 1.0, 'prior_average_f1': 0.6181818181818182, 'prior_median_f1': 0.6666666666666666}\n",
      "- function_1; Score: {'average_f1': 0.6181818181818182, 'median_f1': 0.6666666666666666, 'extraction_fraction': 1.0, 'prior_average_f1': 0.6181818181818182, 'prior_median_f1': 0.6666666666666666}\n",
      "- function_4; Score: {'average_f1': 0.6181818181818182, 'median_f1': 0.6666666666666666, 'extraction_fraction': 1.0, 'prior_average_f1': 0.6181818181818182, 'prior_median_f1': 0.6666666666666666}\n",
      "- function_5; Score: {'average_f1': 0.6181818181818182, 'median_f1': 0.6666666666666666, 'extraction_fraction': 1.0, 'prior_average_f1': 0.6181818181818182, 'prior_median_f1': 0.6666666666666666}\n",
      "- function_9; Score: {'average_f1': 0.6181818181818182, 'median_f1': 0.6666666666666666, 'extraction_fraction': 1.0, 'prior_average_f1': 0.6181818181818182, 'prior_median_f1': 0.6666666666666666}\n",
      "- function_12; Score: {'average_f1': 0.6181818181818182, 'median_f1': 0.6666666666666666, 'extraction_fraction': 1.0, 'prior_average_f1': 0.6181818181818182, 'prior_median_f1': 0.6666666666666666}\n",
      "- function_13; Score: {'average_f1': 0.6181818181818182, 'median_f1': 0.6666666666666666, 'extraction_fraction': 1.0, 'prior_average_f1': 0.6181818181818182, 'prior_median_f1': 0.6666666666666666}\n",
      "- function_15; Score: {'average_f1': 0.6181818181818182, 'median_f1': 0.6666666666666666, 'extraction_fraction': 1.0, 'prior_average_f1': 0.6181818181818182, 'prior_median_f1': 0.6666666666666666}\n",
      "- function_19; Score: {'average_f1': 0.6181818181818182, 'median_f1': 0.6666666666666666, 'extraction_fraction': 1.0, 'prior_average_f1': 0.6181818181818182, 'prior_median_f1': 0.6666666666666666}\n",
      "- function_23; Score: {'average_f1': 0.6181818181818182, 'median_f1': 0.6666666666666666, 'extraction_fraction': 1.0, 'prior_average_f1': 0.6181818181818182, 'prior_median_f1': 0.6666666666666666}\n",
      "Best script overall: function_0; Score: {'average_f1': 0.6181818181818182, 'median_f1': 0.6666666666666666, 'extraction_fraction': 1.0, 'prior_average_f1': 0.6181818181818182, 'prior_median_f1': 0.6666666666666666}\n",
      "Apply the scripts to the data lake and save the metadata. Taking the top 10 scripts per field.\n",
      "Applying function function_0...\n",
      "Applying function function_1...\n",
      "Applying function function_4...\n",
      "Applying function function_5...\n",
      "Applying function function_9...\n",
      "Applying function function_12...\n",
      "Applying function function_13...\n",
      "Applying function function_15...\n",
      "Applying function function_19...\n",
      "Applying function function_23...\n"
     ]
    },
    {
     "name": "stderr",
     "output_type": "stream",
     "text": [
      "Applying key function_0: 100%|██████████| 100/100 [00:00<00:00, 178861.58it/s]\n",
      "Applying key function_1: 100%|██████████| 100/100 [00:00<00:00, 179858.66it/s]\n",
      "Applying key function_4: 100%|██████████| 100/100 [00:00<00:00, 271651.81it/s]\n",
      "Applying key function_5: 100%|██████████| 100/100 [00:00<00:00, 318474.11it/s]\n",
      "Applying key function_9: 100%|██████████| 100/100 [00:00<00:00, 418593.21it/s]\n",
      "Applying key function_12: 100%|██████████| 100/100 [00:00<00:00, 157031.22it/s]\n",
      "Applying key function_13: 100%|██████████| 100/100 [00:00<00:00, 432848.71it/s]\n",
      "Applying key function_15: 100%|██████████| 100/100 [00:00<00:00, 378889.25it/s]\n",
      "Applying key function_19: 100%|██████████| 100/100 [00:00<00:00, 253892.49it/s]\n",
      "Applying key function_23: 100%|██████████| 100/100 [00:00<00:00, 299165.76it/s]\n"
     ]
    },
    {
     "name": "stdout",
     "output_type": "stream",
     "text": [
      "Save path: /Users/xiqiao/Documents/evaporate-clean/data/evaporate/data/fda_510ks/generative_indexes/fda_510ks/dataLakefda_510ks_date01122024_fileSize100_trainSize10_numAggregate10_chunkSize3000_removeTablesFalse_bodyFalse_cascadingFalse_useBackoffTrue_MODELS1_510k_number_all_extractions.json\n",
      "{'function_0': {'function': 'def get_510k_number_field(text: str):\\n    \"\"\"\\n    Function to extract the \"510k number field\" from the given text.\\n    \"\"\"\\n    pattern = r\\'510\\\\(k\\\\) Number:\\\\s*(\\\\w+)\\'\\n    matches = re.findall(pattern, text)\\n    return matches', 'promptsource': 0, 'runtime': 0.012517929077148438}, 'function_1': {'function': 'def get_510k_number_field(text: str):\\n    \"\"\"\\n    Function to extract the 510k number field.\\n    \"\"\"\\n    pattern = r\\'510\\\\(k\\\\) Number:\\\\s*\\\\n\\\\s*(\\\\w+)\\'\\n    match = re.search(pattern, text)\\n    if match:\\n        return match.group(1)', 'promptsource': 1, 'runtime': 0.011339902877807617}, 'function_2': {'function': 'def get_510k_number_field(text: str):\\n    \"\"\"\\n    Function to extract the \"510k number field\". \\n    \"\"\"\\n    pattern = r\"510k number: (\\\\d+)\"\\n    matches = re.findall(pattern, text)\\n    return matches', 'promptsource': 0}, 'function_3': {'function': 'def get_510k_number_field(text: str):\\n    \"\"\"\\n    Function to extract the 510k number field.\\n    \"\"\"\\n    pattern = r\\'510k number\\'\\n    match = re.search(pattern, text)\\n    if match:\\n        start_index = match.end()\\n        end_index = text.find(\\'\\\\n\\', start_index)\\n        return text[start_index:end_index].strip()', 'promptsource': 1}, 'function_4': {'function': 'def get_510k_number_field(text: str):\\n    \"\"\"\\n    Function to extract the \"510k number field\" from the given text.\\n    \"\"\"\\n    pattern = r\"510\\\\(k\\\\) Number:\\\\s*(\\\\w+)\"\\n    matches = re.findall(pattern, text)\\n    return matches', 'promptsource': 0, 'runtime': 0.013093709945678711}, 'function_5': {'function': 'def get_510k_number_field(text: str):\\n    \"\"\"\\n    Function to extract the 510(k) number field.\\n    \"\"\"\\n    pattern = r\\'510\\\\(k\\\\) Number:\\\\s*(\\\\w+)\\'\\n    match = re.search(pattern, text)\\n    if match:\\n        return match.group(1)', 'promptsource': 1, 'runtime': 0.012510061264038086}, 'function_6': {'function': 'def get_510k_number_field(text: str):\\n    \"\"\"\\n    Function to extract the \"510k number field\" from the given text.\\n    \"\"\"\\n    pattern = r\"Predicate 510\\\\(k\\\\) number\\\\(s\\\\):\\\\s*(\\\\w+)\"\\n    matches = re.findall(pattern, text)\\n    return matches', 'promptsource': 0}, 'function_7': {'function': 'def get_510k_number_field(text: str):\\n    \"\"\"\\n    Function to extract the 510k number field.\\n    \"\"\"\\n    pattern = r\\'(?<=Predicate 510\\\\(k\\\\) number\\\\(s\\\\):\\\\n\\\\n).*\\'\\n    match = re.search(pattern, text)\\n    if match:\\n        return match.group(0).strip()', 'promptsource': 1}, 'function_8': {'function': 'def get_510k_number_field(text: str):\\n    \"\"\"\\n    Function to extract the \"510k number field\" from the given text.\\n    \"\"\"\\n    pattern = r\\'(?<=A\\\\. 510\\\\(k\\\\) Number:\\\\n\\\\n)[A-Z0-9]+\\'\\n    matches = re.findall(pattern, text)\\n    return matches', 'promptsource': 0}, 'function_9': {'function': 'def get_510k_number_field(text: str):\\n    \"\"\"\\n    Function to extract the 510k number field.\\n    \"\"\"\\n    pattern = r\\'510\\\\(k\\\\) Number:\\\\s*(\\\\w+)\\'\\n    match = re.search(pattern, text)\\n    if match:\\n        return match.group(1)', 'promptsource': 1, 'runtime': 0.012139081954956055}, 'function_10': {'function': 'def get_510k_number_field(text: str):\\n    \"\"\"\\n    Function to extract the \"510k number field\" from the given text.\\n    \"\"\"\\n    pattern = r\"Predicate 510\\\\(k\\\\) number\\\\(s\\\\):\\\\s*(\\\\w+)\"\\n    matches = re.findall(pattern, text)\\n    return matches', 'promptsource': 0}, 'function_11': {'function': 'def get_510k_number_field(text: str):\\n    \"\"\"\\n    Function to extract the 510k number field.\\n    \"\"\"\\n    pattern = r\\'Predicate 510\\\\(k\\\\) number\\\\(s\\\\):\\\\s*(\\\\w+)\\'\\n    match = re.search(pattern, text)\\n    if match:\\n        return match.group(1)', 'promptsource': 1}, 'function_12': {'function': 'def get_510k_number_field(text: str):\\n    \"\"\"\\n    Function to extract the \"510k number field\" from the given text.\\n    \"\"\"\\n    pattern = r\\'510\\\\(k\\\\) Number:\\\\s*(\\\\w+)\\'\\n    matches = re.findall(pattern, text)\\n    return matches', 'promptsource': 0, 'runtime': 0.0039920806884765625}, 'function_13': {'function': 'def get_510k_number_field(text: str):\\n    \"\"\"\\n    Function to extract the 510k number field.\\n    \"\"\"\\n    pattern = r\\'510\\\\(k\\\\) Number:\\\\s*(\\\\w+)\\'\\n    match = re.search(pattern, text)\\n    if match:\\n        return match.group(1)', 'promptsource': 1, 'runtime': 0.004111766815185547}, 'function_14': {'function': 'def get_510k_number_field(text: str):\\n    \"\"\"\\n    Function to extract the \"510k number field\" from the given text.\\n    \"\"\"\\n    pattern = r\\'(?<=A\\\\. 510\\\\(k\\\\) Number:\\\\n)[A-Z0-9]+\\'\\n    matches = re.findall(pattern, text)\\n    return matches', 'promptsource': 0}, 'function_15': {'function': 'def get_510k_number_field(text: str):\\n    \"\"\"\\n    Function to extract the 510k number field.\\n    \"\"\"\\n    pattern = r\\'510\\\\(k\\\\) Number:\\\\s*(\\\\w+)\\'\\n    match = re.search(pattern, text)\\n    if match:\\n        return match.group(1)', 'promptsource': 1, 'runtime': 0.004296064376831055}, 'function_16': {'function': 'def get_510k_number_field(text: str):\\n    \"\"\"\\n    Function to extract the \"510k number field\" from the given text.\\n    \"\"\"\\n    pattern = r\"Predicate 510\\\\(k\\\\) number\\\\(s\\\\):\\\\s*(\\\\w+)\"\\n    matches = re.findall(pattern, text)\\n    return matches', 'promptsource': 0}, 'function_17': {'function': 'def get_510k_number_field(text: str):\\n    \"\"\"\\n    Function to extract the 510k number field.\\n    \"\"\"\\n    pattern = r\\'Predicate 510\\\\(k\\\\) number\\\\(s\\\\):\\\\s*\\\\n*\\\\s*(\\\\w+)\\'\\n    match = re.search(pattern, text)\\n    if match:\\n        return match.group(1)', 'promptsource': 1}, 'function_18': {'function': 'def get_510k_number_field(text: str):\\n    \"\"\"\\n    Function to extract the \"510k number field\" from the given text.\\n    \"\"\"\\n    pattern = r\\'(?<=510\\\\(k\\\\) Number:\\\\n).*\\'\\n    match = re.search(pattern, text)\\n    if match:\\n        return match.group().strip().split(\\'\\\\n\\')', 'promptsource': 0}, 'function_19': {'function': 'def get_510k_number_field(text: str):\\n    \"\"\"\\n    Function to extract the 510k number field.\\n    \"\"\"\\n    pattern = r\\'510\\\\(k\\\\) Number:\\\\s*(\\\\w+)\\'\\n    match = re.search(pattern, text)\\n    if match:\\n        return match.group(1)', 'promptsource': 1, 'runtime': 0.00410914421081543}, 'function_20': {'function': 'def get_510k_number_field(text: str):\\n    \"\"\"\\n    Function to extract the \"510k number field\" from the given text.\\n    \"\"\"\\n    pattern = r\"Predicate 510\\\\(k\\\\) number\\\\(s\\\\):\\\\s*(\\\\w+)\"\\n    matches = re.findall(pattern, text)\\n    return matches', 'promptsource': 0}, 'function_21': {'function': 'def get_510k_number_field(text: str):\\n    \"\"\"\\n    Function to extract the 510k number field.\\n    \"\"\"\\n    pattern = r\\'Predicate 510\\\\(k\\\\) number\\\\(s\\\\):\\\\s*(\\\\w+)\\'\\n    match = re.search(pattern, text)\\n    if match:\\n        return match.group(1)', 'promptsource': 1}, 'function_22': {'function': 'def get_510k_number_field(text: str):\\n    \"\"\"\\n    Function to extract the \"510k number field\" from the given text.\\n    \"\"\"\\n    pattern = r\\'(?<=510\\\\(k\\\\) Number:\\\\n).*\\'\\n    match = re.search(pattern, text)\\n    if match:\\n        return match.group().strip().split(\\'\\\\n\\')', 'promptsource': 0}, 'function_23': {'function': 'def get_510k_number_field(text: str):\\n    \"\"\"\\n    Function to extract the 510(k) number field.\\n    \"\"\"\\n    pattern = r\\'510\\\\(k\\\\) Number:\\\\s*(\\\\w+)\\'\\n    match = re.search(pattern, text)\\n    if match:\\n        return match.group(1)', 'promptsource': 1, 'runtime': 0.004033803939819336}, 'function_24': {'function': 'def get_510k_number_field(text: str):\\n    \"\"\"\\n    Function to extract the \"510k number field\". \\n    \"\"\"\\n    pattern = r\"Predicate 510\\\\(k\\\\) number\\\\(s\\\\):\\\\s*(\\\\w+)\"\\n    matches = re.findall(pattern, text)\\n    return matches', 'promptsource': 0}, 'function_25': {'function': 'def get_510k_number_field(text: str):\\n    \"\"\"\\n    Function to extract the 510k number field.\\n    \"\"\"\\n    pattern = r\\'Predicate 510\\\\(k\\\\) number\\\\(s\\\\):\\\\s*(\\\\w+)\\'\\n    match = re.search(pattern, text)\\n    if match:\\n        return match.group(1)', 'promptsource': 1}, 'function_26': {'function': 'def get_510k_number_field(text: str):\\n    \"\"\"\\n    Function to extract the \"510k number field\" from the given text.\\n    \"\"\"\\n    pattern = r\\'510\\\\(k\\\\) Number:\\\\s*(\\\\w+)\\'\\n    matches = re.findall(pattern, text)\\n    return matches', 'promptsource': 0}, 'function_27': {'function': 'def get_510k_number_field(text: str):\\n    \"\"\"\\n    Function to extract the 510k number field.\\n    \"\"\"\\n    pattern = r\\'510\\\\(k\\\\) Number:\\\\s*(\\\\w+)\\'\\n    match = re.search(pattern, text)\\n    if match:\\n        return match.group(1)', 'promptsource': 1}, 'function_28': {'function': 'def get_510k_number_field(text: str):\\n    \"\"\"\\n    Function to extract the \"510k number field\" from the given text.\\n    \"\"\"\\n    pattern = r\"Predicate 510\\\\(k\\\\) number\\\\(s\\\\):\\\\s*\\\\n*\\\\s*(\\\\w+)\"\\n    matches = re.findall(pattern, text)\\n    return matches', 'promptsource': 0}, 'function_29': {'function': 'def get_510k_number_field(text: str):\\n    \"\"\"\\n    Function to extract the 510k number field.\\n    \"\"\"\\n    pattern = r\\'Predicate 510\\\\(k\\\\) number\\\\(s\\\\):\\\\s*(\\\\w+)\\'\\n    match = re.search(pattern, text)\\n    if match:\\n        return match.group(1)', 'promptsource': 1}, 'function_30': {'function': 'def get_510k_number_field(text: str):\\n    \"\"\"\\n    Function to extract the \"510k number field\" from the given text.\\n    \"\"\"\\n    pattern = r\\'(?<=510\\\\(k\\\\) Number:\\\\n\\\\s{6})\\\\w+\\'\\n    matches = re.findall(pattern, text)\\n    return matches', 'promptsource': 0}, 'function_31': {'function': 'def get_510k_number_field(text: str):\\n    \"\"\"\\n    Function to extract the 510k number field.\\n    \"\"\"\\n    pattern = r\\'(?<=510\\\\(k\\\\) Number:\\\\s+)\\\\w+\\'\\n    match = re.search(pattern, text)\\n    if match:\\n        return match.group()', 'promptsource': 1}, 'function_32': {'function': 'def get_510k_number_field(text: str):\\n    \"\"\"\\n    Function to extract the \"510k number field\". \\n    \"\"\"\\n    pattern = r\"Predicate 510\\\\(k\\\\) number\\\\(s\\\\):\\\\s*(\\\\w+)\"\\n    matches = re.findall(pattern, text)\\n    return matches', 'promptsource': 0}, 'function_33': {'function': 'def get_510k_number_field(text: str):\\n    \"\"\"\\n    Function to extract the 510k number field.\\n    \"\"\"\\n    pattern = r\\'Predicate 510\\\\(k\\\\) number\\\\(s\\\\):\\\\s*(\\\\w+)\\'\\n    match = re.search(pattern, text)\\n    if match:\\n        return match.group(1)', 'promptsource': 1}, 'function_34': {'function': 'def get_510k_number_field(text: str):\\n    \"\"\"\\n    Function to extract the \"510k number field\" from the given text.\\n    \"\"\"\\n    pattern = r\\'(?<=A\\\\. 510\\\\(k\\\\) Number:\\\\n\\\\n)[A-Z0-9]+\\'\\n    matches = re.findall(pattern, text)\\n    return matches', 'promptsource': 0}, 'function_35': {'function': 'def get_510k_number_field(text: str):\\n    \"\"\"\\n    Function to extract the 510k number field.\\n    \"\"\"\\n    pattern = r\\'510\\\\(k\\\\) Number:\\\\s*(\\\\w+)\\'\\n    match = re.search(pattern, text)\\n    if match:\\n        return match.group(1)', 'promptsource': 1}, 'function_36': {'function': 'def get_510k_number_field(text: str):\\n    pattern = r\"(\\\\bK\\\\d{6}\\\\b)\"\\n    matches = re.findall(pattern, text)\\n    return matches', 'promptsource': 0}, 'function_37': {'function': 'def get_510k_number_field(text: str):\\n    \"\"\"\\n    Function to extract the 510k number field.\\n    \"\"\"\\n    pattern = r\\'K\\\\d+\\'\\n    return re.findall(pattern, text)', 'promptsource': 1}}\n",
      "\n",
      "\n",
      "Extracting applicant (11 / 16)\n",
      "For attribute applicant\n",
      "-- Starting with 1144 chunks\n",
      "-- Ending with 148 chunks\n",
      "-- 93 starting chunks in sample files\n",
      "-- 14 chunks in sample files\n"
     ]
    },
    {
     "name": "stderr",
     "output_type": "stream",
     "text": [
      "Extracting attribute applicant using LM: 100%|██████████| 10/10 [00:07<00:00,  1.36it/s]\n",
      "Generating functions for attribute applicant: 100%|██████████| 10/10 [00:41<00:00,  4.14s/it]\n"
     ]
    },
    {
     "name": "stdout",
     "output_type": "stream",
     "text": [
      "Extraction fraction: 0.9\n",
      "Top 10 scripts:\n",
      "- function_2; Score: {'average_f1': 0.8, 'median_f1': 1.0, 'extraction_fraction': 0.9, 'prior_average_f1': 0.8, 'prior_median_f1': 1.0}\n",
      "- function_4; Score: {'average_f1': 0.8, 'median_f1': 1.0, 'extraction_fraction': 0.9, 'prior_average_f1': 0.8, 'prior_median_f1': 1.0}\n",
      "- function_5; Score: {'average_f1': 0.8, 'median_f1': 1.0, 'extraction_fraction': 0.9, 'prior_average_f1': 0.8, 'prior_median_f1': 1.0}\n",
      "- function_8; Score: {'average_f1': 0.8, 'median_f1': 1.0, 'extraction_fraction': 0.9, 'prior_average_f1': 0.8, 'prior_median_f1': 1.0}\n",
      "- function_12; Score: {'average_f1': 0.8, 'median_f1': 1.0, 'extraction_fraction': 0.9, 'prior_average_f1': 0.8, 'prior_median_f1': 1.0}\n",
      "- function_13; Score: {'average_f1': 0.8, 'median_f1': 1.0, 'extraction_fraction': 0.9, 'prior_average_f1': 0.8, 'prior_median_f1': 1.0}\n",
      "- function_19; Score: {'average_f1': 0.8, 'median_f1': 1.0, 'extraction_fraction': 0.9, 'prior_average_f1': 0.8, 'prior_median_f1': 1.0}\n",
      "- function_20; Score: {'average_f1': 0.8, 'median_f1': 1.0, 'extraction_fraction': 0.9, 'prior_average_f1': 0.8, 'prior_median_f1': 1.0}\n",
      "- function_21; Score: {'average_f1': 0.8, 'median_f1': 1.0, 'extraction_fraction': 0.9, 'prior_average_f1': 0.8, 'prior_median_f1': 1.0}\n",
      "Best script overall: function_2; Score: {'average_f1': 0.8, 'median_f1': 1.0, 'extraction_fraction': 0.9, 'prior_average_f1': 0.8, 'prior_median_f1': 1.0}\n",
      "Apply the scripts to the data lake and save the metadata. Taking the top 10 scripts per field.\n",
      "Applying function function_2...\n",
      "Applying function function_4...\n",
      "Applying function function_5...\n",
      "Applying function function_8...\n",
      "Applying function function_12...\n",
      "Applying function function_13...\n",
      "Applying function function_19...\n",
      "Applying function function_20...\n",
      "Applying function function_21...\n"
     ]
    },
    {
     "name": "stderr",
     "output_type": "stream",
     "text": [
      "Applying key function_2: 100%|██████████| 100/100 [00:00<00:00, 235767.51it/s]\n",
      "Applying key function_4: 100%|██████████| 100/100 [00:00<00:00, 208775.71it/s]\n",
      "Applying key function_5: 100%|██████████| 100/100 [00:00<00:00, 257793.73it/s]\n",
      "Applying key function_8: 100%|██████████| 100/100 [00:00<00:00, 144084.64it/s]\n",
      "Applying key function_12: 100%|██████████| 100/100 [00:00<00:00, 311381.14it/s]\n",
      "Applying key function_13: 100%|██████████| 100/100 [00:00<00:00, 174762.67it/s]\n",
      "Applying key function_19: 100%|██████████| 100/100 [00:00<00:00, 237637.62it/s]\n",
      "Applying key function_20: 100%|██████████| 100/100 [00:00<00:00, 152909.37it/s]\n",
      "Applying key function_21: 100%|██████████| 100/100 [00:00<00:00, 343795.41it/s]"
     ]
    },
    {
     "name": "stdout",
     "output_type": "stream",
     "text": [
      "Save path: /Users/xiqiao/Documents/evaporate-clean/data/evaporate/data/fda_510ks/generative_indexes/fda_510ks/dataLakefda_510ks_date01122024_fileSize100_trainSize10_numAggregate10_chunkSize3000_removeTablesFalse_bodyFalse_cascadingFalse_useBackoffTrue_MODELS1_applicant_all_extractions.json\n",
      "{'function_0': {'function': 'def get_applicant_field(text: str):\\n    \"\"\"\\n    Function to extract the \"applicant field\" from the given text.\\n    \"\"\"\\n    applicant_field = re.findall(r\"Applicant:\\\\s*(.*?)\\\\s*\", text)\\n    return applicant_field', 'promptsource': 0}, 'function_1': {'function': 'def get_applicant_field(text: str):\\n    \"\"\"\\n    Function to extract the applicant field.\\n    \"\"\"\\n    pattern = r\\'Applicant:\\\\n(.*)\\'\\n    match = re.search(pattern, text)\\n    if match:\\n        return match.group(1)', 'promptsource': 1}, 'function_2': {'function': 'def get_applicant_field(text: str):\\n    \"\"\"\\n    Function to extract the \"applicant field\" from the given text.\\n    \"\"\"\\n    applicant_field = re.findall(r\"Applicant:\\\\s*(.*)\", text)\\n    return applicant_field', 'promptsource': 0, 'runtime': 0.012845039367675781}, 'function_3': {'function': 'def get_applicant_field(text: str):\\n    \"\"\"\\n    Function to extract the applicant field.\\n    \"\"\"\\n    pattern = r\\'Applicant:\\\\n(.*)\\'\\n    match = re.search(pattern, text)\\n    if match:\\n        return match.group(1)', 'promptsource': 1}, 'function_4': {'function': 'def get_applicant_field(text: str):\\n    applicant_field = re.findall(r\"Applicant:\\\\s+(.+)\", text)\\n    return applicant_field', 'promptsource': 0, 'runtime': 0.012458086013793945}, 'function_5': {'function': 'def get_applicant_field(text: str):\\n    \"\"\"\\n    Function to extract the applicant field.\\n    \"\"\"\\n    pattern = r\\'Applicant:\\\\s*(.*)\\'\\n    match = re.search(pattern, text)\\n    if match:\\n        return match.group(1)', 'promptsource': 1, 'runtime': 0.012540817260742188}, 'function_6': {'function': 'def get_applicant_field(text: str):\\n    applicant_field = re.findall(r\"Applicant:\\\\n(.+)\", text)\\n    return applicant_field', 'promptsource': 0}, 'function_7': {'function': 'def get_applicant_field(text: str):\\n    \"\"\"\\n    Function to extract the applicant field.\\n    \"\"\"\\n    pattern = r\\'Applicant:\\\\n(.*)\\'\\n    match = re.search(pattern, text)\\n    if match:\\n        return match.group(1)', 'promptsource': 1}, 'function_8': {'function': 'def get_applicant_field(text: str):\\n    \"\"\"\\n    Function to extract the \"applicant field\" from the given text.\\n    \"\"\"\\n    applicant_field = re.findall(r\"Applicant:\\\\s*(.*)\", text)\\n    return applicant_field', 'promptsource': 0, 'runtime': 0.00394892692565918}, 'function_9': {'function': 'def get_applicant_field(text: str):\\n    \"\"\"\\n    Function to extract the applicant field.\\n    \"\"\"\\n    pattern = r\\'Applicant:\\\\n(.*)\\'\\n    match = re.search(pattern, text)\\n    if match:\\n        applicant_field = match.group(1)\\n        return applicant_field.strip()', 'promptsource': 1}, 'function_10': {'function': 'def get_applicant_field(text: str):\\n    \"\"\"\\n    Function to extract the \"applicant field\" from the given text.\\n    \"\"\"\\n    applicant_field = re.findall(r\"applicant’s device\", text)\\n    return applicant_field', 'promptsource': 0}, 'function_11': {'function': 'def get_applicant_field(text: str):\\n    \"\"\"\\n    Function to extract the applicant field.\\n    \"\"\"\\n    pattern = r\\'(?<=applicant’s device ).*?(?= contain)\\'\\n    applicant_field = re.search(pattern, text)\\n    if applicant_field:\\n        return applicant_field.group(0)', 'promptsource': 1}, 'function_12': {'function': 'def get_applicant_field(text: str):\\n    \"\"\"\\n    Function to extract the \"applicant field\" from the given text.\\n    \"\"\"\\n    applicant_field = re.findall(r\"Applicant:\\\\s*(.*?)\\\\s*\\\\n\", text)\\n    return applicant_field', 'promptsource': 0, 'runtime': 0.01344609260559082}, 'function_13': {'function': 'def get_applicant_field(text: str):\\n    \"\"\"\\n    Function to extract the applicant field.\\n    \"\"\"\\n    pattern = r\\'Applicant:\\\\s+(.*)\\'\\n    match = re.search(pattern, text)\\n    if match:\\n        return match.group(1)', 'promptsource': 1, 'runtime': 0.01210474967956543}, 'function_14': {'function': 'def get_applicant_field(text: str):\\n    applicant_field = re.findall(r\"Applicant:(.*?)\\\\n\", text, re.DOTALL)\\n    return applicant_field', 'promptsource': 0}, 'function_15': {'function': 'def get_applicant_field(text: str):\\n    \"\"\"\\n    Function to extract the applicant field.\\n    \"\"\"\\n    pattern = r\\'Applicant\\\\\\'s Device: (.*)\\'\\n    match = re.search(pattern, text)\\n    if match:\\n        return match.group(1)', 'promptsource': 1}, 'function_16': {'function': 'def get_applicant_field(text: str):\\n    \"\"\"\\n    Function to extract the \"applicant field\" from the given text.\\n    \"\"\"\\n    applicant_field = re.findall(r\"Applicant:\\\\s*(.*?)\\\\s*\", text)\\n    return applicant_field', 'promptsource': 0}, 'function_17': {'function': 'def get_applicant_field(text: str):\\n    \"\"\"\\n    Function to extract the applicant field.\\n    \"\"\"\\n    pattern = r\\'Applicant:\\\\n(.*)\\'\\n    match = re.search(pattern, text)\\n    if match:\\n        applicant_field = match.group(1)\\n        return applicant_field.strip()', 'promptsource': 1}, 'function_18': {'function': 'def get_applicant_field(text: str):\\n    \"\"\"\\n    Function to extract the \"applicant field\" from the given text.\\n    \"\"\"\\n    applicant_field = re.findall(r\"Applicant:\\\\s*(.*?)\\\\s*\", text)\\n    return applicant_field', 'promptsource': 0}, 'function_19': {'function': 'def get_applicant_field(text: str):\\n    \"\"\"\\n    Function to extract the applicant field.\\n    \"\"\"\\n    pattern = r\\'Applicant:\\\\s*(.*)\\'\\n    match = re.search(pattern, text)\\n    if match:\\n        return match.group(1)', 'promptsource': 1, 'runtime': 0.00421905517578125}, 'function_20': {'function': 'def get_applicant_field(text: str):\\n    \"\"\"\\n    Function to extract the \"applicant field\" from the given text.\\n    \"\"\"\\n    applicant_field = re.findall(r\"Applicant:\\\\s+(.+)\", text)\\n    return applicant_field', 'promptsource': 0, 'runtime': 0.014087915420532227}, 'function_21': {'function': 'def get_applicant_field(text: str):\\n    \"\"\"\\n    Function to extract the applicant field.\\n    \"\"\"\\n    pattern = r\\'Applicant:\\\\s+(.*)\\'\\n    match = re.search(pattern, text)\\n    if match:\\n        return match.group(1)', 'promptsource': 1, 'runtime': 0.0041348934173583984}, 'function_22': {'function': 'def get_applicant_field(text: str):\\n    applicant_field = re.findall(r\"Applicant: (.+)\", text)\\n    return applicant_field', 'promptsource': 0}, 'function_23': {'function': 'def get_applicant_field(text: str):\\n    \"\"\"\\n    Function to extract the applicant field.\\n    \"\"\"\\n    pattern = r\\'Applicant: (.*)\\'\\n    match = re.search(pattern, text)\\n    if match:\\n        return match.group(1)', 'promptsource': 1}, 'function_24': {'function': 'def get_applicant_field(text: str):\\n    \"\"\"\\n    Function to extract the \"applicant field\" from the given text.\\n    \"\"\"\\n    applicant_field = re.findall(r\"Manufacturer and Instrument Name:\\\\s*(.*?)\\\\n\", text)\\n    return applicant_field', 'promptsource': 0}, 'function_25': {'function': 'def get_applicant_field(text: str):\\n    \"\"\"\\n    Function to extract the applicant field.\\n    \"\"\"\\n    pattern = r\"Manufacturer and Instrument Name:\\\\s*(.*)\"\\n    match = re.search(pattern, text)\\n    if match:\\n        return match.group(1)', 'promptsource': 1}, 'function_26': {'function': 'def get_applicant_field(text: str):\\n    applicant_field = re.findall(r\"applicant’s device transmit data to a computer, webserver, or mobile device\\\\nusing wireless transmission\\\\?\\\\nYes ____X____ or No ________\", text)\\n    return applicant_field', 'promptsource': 0}}\n",
      "\n",
      "\n",
      "Extracting predicate 510k number (12 / 16)\n"
     ]
    },
    {
     "name": "stderr",
     "output_type": "stream",
     "text": [
      "\n"
     ]
    },
    {
     "name": "stdout",
     "output_type": "stream",
     "text": [
      "For attribute predicate 510k number\n",
      "-- Starting with 1144 chunks\n",
      "-- Ending with 199 chunks\n",
      "-- 93 starting chunks in sample files\n",
      "-- 20 chunks in sample files\n"
     ]
    },
    {
     "name": "stderr",
     "output_type": "stream",
     "text": [
      "Extracting attribute predicate 510k number using LM: 100%|██████████| 10/10 [00:10<00:00,  1.01s/it]\n",
      "Generating functions for attribute predicate 510k number: 100%|██████████| 10/10 [01:53<00:00, 11.36s/it]\n"
     ]
    },
    {
     "name": "stdout",
     "output_type": "stream",
     "text": [
      "Extraction fraction: 1.0\n",
      "Top 10 scripts:\n",
      "- function_4; Score: {'average_f1': 0.6666666666666666, 'median_f1': 0.6666666666666666, 'extraction_fraction': 1.0, 'prior_average_f1': 0.6666666666666666, 'prior_median_f1': 0.6666666666666666}\n",
      "- function_5; Score: {'average_f1': 0.6666666666666666, 'median_f1': 0.6666666666666666, 'extraction_fraction': 1.0, 'prior_average_f1': 0.6666666666666666, 'prior_median_f1': 0.6666666666666666}\n",
      "- function_8; Score: {'average_f1': 0.6666666666666666, 'median_f1': 0.6666666666666666, 'extraction_fraction': 1.0, 'prior_average_f1': 0.6666666666666666, 'prior_median_f1': 0.6666666666666666}\n",
      "- function_13; Score: {'average_f1': 0.6666666666666666, 'median_f1': 0.6666666666666666, 'extraction_fraction': 1.0, 'prior_average_f1': 0.6666666666666666, 'prior_median_f1': 0.6666666666666666}\n",
      "- function_16; Score: {'average_f1': 0.6666666666666666, 'median_f1': 0.6666666666666666, 'extraction_fraction': 1.0, 'prior_average_f1': 0.6666666666666666, 'prior_median_f1': 0.6666666666666666}\n",
      "- function_17; Score: {'average_f1': 0.6666666666666666, 'median_f1': 0.6666666666666666, 'extraction_fraction': 1.0, 'prior_average_f1': 0.6666666666666666, 'prior_median_f1': 0.6666666666666666}\n",
      "- function_20; Score: {'average_f1': 0.6666666666666666, 'median_f1': 0.6666666666666666, 'extraction_fraction': 1.0, 'prior_average_f1': 0.6666666666666666, 'prior_median_f1': 0.6666666666666666}\n",
      "- function_21; Score: {'average_f1': 0.6666666666666666, 'median_f1': 0.6666666666666666, 'extraction_fraction': 1.0, 'prior_average_f1': 0.6666666666666666, 'prior_median_f1': 0.6666666666666666}\n",
      "- function_24; Score: {'average_f1': 0.6666666666666666, 'median_f1': 0.6666666666666666, 'extraction_fraction': 1.0, 'prior_average_f1': 0.6666666666666666, 'prior_median_f1': 0.6666666666666666}\n",
      "- function_25; Score: {'average_f1': 0.6666666666666666, 'median_f1': 0.6666666666666666, 'extraction_fraction': 1.0, 'prior_average_f1': 0.6666666666666666, 'prior_median_f1': 0.6666666666666666}\n",
      "Best script overall: function_4; Score: {'average_f1': 0.6666666666666666, 'median_f1': 0.6666666666666666, 'extraction_fraction': 1.0, 'prior_average_f1': 0.6666666666666666, 'prior_median_f1': 0.6666666666666666}\n",
      "Apply the scripts to the data lake and save the metadata. Taking the top 10 scripts per field.\n",
      "Applying function function_4...\n",
      "Applying function function_5...\n",
      "Applying function function_8...\n",
      "Applying function function_13...\n",
      "Applying function function_16...\n",
      "Applying function function_17...\n",
      "Applying function function_20...\n",
      "Applying function function_21...\n",
      "Applying function function_24...\n",
      "Applying function function_25...\n"
     ]
    },
    {
     "name": "stderr",
     "output_type": "stream",
     "text": [
      "Applying key function_4: 100%|██████████| 100/100 [00:00<00:00, 206209.64it/s]\n",
      "Applying key function_5: 100%|██████████| 100/100 [00:00<00:00, 224775.13it/s]\n",
      "Applying key function_8: 100%|██████████| 100/100 [00:00<00:00, 179858.66it/s]\n",
      "Applying key function_13: 100%|██████████| 100/100 [00:00<00:00, 221218.57it/s]\n",
      "Applying key function_16: 100%|██████████| 100/100 [00:00<00:00, 253738.90it/s]\n",
      "Applying key function_17: 100%|██████████| 100/100 [00:00<00:00, 297468.37it/s]\n",
      "Applying key function_20: 100%|██████████| 100/100 [00:00<00:00, 202525.54it/s]\n",
      "Applying key function_21: 100%|██████████| 100/100 [00:00<00:00, 299379.30it/s]\n",
      "Applying key function_24: 100%|██████████| 100/100 [00:00<00:00, 180245.12it/s]\n",
      "Applying key function_25: 100%|██████████| 100/100 [00:00<00:00, 429304.40it/s]\n"
     ]
    },
    {
     "name": "stdout",
     "output_type": "stream",
     "text": [
      "Save path: /Users/xiqiao/Documents/evaporate-clean/data/evaporate/data/fda_510ks/generative_indexes/fda_510ks/dataLakefda_510ks_date01122024_fileSize100_trainSize10_numAggregate10_chunkSize3000_removeTablesFalse_bodyFalse_cascadingFalse_useBackoffTrue_MODELS1_predicate_510k_number_all_extractions.json\n",
      "{'function_0': {'function': 'def get_predicate_510k_number_field(text: str):\\n    \"\"\"\\n    Function to extract the \"predicate 510k number field\". \\n    \"\"\"\\n    pattern = r\"Predicate 510\\\\(k\\\\) number:\\\\s*(\\\\w+)\"\\n    matches = re.findall(pattern, text)\\n    return matches', 'promptsource': 0}, 'function_1': {'function': 'def get_predicate_510k_number_field(text: str):\\n    \"\"\"\\n    Function to extract the predicate 510k number field.\\n    \"\"\"\\n    pattern = r\\'Predicate 510\\\\(k\\\\) number:\\\\s*(\\\\w+)\\'\\n    match = re.search(pattern, text)\\n    if match:\\n        return match.group(1)', 'promptsource': 1}, 'function_2': {'function': 'def get_predicate_510k_number_field(text: str):\\n    \"\"\"\\n    Function to extract the \"predicate 510k number field\". \\n    \"\"\"\\n    pattern = r\"predicate\\\\s510k\\\\snumber:\\\\s(\\\\w+)\"\\n    matches = re.findall(pattern, text, re.IGNORECASE)\\n    return matches', 'promptsource': 0}, 'function_3': {'function': 'def get_predicate_510k_number_field(text: str):\\n    \"\"\"\\n    Function to extract the predicate 510k number field.\\n    \"\"\"\\n    pattern = r\\'(?<=predicate device\\\\nwas performed by analyzing\\\\s)\\\\d+\\'\\n    match = re.search(pattern, text)\\n    if match:\\n        return match.group(0)', 'promptsource': 1}, 'function_4': {'function': 'def get_predicate_510k_number_field(text: str):\\n    pattern = r\"Predicate 510\\\\(k\\\\) number\\\\(s\\\\):\\\\s*(\\\\w+)\"\\n    matches = re.findall(pattern, text)\\n    return matches', 'promptsource': 0, 'runtime': 0.01204991340637207}, 'function_5': {'function': 'def get_predicate_510k_number_field(text: str):\\n    \"\"\"\\n    Function to extract the predicate 510k number field.\\n    \"\"\"\\n    pattern = r\\'Predicate 510\\\\(k\\\\) number\\\\(s\\\\):\\\\s*(\\\\w+)\\'\\n    match = re.search(pattern, text)\\n    if match:\\n        return match.group(1)', 'promptsource': 1, 'runtime': 0.012153863906860352}, 'function_6': {'function': 'def get_predicate_510k_number_field(text: str):\\n    \"\"\"\\n    Function to extract the \"predicate 510k number field\" from the given text.\\n    \"\"\"\\n    pattern = r\"Predicate 510\\\\(k\\\\) Number:\\\\s*(\\\\w+)\"\\n    matches = re.findall(pattern, text)\\n    return matches', 'promptsource': 0}, 'function_7': {'function': 'def get_predicate_510k_number_field(text: str):\\n    \"\"\"\\n    Function to extract the predicate 510k number field.\\n    \"\"\"\\n    pattern = r\\'510\\\\(k\\\\) Number:\\\\s*(\\\\w+)\\'\\n    match = re.search(pattern, text)\\n    if match:\\n        return match.group(1)', 'promptsource': 1}, 'function_8': {'function': 'def get_predicate_510k_number_field(text: str):\\n    pattern = r\"Predicate 510\\\\(k\\\\) number\\\\(s\\\\):\\\\s*(\\\\w+)\"\\n    matches = re.findall(pattern, text)\\n    return matches', 'promptsource': 0, 'runtime': 0.004294157028198242}, 'function_9': {'function': 'def get_predicate_510k_number_field(text: str):\\n    \"\"\"\\n    Function to extract the predicate 510k number field.\\n    \"\"\"\\n    pattern = r\\'Predicate\\\\s510\\\\(k\\\\)\\\\snumber\\\\(s\\\\):\\\\s\\\\n\\\\n(.+?)\\\\n\\'\\n    match = re.search(pattern, text, re.DOTALL)\\n    if match:\\n        return match.group(1)', 'promptsource': 1}, 'function_10': {'function': 'def get_predicate_510k_number_field(text: str):\\n    \"\"\"\\n    Function to extract the \"predicate 510k number field\". \\n    \"\"\"\\n    pattern = r\"predicate\\\\s*510k\\\\s*number\\\\s*:\\\\s*(\\\\w+)\"\\n    matches = re.findall(pattern, text, re.IGNORECASE)\\n    return matches', 'promptsource': 0}, 'function_11': {'function': 'def get_predicate_510k_number_field(text: str):\\n    \"\"\"\\n    Function to extract the predicate 510k number field.\\n    \"\"\"\\n    pattern = r\\'predicate\\\\s510k\\\\snumber:\\\\s(\\\\w+)\\'\\n    match = re.search(pattern, text)\\n    if match:\\n        return match.group(1)', 'promptsource': 1}, 'function_12': {'function': 'def get_predicate_510k_number_field(text: str):\\n    pattern = r\"Predicate 510\\\\(k\\\\) number\\\\(s\\\\):\\\\s*(K\\\\d+)\"\\n    matches = re.findall(pattern, text)\\n    return matches', 'promptsource': 0}, 'function_13': {'function': 'def get_predicate_510k_number_field(text: str):\\n    \"\"\"\\n    Function to extract the predicate 510k number field.\\n    \"\"\"\\n    pattern = r\\'Predicate 510\\\\(k\\\\) number\\\\(s\\\\):\\\\s*(\\\\w+)\\'\\n    match = re.search(pattern, text)\\n    if match:\\n        return match.group(1)', 'promptsource': 1, 'runtime': 0.004314899444580078}, 'function_14': {'function': 'def get_predicate_510k_number_field(text: str):\\n    \"\"\"\\n    Function to extract the \"predicate 510k number field\". \\n    \"\"\"\\n    pattern = r\"Predicate\\\\s+([0-9A-Za-z-]+)\"\\n    matches = re.findall(pattern, text)\\n    return matches', 'promptsource': 0}, 'function_15': {'function': 'def get_predicate_510k_number_field(text: str):\\n    \"\"\"\\n    Function to extract the predicate 510k number field.\\n    \"\"\"\\n    pattern = r\"Predicate\\\\s+510k\\\\s+Number\\\\s*:\\\\s*(\\\\w+)\"\\n    match = re.search(pattern, text)\\n    if match:\\n        return match.group(1)', 'promptsource': 1}, 'function_16': {'function': 'def get_predicate_510k_number_field(text: str):\\n    pattern = r\"Predicate 510\\\\(k\\\\) number\\\\(s\\\\):\\\\s*(.*?)\\\\s*\\\\n\"\\n    matches = re.findall(pattern, text)\\n    return matches', 'promptsource': 0, 'runtime': 0.014419794082641602}, 'function_17': {'function': 'def get_predicate_510k_number_field(text: str):\\n    \"\"\"\\n    Function to extract the predicate 510k number field.\\n    \"\"\"\\n    pattern = r\\'Predicate 510\\\\(k\\\\) number\\\\(s\\\\):\\\\s*\\\\n*\\\\s*(\\\\w+)\\'\\n    match = re.search(pattern, text)\\n    if match:\\n        return match.group(1)', 'promptsource': 1, 'runtime': 0.013043880462646484}, 'function_18': {'function': 'def get_predicate_510k_number_field(text: str):\\n    \"\"\"\\n    Function to extract the \"predicate 510k number field\" from the given text.\\n    \"\"\"\\n    pattern = r\"Predicate 510\\\\(k\\\\) Number:\\\\s*(\\\\w+)\"\\n    matches = re.findall(pattern, text)\\n    return matches', 'promptsource': 0}, 'function_19': {'function': 'def get_predicate_510k_number_field(text: str):\\n    \"\"\"\\n    Function to extract the predicate 510k number field.\\n    \"\"\"\\n    pattern = r\\'510\\\\(k\\\\) Number:\\\\s*(\\\\w+)\\'\\n    match = re.search(pattern, text)\\n    if match:\\n        return match.group(1)', 'promptsource': 1}, 'function_20': {'function': 'def get_predicate_510k_number_field(text: str):\\n    \"\"\"\\n    Function to extract the \"predicate 510k number field\" from the given text.\\n    \"\"\"\\n    pattern = r\"Predicate 510\\\\(k\\\\) number\\\\(s\\\\):\\\\s*(\\\\w+)\"\\n    matches = re.findall(pattern, text)\\n    return matches', 'promptsource': 0, 'runtime': 0.012866020202636719}, 'function_21': {'function': 'def get_predicate_510k_number_field(text: str):\\n    \"\"\"\\n    Function to extract the predicate 510k number field.\\n    \"\"\"\\n    pattern = r\\'Predicate 510\\\\(k\\\\) number\\\\(s\\\\):\\\\s*(\\\\w+)\\'\\n    match = re.search(pattern, text)\\n    if match:\\n        return match.group(1)', 'promptsource': 1, 'runtime': 0.00421595573425293}, 'function_22': {'function': 'def get_predicate_510k_number_field(text: str):\\n    pattern = r\"Predicate 510\\\\(k\\\\) Number:\\\\s*(\\\\w+)\"\\n    matches = re.findall(pattern, text)\\n    return matches', 'promptsource': 0}, 'function_23': {'function': 'def get_predicate_510k_number_field(text: str):\\n    \"\"\"\\n    Function to extract the predicate 510k number field.\\n    \"\"\"\\n    pattern = r\\'(?<=A\\\\. 510\\\\(k\\\\) Number:\\\\n\\\\n)[A-Z0-9]+\\'\\n    match = re.search(pattern, text)\\n    if match:\\n        return match.group(0)', 'promptsource': 1}, 'function_24': {'function': 'def get_predicate_510k_number_field(text: str):\\n    pattern = r\"Predicate 510\\\\(k\\\\) number\\\\(s\\\\):\\\\s*(\\\\w+)\"\\n    matches = re.findall(pattern, text)\\n    return matches', 'promptsource': 0, 'runtime': 0.004385948181152344}, 'function_25': {'function': 'def get_predicate_510k_number_field(text: str):\\n    \"\"\"\\n    Function to extract the predicate 510k number field.\\n    \"\"\"\\n    pattern = r\\'Predicate 510\\\\(k\\\\) number\\\\(s\\\\):\\\\s*(\\\\w+)\\'\\n    match = re.search(pattern, text)\\n    if match:\\n        return match.group(1)', 'promptsource': 1, 'runtime': 0.004196882247924805}, 'function_26': {'function': 'def get_predicate_510k_number_field(text: str):\\n    \"\"\"\\n    Function to extract the \"predicate 510k number field\" from the given text.\\n    \"\"\"\\n    pattern = r\"(\\\\b510\\\\(k\\\\) Number:\\\\s*)([A-Z0-9]+)\"\\n    matches = re.findall(pattern, text)\\n    return [match[1] for match in matches]', 'promptsource': 0}, 'function_27': {'function': 'def get_predicate_510k_number_field(text: str):\\n    \"\"\"\\n    Function to extract the predicate 510k number field.\\n    \"\"\"\\n    pattern = r\\'(?<=510\\\\(k\\\\) Number:\\\\n\\\\n)[A-Z0-9]+\\'\\n    match = re.search(pattern, text)\\n    if match:\\n        return match.group(0)', 'promptsource': 1}, 'function_28': {'function': 'def get_predicate_510k_number_field(text: str):\\n    pattern = r\"Predicate 510\\\\(k\\\\) number\\\\(s\\\\):\\\\s*\\\\n*\\\\s*(\\\\w+)\"\\n    matches = re.findall(pattern, text)\\n    return matches', 'promptsource': 0}, 'function_29': {'function': 'def get_predicate_510k_number_field(text: str):\\n    \"\"\"\\n    Function to extract the predicate 510k number field.\\n    \"\"\"\\n    pattern = r\\'Predicate 510\\\\(k\\\\) number\\\\(s\\\\):\\\\s*(\\\\w+)\\'\\n    match = re.search(pattern, text)\\n    if match:\\n        return match.group(1)', 'promptsource': 1}, 'function_30': {'function': 'def get_predicate_510k_number_field(text: str):\\n    pattern = r\"A\\\\. 510\\\\(k\\\\) Number:\\\\s*(\\\\w+)\"\\n    matches = re.findall(pattern, text)\\n    return matches', 'promptsource': 0}, 'function_31': {'function': 'def get_predicate_510k_number_field(text: str):\\n    \"\"\"\\n    Function to extract the predicate 510k number field.\\n    \"\"\"\\n    pattern = r\\'(?<=A\\\\. 510\\\\(k\\\\) Number:\\\\n\\\\n)[a-zA-Z0-9]+\\'\\n    match = re.search(pattern, text)\\n    if match:\\n        return match.group(0)', 'promptsource': 1}, 'function_32': {'function': 'def get_predicate_510k_number_field(text: str):\\n    pattern = r\"Predicate 510\\\\(k\\\\) number\\\\(s\\\\):\\\\s*(\\\\w+)\"\\n    matches = re.findall(pattern, text)\\n    return matches', 'promptsource': 0}, 'function_33': {'function': 'def get_predicate_510k_number_field(text: str):\\n    \"\"\"\\n    Function to extract the predicate 510k number field.\\n    \"\"\"\\n    pattern = r\\'Predicate 510\\\\(k\\\\) number\\\\(s\\\\):\\\\s*(\\\\w+)\\'\\n    match = re.search(pattern, text)\\n    if match:\\n        return match.group(1)', 'promptsource': 1}, 'function_34': {'function': 'def get_predicate_510k_number_field(text: str):\\n    pattern = r\"predicate\\\\s*510k\\\\s*number\\\\s*:\\\\s*(\\\\w+)\"\\n    matches = re.findall(pattern, text, re.IGNORECASE)\\n    return matches', 'promptsource': 0}, 'function_35': {'function': 'def get_predicate_510k_number_field(text: str):\\n    \"\"\"\\n    Function to extract the predicate 510k number field.\\n    \"\"\"\\n    pattern = r\\'predicate\\\\s510k\\\\snumber\\'\\n    match = re.search(pattern, text, re.IGNORECASE)\\n    if match:\\n        start_index = match.end()\\n        end_index = text.find(\\'\\\\n\\', start_index)\\n        predicate_number = text[start_index:end_index].strip()\\n        return predicate_number', 'promptsource': 1}, 'function_36': {'function': 'def get_predicate_510k_number_field(text: str):\\n    pattern = r\"Predicate 510\\\\(k\\\\) numbers:\\\\s*(.*?)\\\\s*\\\\d+\\\\s*\"\\n    matches = re.findall(pattern, text)\\n    return matches', 'promptsource': 0}, 'function_37': {'function': 'def get_predicate_510k_number_field(text: str):\\n    \"\"\"\\n    Function to extract the predicate 510(k) number field.\\n    \"\"\"\\n    pattern = r\\'K\\\\d+\\'\\n    return re.findall(pattern, text)', 'promptsource': 1}, 'function_38': {'function': 'def get_predicate_510k_number_field(text: str):\\n    pattern = r\"A\\\\. 510\\\\(k\\\\) Number:\\\\s*(\\\\w+)\"\\n    matches = re.findall(pattern, text)\\n    return matches', 'promptsource': 0}, 'function_39': {'function': 'def get_predicate_510k_number_field(text: str):\\n    \"\"\"\\n    Function to extract the predicate 510k number field.\\n    \"\"\"\\n    pattern = r\\'(?<=A\\\\. 510\\\\(k\\\\) Number:\\\\n\\\\n)[A-Z0-9]+\\'\\n    match = re.search(pattern, text)\\n    if match:\\n        return match.group(0)', 'promptsource': 1}}\n",
      "\n",
      "\n",
      "Extracting proprietary and established names (13 / 16)\n",
      "For attribute proprietary and established names\n",
      "-- Starting with 1144 chunks\n",
      "-- Ending with 105 chunks\n",
      "-- 93 starting chunks in sample files\n",
      "-- 11 chunks in sample files\n"
     ]
    },
    {
     "name": "stderr",
     "output_type": "stream",
     "text": [
      "Extracting attribute proprietary and established names using LM: 100%|██████████| 10/10 [00:07<00:00,  1.31it/s]\n",
      "Generating functions for attribute proprietary and established names: 100%|██████████| 10/10 [00:58<00:00,  5.82s/it]\n"
     ]
    },
    {
     "name": "stdout",
     "output_type": "stream",
     "text": [
      "Extraction fraction: 0.9\n",
      "Top 10 scripts:\n",
      "- function_1; Score: {'average_f1': 0.9051747014595313, 'median_f1': 1.0, 'extraction_fraction': 0.9, 'prior_average_f1': 0.9051747014595313, 'prior_median_f1': 1.0}\n",
      "- function_2; Score: {'average_f1': 0.9051747014595313, 'median_f1': 1.0, 'extraction_fraction': 0.9, 'prior_average_f1': 0.9051747014595313, 'prior_median_f1': 1.0}\n",
      "- function_5; Score: {'average_f1': 0.9051747014595313, 'median_f1': 1.0, 'extraction_fraction': 0.9, 'prior_average_f1': 0.9051747014595313, 'prior_median_f1': 1.0}\n",
      "- function_7; Score: {'average_f1': 0.9051747014595313, 'median_f1': 1.0, 'extraction_fraction': 0.9, 'prior_average_f1': 0.9051747014595313, 'prior_median_f1': 1.0}\n",
      "- function_16; Score: {'average_f1': 0.9051747014595313, 'median_f1': 1.0, 'extraction_fraction': 0.9, 'prior_average_f1': 0.9051747014595313, 'prior_median_f1': 1.0}\n",
      "- function_17; Score: {'average_f1': 0.9051747014595313, 'median_f1': 1.0, 'extraction_fraction': 0.9, 'prior_average_f1': 0.9051747014595313, 'prior_median_f1': 1.0}\n",
      "- function_20; Score: {'average_f1': 0.9051747014595313, 'median_f1': 1.0, 'extraction_fraction': 0.9, 'prior_average_f1': 0.9051747014595313, 'prior_median_f1': 1.0}\n",
      "- function_0; Score: {'average_f1': 0.5614285714285714, 'median_f1': 0.5357142857142858, 'extraction_fraction': 0.9, 'prior_average_f1': 0.5614285714285714, 'prior_median_f1': 0.5357142857142858}\n",
      "Best script overall: function_1; Score: {'average_f1': 0.9051747014595313, 'median_f1': 1.0, 'extraction_fraction': 0.9, 'prior_average_f1': 0.9051747014595313, 'prior_median_f1': 1.0}\n",
      "Apply the scripts to the data lake and save the metadata. Taking the top 10 scripts per field.\n",
      "Applying function function_1...\n",
      "Applying function function_2...\n",
      "Applying function function_5...\n",
      "Applying function function_7...\n",
      "Applying function function_16...\n",
      "Applying function function_17...\n",
      "Applying function function_20...\n",
      "Applying function function_0...\n"
     ]
    },
    {
     "name": "stderr",
     "output_type": "stream",
     "text": [
      "Applying key function_1: 100%|██████████| 100/100 [00:00<00:00, 151091.64it/s]\n",
      "Applying key function_2: 100%|██████████| 100/100 [00:00<00:00, 206514.23it/s]\n",
      "Applying key function_5: 100%|██████████| 100/100 [00:00<00:00, 163712.10it/s]\n",
      "Applying key function_7: 100%|██████████| 100/100 [00:00<00:00, 313710.10it/s]\n",
      "Applying key function_16: 100%|██████████| 100/100 [00:00<00:00, 267493.88it/s]\n",
      "Applying key function_17: 100%|██████████| 100/100 [00:00<00:00, 212262.35it/s]\n",
      "Applying key function_20: 100%|██████████| 100/100 [00:00<00:00, 296626.87it/s]\n",
      "Applying key function_0: 100%|██████████| 100/100 [00:00<00:00, 258429.08it/s]\n"
     ]
    },
    {
     "name": "stdout",
     "output_type": "stream",
     "text": [
      "Save path: /Users/xiqiao/Documents/evaporate-clean/data/evaporate/data/fda_510ks/generative_indexes/fda_510ks/dataLakefda_510ks_date01122024_fileSize100_trainSize10_numAggregate10_chunkSize3000_removeTablesFalse_bodyFalse_cascadingFalse_useBackoffTrue_MODELS1_proprietary_and_established_na_all_extractions.json\n",
      "{'function_0': {'function': 'def get_proprietary_and_established_names_field(text: str):\\n    \"\"\"\\n    Function to extract the \"proprietary and established names field\" from the given text.\\n    \"\"\"\\n    pattern = r\"Proprietary and Established Names:\\\\s*(.*?)\\\\s*G.\"\\n    match = re.search(pattern, text)\\n    if match:\\n        return match.group(1).split(\"\\\\n\")', 'promptsource': 0, 'runtime': 0.01553201675415039}, 'function_1': {'function': 'def get_proprietary_and_established_names_field(text: str):\\n    \"\"\"\\n    Function to extract the proprietary and established names field.\\n    \"\"\"\\n    pattern = r\\'Proprietary and Established Names:\\\\s*(.*)\\'\\n    match = re.search(pattern, text)\\n    if match:\\n        return match.group(1)', 'promptsource': 1, 'runtime': 0.011270999908447266}, 'function_2': {'function': 'def get_proprietary_and_established_names_field(text: str):\\n    \"\"\"\\n    Function to extract the \"proprietary and established names field\" from the given text.\\n    \"\"\"\\n    pattern = r\"Proprietary and Established Names:\\\\s*(.*?)\\\\s*\\\\n\"\\n    matches = re.findall(pattern, text)\\n    return matches', 'promptsource': 0, 'runtime': 0.013049840927124023}, 'function_3': {'function': 'def get_proprietary_and_established_names_field(text: str):\\n    \"\"\"\\n    Function to extract the proprietary and established names field.\\n    \"\"\"\\n    pattern = r\\'Proprietary and Established Names:\\\\n(.+?)\\\\n\\'\\n    match = re.search(pattern, text, re.DOTALL)\\n    if match:\\n        return match.group(1).strip()', 'promptsource': 1}, 'function_4': {'function': 'def get_proprietary_and_established_names_field(text: str):\\n    \"\"\"\\n    Function to extract the \"proprietary and established names field\" from the given text.\\n    \"\"\"\\n    pattern = r\"Proprietary and Established Names:\\\\n(.+)\"\\n    match = re.search(pattern, text)\\n    if match:\\n        names_field = match.group(1)\\n        names_list = names_field.split(\"\\\\n\")\\n        return names_list', 'promptsource': 0}, 'function_5': {'function': 'def get_proprietary_and_established_names_field(text: str):\\n    \"\"\"\\n    Function to extract the proprietary and established names field.\\n    \"\"\"\\n    pattern = r\\'Proprietary and Established Names:\\\\s*(.*)\\'\\n    match = re.search(pattern, text)\\n    if match:\\n        return match.group(1)', 'promptsource': 1, 'runtime': 0.004138946533203125}, 'function_6': {'function': 'def get_proprietary_and_established_names_field(text: str):\\n    \"\"\"\\n    Function to extract the \"proprietary and established names field\" from the given text.\\n    \"\"\"\\n    pattern = r\"Proprietary and Established Names:\\\\n(.+)\"\\n    match = re.search(pattern, text)\\n    if match:\\n        return match.group(1).strip().split(\"\\\\n\")', 'promptsource': 0}, 'function_7': {'function': 'def get_proprietary_and_established_names_field(text: str):\\n    \"\"\"\\n    Function to extract the proprietary and established names field.\\n    \"\"\"\\n    pattern = r\\'Proprietary and Established Names:\\\\s*(.*)\\'\\n    match = re.search(pattern, text)\\n    if match:\\n        return match.group(1)', 'promptsource': 1, 'runtime': 0.004345893859863281}, 'function_8': {'function': 'def get_proprietary_and_established_names_field(text: str):\\n    \"\"\"\\n    Function to extract the \"proprietary and established names field\" from the given text.\\n    \"\"\"\\n    pattern = r\"Proprietary and Established Names:\\\\n(.+)\"\\n    match = re.search(pattern, text)\\n    if match:\\n        names_field = match.group(1)\\n        names_list = names_field.split(\"\\\\n\")\\n        return names_list', 'promptsource': 0}, 'function_9': {'function': 'def get_proprietary_and_established_names_field(text: str):\\n    \"\"\"\\n    Function to extract the proprietary and established names field.\\n    \"\"\"\\n    pattern = r\\'Proprietary and Established Names:\\\\n(.+?)\\\\n\\'\\n    match = re.search(pattern, text, re.DOTALL)\\n    if match:\\n        return match.group(1)', 'promptsource': 1}, 'function_10': {'function': 'def get_proprietary_and_established_names_field(text: str):\\n    \"\"\"\\n    Function to extract the \"proprietary and established names field\" from the given text.\\n    \"\"\"\\n    pattern = r\"Proprietary and Established Names:\\\\n(.+)\"\\n    match = re.search(pattern, text)\\n    if match:\\n        return match.group(1).strip().split(\"\\\\n\")', 'promptsource': 0}, 'function_11': {'function': 'def get_proprietary_and_established_names_field(text: str):\\n    \"\"\"\\n    Function to extract the proprietary and established names field.\\n    \"\"\"\\n    pattern = r\\'Proprietary and Established Names:\\\\n(.+?)\\\\n\\'\\n    match = re.search(pattern, text, re.DOTALL)\\n    if match:\\n        return match.group(1)', 'promptsource': 1}, 'function_12': {'function': 'def get_proprietary_and_established_names_field(text: str):\\n    \"\"\"\\n    Function to extract the \"proprietary and established names field\" from the given text.\\n    \"\"\"\\n    pattern = r\"Proprietary and Established Names:\\\\n(.+)\"\\n    match = re.search(pattern, text)\\n    if match:\\n        return match.group(1).strip().split(\"\\\\n\")', 'promptsource': 0}, 'function_13': {'function': 'def get_proprietary_and_established_names_field(text: str):\\n    \"\"\"\\n    Function to extract the proprietary and established names field.\\n    \"\"\"\\n    pattern = r\\'Proprietary and Established Names:\\\\n(.+?)\\\\n\\'\\n    match = re.search(pattern, text, re.DOTALL)\\n    if match:\\n        return match.group(1)', 'promptsource': 1}, 'function_14': {'function': 'def get_proprietary_and_established_names_field(text: str):\\n    \"\"\"\\n    Function to extract the \"proprietary and established names field\". \\n    \"\"\"\\n    pattern = r\"Proprietary and Established Names:\\\\n(.+)\"\\n    match = re.search(pattern, text)\\n    if match:\\n        names_field = match.group(1)\\n        names_list = names_field.split(\"\\\\n\")\\n        return names_list', 'promptsource': 0}, 'function_15': {'function': 'def get_proprietary_and_established_names_field(text: str):\\n    \"\"\"\\n    Function to extract the proprietary and established names field.\\n    \"\"\"\\n    pattern = r\\'Proprietary and Established Names:\\\\n(.+?)\\\\n\\'\\n    match = re.search(pattern, text, re.DOTALL)\\n    if match:\\n        return match.group(1).strip()', 'promptsource': 1}, 'function_16': {'function': 'def get_proprietary_and_established_names_field(text: str):\\n    \"\"\"\\n    Function to extract the \"proprietary and established names field\". \\n    \"\"\"\\n    pattern = r\"Proprietary and Established Names:\\\\s+(.*)\"\\n    match = re.search(pattern, text)\\n    if match:\\n        return match.group(1).split(\"\\\\n\")', 'promptsource': 0, 'runtime': 0.013445138931274414}, 'function_17': {'function': 'def get_proprietary_and_established_names_field(text: str):\\n    \"\"\"\\n    Function to extract the proprietary and established names field.\\n    \"\"\"\\n    pattern = r\\'Proprietary and Established Names:\\\\s+(.*)\\'\\n    match = re.search(pattern, text)\\n    if match:\\n        return match.group(1)', 'promptsource': 1, 'runtime': 0.012951850891113281}, 'function_18': {'function': 'def get_proprietary_and_established_names_field(text: str):\\n    \"\"\"\\n    Function to extract the \"proprietary and established names field\" from the given text.\\n    \"\"\"\\n    pattern = r\\'(?<=\\\\n)[A-Z][A-Za-z\\\\s]+(?=\\\\n)\\'\\n    matches = re.findall(pattern, text)\\n    return matches', 'promptsource': 0}, 'function_19': {'function': 'def get_proprietary_and_established_names_field(text: str):\\n    \"\"\"\\n    Function to extract the proprietary and established names field.\\n    \"\"\"\\n    pattern = r\\'proprietary and established names:(.*?)\\\\n\\'\\n    match = re.search(pattern, text, re.DOTALL)\\n    if match:\\n        return match.group(1).strip()', 'promptsource': 1}, 'function_20': {'function': 'def get_proprietary_and_established_names_field(text: str):\\n    \"\"\"\\n    Function to extract the \"proprietary and established names field\" from the given text.\\n    \"\"\"\\n    pattern = r\"Proprietary and Established Names:\\\\s*(.*?)\\\\s*\\\\n\"\\n    matches = re.findall(pattern, text, re.IGNORECASE)\\n    return matches', 'promptsource': 0, 'runtime': 0.03920173645019531}, 'function_21': {'function': 'def get_proprietary_and_established_names_field(text: str):\\n    \"\"\"\\n    Function to extract the proprietary and established names field.\\n    \"\"\"\\n    pattern = r\\'Proprietary and Established Names:(.*?)\\\\n\\'\\n    match = re.search(pattern, text, re.DOTALL)\\n    if match:\\n        return match.group(1).strip()', 'promptsource': 1}}\n",
      "\n",
      "\n",
      "Extracting regulation section (14 / 16)\n",
      "For attribute regulation section\n",
      "-- Starting with 1144 chunks\n",
      "-- Ending with 107 chunks\n",
      "-- 93 starting chunks in sample files\n",
      "-- 11 chunks in sample files\n"
     ]
    },
    {
     "name": "stderr",
     "output_type": "stream",
     "text": [
      "Extracting attribute regulation section using LM: 100%|██████████| 10/10 [00:06<00:00,  1.48it/s]\n",
      "Generating functions for attribute regulation section: 100%|██████████| 10/10 [00:56<00:00,  5.68s/it]\n"
     ]
    },
    {
     "name": "stdout",
     "output_type": "stream",
     "text": [
      "Extraction fraction: 1.0\n",
      "Top 10 scripts:\n",
      "- function_6; Score: {'average_f1': 0.7555555555555555, 'median_f1': 1.0, 'extraction_fraction': 1.0, 'prior_average_f1': 0.7555555555555555, 'prior_median_f1': 1.0}\n",
      "- function_7; Score: {'average_f1': 0.7555555555555555, 'median_f1': 1.0, 'extraction_fraction': 1.0, 'prior_average_f1': 0.7555555555555555, 'prior_median_f1': 1.0}\n",
      "- function_8; Score: {'average_f1': 0.7555555555555555, 'median_f1': 1.0, 'extraction_fraction': 1.0, 'prior_average_f1': 0.7555555555555555, 'prior_median_f1': 1.0}\n",
      "- function_12; Score: {'average_f1': 0.7555555555555555, 'median_f1': 1.0, 'extraction_fraction': 1.0, 'prior_average_f1': 0.7555555555555555, 'prior_median_f1': 1.0}\n",
      "- function_20; Score: {'average_f1': 0.7555555555555555, 'median_f1': 1.0, 'extraction_fraction': 1.0, 'prior_average_f1': 0.7555555555555555, 'prior_median_f1': 1.0}\n",
      "Best script overall: function_6; Score: {'average_f1': 0.7555555555555555, 'median_f1': 1.0, 'extraction_fraction': 1.0, 'prior_average_f1': 0.7555555555555555, 'prior_median_f1': 1.0}\n",
      "Apply the scripts to the data lake and save the metadata. Taking the top 10 scripts per field.\n",
      "Applying function function_6...\n",
      "Applying function function_7...\n",
      "Applying function function_8...\n",
      "Applying function function_12...\n",
      "Applying function function_20...\n"
     ]
    },
    {
     "name": "stderr",
     "output_type": "stream",
     "text": [
      "Applying key function_6: 100%|██████████| 100/100 [00:00<00:00, 248772.48it/s]\n",
      "Applying key function_7: 100%|██████████| 100/100 [00:00<00:00, 120908.16it/s]\n",
      "Applying key function_8: 100%|██████████| 100/100 [00:00<00:00, 168378.32it/s]\n",
      "Applying key function_12: 100%|██████████| 100/100 [00:00<00:00, 211406.45it/s]\n",
      "Applying key function_20: 100%|██████████| 100/100 [00:00<00:00, 199633.70it/s]\n"
     ]
    },
    {
     "name": "stdout",
     "output_type": "stream",
     "text": [
      "Save path: /Users/xiqiao/Documents/evaporate-clean/data/evaporate/data/fda_510ks/generative_indexes/fda_510ks/dataLakefda_510ks_date01122024_fileSize100_trainSize10_numAggregate10_chunkSize3000_removeTablesFalse_bodyFalse_cascadingFalse_useBackoffTrue_MODELS1_regulation_section_all_extractions.json\n",
      "{'function_0': {'function': 'def get_regulation_section_field(text: str):\\n    \"\"\"\\n    Function to extract the \"regulation section field\". \\n    \"\"\"\\n    regulation_section = re.findall(r\\'Regulation section:\\\\s*(.*?)\\\\s*\\', text)\\n    return regulation_section', 'promptsource': 0}, 'function_1': {'function': 'def get_regulation_section_field(text: str):\\n    \"\"\"\\n    Function to extract the regulation section field.\\n    \"\"\"\\n    pattern = r\\'21 CFR §\\\\d+\\\\.\\\\d+\\'\\n    match = re.search(pattern, text)\\n    if match:\\n        return match.group()', 'promptsource': 1}, 'function_2': {'function': 'def get_regulation_section_field(text: str):\\n    \"\"\"\\n    Function to extract the \"regulation section field\" from the given text.\\n    \"\"\"\\n    regulation_section = re.findall(r\"Regulation section: (\\\\d+ CFR \\\\d+\\\\.\\\\d+)\", text)\\n    return regulation_section', 'promptsource': 0}, 'function_3': {'function': 'def get_regulation_section_field(text: str):\\n    \"\"\"\\n    Function to extract the regulation section field.\\n    \"\"\"\\n    pattern = r\\'Regulation section:\\\\s+(\\\\d+\\\\s+CFR\\\\s+\\\\d+\\\\.\\\\d+)\\'\\n    match = re.search(pattern, text)\\n    if match:\\n        return match.group(1)', 'promptsource': 1}, 'function_4': {'function': 'def get_regulation_section_field(text: str):\\n    \"\"\"\\n    Function to extract the \"regulation section field\". \\n    \"\"\"\\n    regulation_section = re.findall(r\\'Regulation section:\\\\n(.+)\\', text)\\n    return regulation_section', 'promptsource': 0}, 'function_5': {'function': 'def get_regulation_section_field(text: str):\\n    \"\"\"\\n    Function to extract the regulation section field.\\n    \"\"\"\\n    pattern = r\\'Regulation section:\\\\s*(\\\\d+\\\\.\\\\d+)\\\\s*\\'\\n    match = re.search(pattern, text)\\n    if match:\\n        return match.group(1)', 'promptsource': 1}, 'function_6': {'function': 'def get_regulation_section_field(text: str):\\n    \"\"\"\\n    Function to extract the \"regulation section field\" from the given text.\\n    \"\"\"\\n    regulation_section = re.findall(r\\'Regulation section:\\\\s*(.*?)\\\\n\\', text)\\n    return regulation_section', 'promptsource': 0, 'runtime': 0.012192010879516602}, 'function_7': {'function': 'def get_regulation_section_field(text: str):\\n    \"\"\"\\n    Function to extract the regulation section field.\\n    \"\"\"\\n    pattern = r\\'Regulation section:\\\\s*(.*)\\'\\n    match = re.search(pattern, text)\\n    if match:\\n        return match.group(1)', 'promptsource': 1, 'runtime': 0.011105060577392578}, 'function_8': {'function': 'def get_regulation_section_field(text: str):\\n    \"\"\"\\n    Function to extract the \"regulation section field\". \\n    \"\"\"\\n    regulation_section = re.findall(r\\'Regulation section:\\\\s*(.*?)\\\\n\\', text)\\n    return regulation_section', 'promptsource': 0, 'runtime': 0.013376951217651367}, 'function_9': {'function': 'def get_regulation_section_field(text: str):\\n    \"\"\"\\n    Function to extract the regulation section field.\\n    \"\"\"\\n    pattern = r\\'Regulation section:\\\\s*(\\\\d+\\\\.\\\\d+)\\'\\n    match = re.search(pattern, text)\\n    if match:\\n        return match.group(1)', 'promptsource': 1}, 'function_10': {'function': 'def get_regulation_section_field(text: str):\\n    \"\"\"\\n    Function to extract the \"regulation section field\". \\n    \"\"\"\\n    regulation_section = re.findall(r\\'Regulation section:\\\\n\\\\n(.*?)\\\\n\\', text)\\n    return regulation_section', 'promptsource': 0}, 'function_11': {'function': 'def get_regulation_section_field(text: str):\\n    \"\"\"\\n    Function to extract the regulation section field.\\n    \"\"\"\\n    pattern = r\\'Regulation section:\\\\s*(\\\\d+\\\\.\\\\d+)\\'\\n    match = re.search(pattern, text)\\n    if match:\\n        return match.group(1)', 'promptsource': 1}, 'function_12': {'function': 'def get_regulation_section_field(text: str):\\n    \"\"\"\\n    Function to extract the \"regulation section field\". \\n    \"\"\"\\n    regulation_section = re.findall(r\\'Regulation section:\\\\s*(.*?)\\\\n\\', text)\\n    return regulation_section', 'promptsource': 0, 'runtime': 0.0040509700775146484}, 'function_13': {'function': 'def get_regulation_section_field(text: str):\\n    \"\"\"\\n    Function to extract the regulation section field.\\n    \"\"\"\\n    pattern = r\\'Regulation section:\\\\s*(\\\\d+\\\\.\\\\d+)\\'\\n    match = re.search(pattern, text)\\n    if match:\\n        return match.group(1)', 'promptsource': 1}, 'function_14': {'function': 'def get_regulation_section_field(text: str):\\n    \"\"\"\\n    Function to extract the \"regulation section field\". \\n    \"\"\"\\n    pattern = r\"Regulation section:\\\\n\\\\n(.+)\"\\n    match = re.search(pattern, text)\\n    if match:\\n        return match.group(1).split(\"\\\\n\")', 'promptsource': 0}, 'function_15': {'function': 'def get_regulation_section_field(text: str):\\n    \"\"\"\\n    Function to extract the regulation section field.\\n    \"\"\"\\n    pattern = r\\'21 CFR \\\\d+\\\\.\\\\d+\\'\\n    regulation_section_field = re.findall(pattern, text)\\n    return regulation_section_field', 'promptsource': 1}, 'function_16': {'function': \"def get_regulation_section_field(text: str):\\n    regulation_section = re.findall(r'Regulation\\\\n(.+)', text)\\n    return regulation_section\", 'promptsource': 0}, 'function_17': {'function': 'def get_regulation_section_field(text: str):\\n    \"\"\"\\n    Function to extract the regulation section field.\\n    \"\"\"\\n    pattern = r\\'(\\\\d{2} CFR §\\\\d{3}\\\\.\\\\d{4})\\'\\n    matches = re.findall(pattern, text)\\n    return matches', 'promptsource': 1}, 'function_18': {'function': 'def get_regulation_section_field(text: str):\\n    regulation_section = re.findall(r\"(?<=-)\\\\s*(.*?)(?=\\\\n-|\\\\n$)\", text, re.DOTALL)\\n    return regulation_section', 'promptsource': 0}, 'function_19': {'function': 'def get_regulation_section_field(text: str):\\n    \"\"\"\\n    Function to extract the regulation section field.\\n    \"\"\"\\n    pattern = r\\'Refer to the\\\\s+(.*?)\\\\s+section\\'\\n    match = re.search(pattern, text)\\n    if match:\\n        return match.group(1)', 'promptsource': 1}, 'function_20': {'function': 'def get_regulation_section_field(text: str):\\n    \"\"\"\\n    Function to extract the \"regulation section field\". \\n    \"\"\"\\n    regulation_section = re.findall(r\"Regulation section:\\\\s*(.*?)\\\\n\", text)\\n    return regulation_section', 'promptsource': 0, 'runtime': 0.013100147247314453}, 'function_21': {'function': 'def get_regulation_section_field(text: str):\\n    \"\"\"\\n    Function to extract the regulation section field.\\n    \"\"\"\\n    pattern = r\\'21 CFR §\\\\d+\\\\.\\\\d+\\'\\n    regulation_section_field = re.search(pattern, text)\\n    if regulation_section_field:\\n        return regulation_section_field.group()', 'promptsource': 1}}\n",
      "\n",
      "\n",
      "Extracting measurand (15 / 16)\n",
      "For attribute measurand\n",
      "-- Starting with 1144 chunks\n",
      "-- Ending with 114 chunks\n",
      "-- 93 starting chunks in sample files\n",
      "-- 11 chunks in sample files\n"
     ]
    },
    {
     "name": "stderr",
     "output_type": "stream",
     "text": [
      "Extracting attribute measurand using LM: 100%|██████████| 10/10 [00:06<00:00,  1.45it/s]\n",
      "Generating functions for attribute measurand:  50%|█████     | 5/10 [01:03<01:03, 12.61s/it]\n"
     ]
    },
    {
     "ename": "KeyboardInterrupt",
     "evalue": "",
     "output_type": "error",
     "traceback": [
      "\u001b[0;31m---------------------------------------------------------------------------\u001b[0m",
      "\u001b[0;31mKeyboardInterrupt\u001b[0m                         Traceback (most recent call last)",
      "Cell \u001b[0;32mIn[7], line 6\u001b[0m\n\u001b[1;32m      4\u001b[0m \u001b[38;5;28mprint\u001b[39m(\u001b[38;5;124mf\u001b[39m\u001b[38;5;124m\"\u001b[39m\u001b[38;5;130;01m\\n\u001b[39;00m\u001b[38;5;130;01m\\n\u001b[39;00m\u001b[38;5;124mExtracting \u001b[39m\u001b[38;5;132;01m{\u001b[39;00mattribute\u001b[38;5;132;01m}\u001b[39;00m\u001b[38;5;124m (\u001b[39m\u001b[38;5;132;01m{\u001b[39;00mi\u001b[38;5;241m+\u001b[39m\u001b[38;5;241m1\u001b[39m\u001b[38;5;132;01m}\u001b[39;00m\u001b[38;5;124m / \u001b[39m\u001b[38;5;132;01m{\u001b[39;00m\u001b[38;5;28mlen\u001b[39m(attributes)\u001b[38;5;132;01m}\u001b[39;00m\u001b[38;5;124m)\u001b[39m\u001b[38;5;124m\"\u001b[39m)\n\u001b[1;32m      5\u001b[0m t0 \u001b[38;5;241m=\u001b[39m time\u001b[38;5;241m.\u001b[39mtime()\n\u001b[0;32m----> 6\u001b[0m functions[attribute], selected_keys[attribute], total_time, num_toks\u001b[38;5;241m=\u001b[39m \u001b[43mget_attribute_function\u001b[49m\u001b[43m(\u001b[49m\n\u001b[1;32m      7\u001b[0m \u001b[43m    \u001b[49m\u001b[43mprofiler_args\u001b[49m\u001b[43m,\u001b[49m\u001b[43m \u001b[49m\u001b[43mdata_dict\u001b[49m\u001b[43m,\u001b[49m\u001b[43m \u001b[49m\u001b[43mattribute\u001b[49m\n\u001b[1;32m      8\u001b[0m \u001b[43m\u001b[49m\u001b[43m)\u001b[49m\n\u001b[1;32m      9\u001b[0m \u001b[38;5;28mprint\u001b[39m(functions[attribute])\n",
      "File \u001b[0;32m~/Documents/__research/evaporate-clean/evaporate/run_profiler.py:289\u001b[0m, in \u001b[0;36mget_attribute_function\u001b[0;34m(profiler_args, data_dict, attribute)\u001b[0m\n\u001b[1;32m    284\u001b[0m sample_files \u001b[38;5;241m=\u001b[39m sample_scripts(\n\u001b[1;32m    285\u001b[0m     profiler_args\u001b[38;5;241m.\u001b[39mfile_groups,  \n\u001b[1;32m    286\u001b[0m     train_size\u001b[38;5;241m=\u001b[39mprofiler_args\u001b[38;5;241m.\u001b[39mtrain_size,\n\u001b[1;32m    287\u001b[0m )\n\u001b[1;32m    288\u001b[0m t0 \u001b[38;5;241m=\u001b[39m time\u001b[38;5;241m.\u001b[39mtime()\n\u001b[0;32m--> 289\u001b[0m num_toks, success \u001b[38;5;241m=\u001b[39m \u001b[43mrun_profiler\u001b[49m\u001b[43m(\u001b[49m\n\u001b[1;32m    290\u001b[0m \u001b[43m    \u001b[49m\u001b[43mprofiler_args\u001b[49m\u001b[38;5;241;43m.\u001b[39;49m\u001b[43mrun_string\u001b[49m\u001b[43m,\u001b[49m\n\u001b[1;32m    291\u001b[0m \u001b[43m    \u001b[49m\u001b[43mprofiler_args\u001b[49m\u001b[43m,\u001b[49m\u001b[43m \u001b[49m\n\u001b[1;32m    292\u001b[0m \u001b[43m    \u001b[49m\u001b[43mdata_dict\u001b[49m\u001b[43m[\u001b[49m\u001b[38;5;124;43m\"\u001b[39;49m\u001b[38;5;124;43mfile2chunks\u001b[39;49m\u001b[38;5;124;43m\"\u001b[39;49m\u001b[43m]\u001b[49m\u001b[43m,\u001b[49m\u001b[43m \u001b[49m\n\u001b[1;32m    293\u001b[0m \u001b[43m    \u001b[49m\u001b[43mdata_dict\u001b[49m\u001b[43m[\u001b[49m\u001b[38;5;124;43m\"\u001b[39;49m\u001b[38;5;124;43mfile2contents\u001b[39;49m\u001b[38;5;124;43m\"\u001b[39;49m\u001b[43m]\u001b[49m\u001b[43m,\u001b[49m\u001b[43m \u001b[49m\n\u001b[1;32m    294\u001b[0m \u001b[43m    \u001b[49m\u001b[43msample_files\u001b[49m\u001b[43m,\u001b[49m\n\u001b[1;32m    295\u001b[0m \u001b[43m    \u001b[49m\u001b[43mprofiler_args\u001b[49m\u001b[38;5;241;43m.\u001b[39;49m\u001b[43mfull_file_groups\u001b[49m\u001b[43m,\u001b[49m\n\u001b[1;32m    296\u001b[0m \u001b[43m    \u001b[49m\u001b[43mdata_dict\u001b[49m\u001b[43m[\u001b[49m\u001b[38;5;124;43m\"\u001b[39;49m\u001b[38;5;124;43mextraction_manifest_sessions\u001b[39;49m\u001b[38;5;124;43m\"\u001b[39;49m\u001b[43m]\u001b[49m\u001b[43m,\u001b[49m\u001b[43m \u001b[49m\n\u001b[1;32m    297\u001b[0m \u001b[43m    \u001b[49m\u001b[43mattribute\u001b[49m\u001b[43m,\u001b[49m\u001b[43m \u001b[49m\n\u001b[1;32m    298\u001b[0m \u001b[43m    \u001b[49m\u001b[43mprofiler_args\u001b[49m\n\u001b[1;32m    299\u001b[0m \u001b[43m\u001b[49m\u001b[43m)\u001b[49m \n\u001b[1;32m    300\u001b[0m t1 \u001b[38;5;241m=\u001b[39m time\u001b[38;5;241m.\u001b[39mtime()\n\u001b[1;32m    301\u001b[0m \u001b[38;5;28;01mtry\u001b[39;00m:\n",
      "File \u001b[0;32m~/Documents/__research/evaporate-clean/evaporate/profiler.py:612\u001b[0m, in \u001b[0;36mrun_profiler\u001b[0;34m(run_string, args, file2chunks, file2contents, sample_files, group_files, manifest_sessions, attribute, profiler_args)\u001b[0m\n\u001b[1;32m    609\u001b[0m     \u001b[38;5;28;01mreturn\u001b[39;00m total_tokens_prompted, \u001b[38;5;241m0\u001b[39m\n\u001b[1;32m    611\u001b[0m \u001b[38;5;66;03m# PREDICT: get extractions from the synthesized functions and the LM on the sample documents\u001b[39;00m\n\u001b[0;32m--> 612\u001b[0m all_extractions, function_dictionary, num_toks \u001b[38;5;241m=\u001b[39m \u001b[43mget_all_extractions\u001b[49m\u001b[43m(\u001b[49m\n\u001b[1;32m    613\u001b[0m \u001b[43m    \u001b[49m\u001b[43mfile2chunks\u001b[49m\u001b[43m,\u001b[49m\n\u001b[1;32m    614\u001b[0m \u001b[43m    \u001b[49m\u001b[43mfile2contents\u001b[49m\u001b[43m,\u001b[49m\n\u001b[1;32m    615\u001b[0m \u001b[43m    \u001b[49m\u001b[43msample_files\u001b[49m\u001b[43m,\u001b[49m\n\u001b[1;32m    616\u001b[0m \u001b[43m    \u001b[49m\u001b[43mattribute\u001b[49m\u001b[43m,\u001b[49m\n\u001b[1;32m    617\u001b[0m \u001b[43m    \u001b[49m\u001b[43mmanifest_sessions\u001b[49m\u001b[43m,\u001b[49m\n\u001b[1;32m    618\u001b[0m \u001b[43m    \u001b[49m\u001b[43mprofiler_args\u001b[49m\u001b[38;5;241;43m.\u001b[39;49m\u001b[43mEXTRACTION_MODELS\u001b[49m\u001b[43m,\u001b[49m\n\u001b[1;32m    619\u001b[0m \u001b[43m    \u001b[49m\u001b[43mprofiler_args\u001b[49m\u001b[38;5;241;43m.\u001b[39;49m\u001b[43mGOLD_KEY\u001b[49m\u001b[43m,\u001b[49m\n\u001b[1;32m    620\u001b[0m \u001b[43m    \u001b[49m\u001b[43margs\u001b[49m\u001b[43m,\u001b[49m\n\u001b[1;32m    621\u001b[0m \u001b[43m    \u001b[49m\u001b[43muse_qa_model\u001b[49m\u001b[38;5;241;43m=\u001b[39;49m\u001b[43mprofiler_args\u001b[49m\u001b[38;5;241;43m.\u001b[39;49m\u001b[43muse_qa_model\u001b[49m\u001b[43m,\u001b[49m\n\u001b[1;32m    622\u001b[0m \u001b[43m    \u001b[49m\u001b[43moverwrite_cache\u001b[49m\u001b[38;5;241;43m=\u001b[39;49m\u001b[43mprofiler_args\u001b[49m\u001b[38;5;241;43m.\u001b[39;49m\u001b[43moverwrite_cache\u001b[49m\u001b[43m,\u001b[49m\n\u001b[1;32m    623\u001b[0m \u001b[43m\u001b[49m\u001b[43m)\u001b[49m\n\u001b[1;32m    624\u001b[0m total_tokens_prompted \u001b[38;5;241m+\u001b[39m\u001b[38;5;241m=\u001b[39m num_toks\n\u001b[1;32m    625\u001b[0m \u001b[38;5;28;01mif\u001b[39;00m \u001b[38;5;129;01mnot\u001b[39;00m all_extractions:\n",
      "File \u001b[0;32m~/Documents/__research/evaporate-clean/evaporate/profiler.py:577\u001b[0m, in \u001b[0;36mget_all_extractions\u001b[0;34m(file2chunks, file2contents, sample_files, attribute, manifest_sessions, MODELS, GOLD_KEY, args, use_qa_model, overwrite_cache)\u001b[0m\n\u001b[1;32m    574\u001b[0m         \u001b[38;5;28;01mreturn\u001b[39;00m \u001b[38;5;241m0\u001b[39m, \u001b[38;5;241m0\u001b[39m, total_tokens_prompted\n\u001b[1;32m    576\u001b[0m manifest_session \u001b[38;5;241m=\u001b[39m manifest_sessions[GOLD_KEY]\n\u001b[0;32m--> 577\u001b[0m functions, function_promptsource, num_toks \u001b[38;5;241m=\u001b[39m \u001b[43mget_functions\u001b[49m\u001b[43m(\u001b[49m\n\u001b[1;32m    578\u001b[0m \u001b[43m    \u001b[49m\u001b[43mfile2chunks\u001b[49m\u001b[43m,\u001b[49m\u001b[43m \u001b[49m\n\u001b[1;32m    579\u001b[0m \u001b[43m    \u001b[49m\u001b[43msample_files\u001b[49m\u001b[43m,\u001b[49m\u001b[43m \u001b[49m\n\u001b[1;32m    580\u001b[0m \u001b[43m    \u001b[49m\u001b[43mall_extractions\u001b[49m\u001b[43m[\u001b[49m\u001b[43mGOLD_KEY\u001b[49m\u001b[43m]\u001b[49m\u001b[43m,\u001b[49m\n\u001b[1;32m    581\u001b[0m \u001b[43m    \u001b[49m\u001b[43mattribute\u001b[49m\u001b[43m,\u001b[49m\u001b[43m \u001b[49m\n\u001b[1;32m    582\u001b[0m \u001b[43m    \u001b[49m\u001b[43mmanifest_session\u001b[49m\u001b[43m,\u001b[49m\n\u001b[1;32m    583\u001b[0m \u001b[43m    \u001b[49m\u001b[43moverwrite_cache\u001b[49m\u001b[38;5;241;43m=\u001b[39;49m\u001b[43moverwrite_cache\u001b[49m\u001b[43m,\u001b[49m\n\u001b[1;32m    584\u001b[0m \u001b[43m\u001b[49m\u001b[43m)\u001b[49m\n\u001b[1;32m    585\u001b[0m total_tokens_prompted \u001b[38;5;241m+\u001b[39m\u001b[38;5;241m=\u001b[39m num_toks\n\u001b[1;32m    587\u001b[0m function_dictionary \u001b[38;5;241m=\u001b[39m defaultdict(\u001b[38;5;28mdict\u001b[39m)\n",
      "File \u001b[0;32m~/Documents/__research/evaporate-clean/evaporate/profiler.py:382\u001b[0m, in \u001b[0;36mget_functions\u001b[0;34m(file2chunks, sample_files, all_extractions, attribute, manifest_session, overwrite_cache)\u001b[0m\n\u001b[1;32m    376\u001b[0m prompt \u001b[38;5;241m=\u001b[39m prompt_template\u001b[38;5;241m.\u001b[39mformat(\n\u001b[1;32m    377\u001b[0m     attribute\u001b[38;5;241m=\u001b[39mattribute, \n\u001b[1;32m    378\u001b[0m     function_field\u001b[38;5;241m=\u001b[39mfunction_field, \n\u001b[1;32m    379\u001b[0m     chunk\u001b[38;5;241m=\u001b[39mchunk, \n\u001b[1;32m    380\u001b[0m ) \n\u001b[1;32m    381\u001b[0m \u001b[38;5;28;01mtry\u001b[39;00m:\n\u001b[0;32m--> 382\u001b[0m     script, num_toks \u001b[38;5;241m=\u001b[39m \u001b[43mapply_prompt\u001b[49m\u001b[43m(\u001b[49m\n\u001b[1;32m    383\u001b[0m \u001b[43m        \u001b[49m\u001b[43mStep\u001b[49m\u001b[43m(\u001b[49m\u001b[43mprompt\u001b[49m\u001b[43m)\u001b[49m\u001b[43m,\u001b[49m\u001b[43m \u001b[49m\n\u001b[1;32m    384\u001b[0m \u001b[43m        \u001b[49m\u001b[43mmax_toks\u001b[49m\u001b[38;5;241;43m=\u001b[39;49m\u001b[38;5;241;43m500\u001b[39;49m\u001b[43m,\u001b[49m\u001b[43m \u001b[49m\n\u001b[1;32m    385\u001b[0m \u001b[43m        \u001b[49m\u001b[43mmanifest\u001b[49m\u001b[38;5;241;43m=\u001b[39;49m\u001b[43mmanifest_session\u001b[49m\u001b[43m,\u001b[49m\n\u001b[1;32m    386\u001b[0m \u001b[43m        \u001b[49m\u001b[43moverwrite_cache\u001b[49m\u001b[38;5;241;43m=\u001b[39;49m\u001b[43moverwrite_cache\u001b[49m\n\u001b[1;32m    387\u001b[0m \u001b[43m    \u001b[49m\u001b[43m)\u001b[49m\n\u001b[1;32m    388\u001b[0m     total_tokens_prompted \u001b[38;5;241m+\u001b[39m\u001b[38;5;241m=\u001b[39m num_toks\n\u001b[1;32m    389\u001b[0m \u001b[38;5;28;01mexcept\u001b[39;00m \u001b[38;5;167;01mException\u001b[39;00m \u001b[38;5;28;01mas\u001b[39;00m e:\n",
      "File \u001b[0;32m~/Documents/__research/evaporate-clean/evaporate/utils.py:26\u001b[0m, in \u001b[0;36mapply_prompt\u001b[0;34m(step, max_toks, do_print, manifest, overwrite_cache)\u001b[0m\n\u001b[1;32m     23\u001b[0m     cur_idx \u001b[38;5;241m=\u001b[39m \u001b[38;5;241m0\u001b[39m\n\u001b[1;32m     25\u001b[0m prompt \u001b[38;5;241m=\u001b[39m step\u001b[38;5;241m.\u001b[39mprompt\n\u001b[0;32m---> 26\u001b[0m response, num_tokens \u001b[38;5;241m=\u001b[39m \u001b[43mget_response\u001b[49m\u001b[43m(\u001b[49m\n\u001b[1;32m     27\u001b[0m \u001b[43m    \u001b[49m\u001b[43mprompt\u001b[49m\u001b[43m,\u001b[49m\u001b[43m \u001b[49m\n\u001b[1;32m     28\u001b[0m \u001b[43m    \u001b[49m\u001b[43mmanifest\u001b[49m\u001b[43m,\u001b[49m\u001b[43m \u001b[49m\n\u001b[1;32m     29\u001b[0m \u001b[43m    \u001b[49m\u001b[43mmax_toks\u001b[49m\u001b[43m \u001b[49m\u001b[38;5;241;43m=\u001b[39;49m\u001b[43m \u001b[49m\u001b[43mmax_toks\u001b[49m\u001b[43m,\u001b[49m\u001b[43m \u001b[49m\n\u001b[1;32m     30\u001b[0m \u001b[43m    \u001b[49m\u001b[43moverwrite\u001b[49m\u001b[38;5;241;43m=\u001b[39;49m\u001b[43moverwrite_cache\u001b[49m\u001b[43m,\u001b[49m\n\u001b[1;32m     31\u001b[0m \u001b[43m    \u001b[49m\u001b[43mstop_token\u001b[49m\u001b[38;5;241;43m=\u001b[39;49m\u001b[38;5;124;43m\"\u001b[39;49m\u001b[38;5;124;43m---\u001b[39;49m\u001b[38;5;124;43m\"\u001b[39;49m\n\u001b[1;32m     32\u001b[0m \u001b[43m\u001b[49m\u001b[43m)\u001b[49m\n\u001b[1;32m     33\u001b[0m step\u001b[38;5;241m.\u001b[39mresponse \u001b[38;5;241m=\u001b[39m response\n\u001b[1;32m     34\u001b[0m \u001b[38;5;28;01mif\u001b[39;00m do_print:\n",
      "File \u001b[0;32m~/Documents/__research/evaporate-clean/evaporate/utils.py:239\u001b[0m, in \u001b[0;36mget_response\u001b[0;34m(prompt, manifest, overwrite, max_toks, stop_token, gold_choices, verbose)\u001b[0m\n\u001b[1;32m    237\u001b[0m     num_tokens \u001b[38;5;241m=\u001b[39m response_obj[\u001b[38;5;124m'\u001b[39m\u001b[38;5;124musage\u001b[39m\u001b[38;5;124m'\u001b[39m][\u001b[38;5;124m'\u001b[39m\u001b[38;5;124mtotal_tokens\u001b[39m\u001b[38;5;124m'\u001b[39m]\n\u001b[1;32m    238\u001b[0m \u001b[38;5;28;01melse\u001b[39;00m:\n\u001b[0;32m--> 239\u001b[0m     response_obj \u001b[38;5;241m=\u001b[39m \u001b[43mmanifest\u001b[49m\u001b[38;5;241;43m.\u001b[39;49m\u001b[43mrun\u001b[49m\u001b[43m(\u001b[49m\n\u001b[1;32m    240\u001b[0m \u001b[43m        \u001b[49m\u001b[43mprompt\u001b[49m\u001b[43m,\u001b[49m\n\u001b[1;32m    241\u001b[0m \u001b[43m        \u001b[49m\u001b[43mmax_tokens\u001b[49m\u001b[38;5;241;43m=\u001b[39;49m\u001b[43mmax_toks\u001b[49m\u001b[43m,\u001b[49m\n\u001b[1;32m    242\u001b[0m \u001b[43m        \u001b[49m\u001b[43mstop_token\u001b[49m\u001b[38;5;241;43m=\u001b[39;49m\u001b[43mstop_token\u001b[49m\u001b[43m,\u001b[49m\n\u001b[1;32m    243\u001b[0m \u001b[43m        \u001b[49m\u001b[43moverwrite_cache\u001b[49m\u001b[38;5;241;43m=\u001b[39;49m\u001b[43moverwrite\u001b[49m\u001b[43m,\u001b[49m\n\u001b[1;32m    244\u001b[0m \u001b[43m        \u001b[49m\u001b[43mreturn_response\u001b[49m\u001b[38;5;241;43m=\u001b[39;49m\u001b[38;5;28;43;01mTrue\u001b[39;49;00m\n\u001b[1;32m    245\u001b[0m \u001b[43m    \u001b[49m\u001b[43m)\u001b[49m\n\u001b[1;32m    246\u001b[0m     num_tokens \u001b[38;5;241m=\u001b[39m \u001b[38;5;241m-\u001b[39m\u001b[38;5;241m1\u001b[39m\n\u001b[1;32m    247\u001b[0m     \u001b[38;5;28;01mtry\u001b[39;00m:\n",
      "File \u001b[0;32m~/anaconda3/envs/evaporate/lib/python3.8/site-packages/manifest/manifest.py:380\u001b[0m, in \u001b[0;36mManifest.run\u001b[0;34m(self, prompt, overwrite_cache, stop_token, return_response, stream, **kwargs)\u001b[0m\n\u001b[1;32m    369\u001b[0m         logger\u001b[38;5;241m.\u001b[39mwarning(\n\u001b[1;32m    370\u001b[0m             \u001b[38;5;124m\"\u001b[39m\u001b[38;5;124mstop_token is not supported for chat prompt. \u001b[39m\u001b[38;5;124m\"\u001b[39m\n\u001b[1;32m    371\u001b[0m             \u001b[38;5;124m\"\u001b[39m\u001b[38;5;124mIgnoring stop_token.\u001b[39m\u001b[38;5;124m\"\u001b[39m\n\u001b[1;32m    372\u001b[0m         )\n\u001b[1;32m    373\u001b[0m     \u001b[38;5;28;01mreturn\u001b[39;00m \u001b[38;5;28mself\u001b[39m\u001b[38;5;241m.\u001b[39m_run_chat(\n\u001b[1;32m    374\u001b[0m         prompt\u001b[38;5;241m=\u001b[39mcast(List[Dict[\u001b[38;5;28mstr\u001b[39m, \u001b[38;5;28mstr\u001b[39m]], prompt),\n\u001b[1;32m    375\u001b[0m         client\u001b[38;5;241m=\u001b[39mclient,\n\u001b[0;32m   (...)\u001b[0m\n\u001b[1;32m    378\u001b[0m         \u001b[38;5;241m*\u001b[39m\u001b[38;5;241m*\u001b[39mkwargs,\n\u001b[1;32m    379\u001b[0m     )\n\u001b[0;32m--> 380\u001b[0m \u001b[38;5;28;01mreturn\u001b[39;00m \u001b[38;5;28;43mself\u001b[39;49m\u001b[38;5;241;43m.\u001b[39;49m\u001b[43m_run\u001b[49m\u001b[43m(\u001b[49m\n\u001b[1;32m    381\u001b[0m \u001b[43m    \u001b[49m\u001b[43mprompt\u001b[49m\u001b[38;5;241;43m=\u001b[39;49m\u001b[43mcast\u001b[49m\u001b[43m(\u001b[49m\u001b[43mUnion\u001b[49m\u001b[43m[\u001b[49m\u001b[38;5;28;43mstr\u001b[39;49m\u001b[43m,\u001b[49m\u001b[43m \u001b[49m\u001b[43mList\u001b[49m\u001b[43m[\u001b[49m\u001b[38;5;28;43mstr\u001b[39;49m\u001b[43m]\u001b[49m\u001b[43m]\u001b[49m\u001b[43m,\u001b[49m\u001b[43m \u001b[49m\u001b[43mprompt\u001b[49m\u001b[43m)\u001b[49m\u001b[43m,\u001b[49m\n\u001b[1;32m    382\u001b[0m \u001b[43m    \u001b[49m\u001b[43mclient\u001b[49m\u001b[38;5;241;43m=\u001b[39;49m\u001b[43mclient\u001b[49m\u001b[43m,\u001b[49m\n\u001b[1;32m    383\u001b[0m \u001b[43m    \u001b[49m\u001b[43moverwrite_cache\u001b[49m\u001b[38;5;241;43m=\u001b[39;49m\u001b[43moverwrite_cache\u001b[49m\u001b[43m,\u001b[49m\n\u001b[1;32m    384\u001b[0m \u001b[43m    \u001b[49m\u001b[43mstop_token\u001b[49m\u001b[38;5;241;43m=\u001b[39;49m\u001b[43mstop_token\u001b[49m\u001b[43m,\u001b[49m\n\u001b[1;32m    385\u001b[0m \u001b[43m    \u001b[49m\u001b[43mreturn_response\u001b[49m\u001b[38;5;241;43m=\u001b[39;49m\u001b[43mreturn_response\u001b[49m\u001b[43m,\u001b[49m\n\u001b[1;32m    386\u001b[0m \u001b[43m    \u001b[49m\u001b[38;5;241;43m*\u001b[39;49m\u001b[38;5;241;43m*\u001b[39;49m\u001b[43mkwargs\u001b[49m\u001b[43m,\u001b[49m\n\u001b[1;32m    387\u001b[0m \u001b[43m\u001b[49m\u001b[43m)\u001b[49m\n",
      "File \u001b[0;32m~/anaconda3/envs/evaporate/lib/python3.8/site-packages/manifest/manifest.py:429\u001b[0m, in \u001b[0;36mManifest._run\u001b[0;34m(self, prompt, client, overwrite_cache, stop_token, return_response, **kwargs)\u001b[0m\n\u001b[1;32m    426\u001b[0m \u001b[38;5;28;01mif\u001b[39;00m request_params\u001b[38;5;241m.\u001b[39mprompt:\n\u001b[1;32m    427\u001b[0m     \u001b[38;5;66;03m# Start timing metrics\u001b[39;00m\n\u001b[1;32m    428\u001b[0m     \u001b[38;5;28mself\u001b[39m\u001b[38;5;241m.\u001b[39mclient_pool\u001b[38;5;241m.\u001b[39mstart_timer()\n\u001b[0;32m--> 429\u001b[0m     response \u001b[38;5;241m=\u001b[39m \u001b[43mclient\u001b[49m\u001b[38;5;241;43m.\u001b[39;49m\u001b[43mrun_request\u001b[49m\u001b[43m(\u001b[49m\u001b[43mrequest_params\u001b[49m\u001b[43m)\u001b[49m\n\u001b[1;32m    430\u001b[0m     \u001b[38;5;28mself\u001b[39m\u001b[38;5;241m.\u001b[39mclient_pool\u001b[38;5;241m.\u001b[39mend_timer()\n\u001b[1;32m    431\u001b[0m \u001b[38;5;28;01melse\u001b[39;00m:\n\u001b[1;32m    432\u001b[0m     \u001b[38;5;66;03m# Nothing to run\u001b[39;00m\n",
      "File \u001b[0;32m~/anaconda3/envs/evaporate/lib/python3.8/site-packages/manifest/clients/client.py:546\u001b[0m, in \u001b[0;36mClient.run_request\u001b[0;34m(self, request)\u001b[0m\n\u001b[1;32m    543\u001b[0m     batch_size \u001b[38;5;241m=\u001b[39m \u001b[38;5;28mint\u001b[39m(math\u001b[38;5;241m.\u001b[39mceil(\u001b[38;5;28mlen\u001b[39m(prompt_list) \u001b[38;5;241m/\u001b[39m (num_batches \u001b[38;5;241m+\u001b[39m \u001b[38;5;241m1\u001b[39m)))\n\u001b[1;32m    544\u001b[0m request_batches \u001b[38;5;241m=\u001b[39m \u001b[38;5;28mself\u001b[39m\u001b[38;5;241m.\u001b[39m_split_requests(request_params, batch_size)\n\u001b[0;32m--> 546\u001b[0m response_dicts \u001b[38;5;241m=\u001b[39m [\n\u001b[1;32m    547\u001b[0m     \u001b[38;5;28mself\u001b[39m\u001b[38;5;241m.\u001b[39m_run_completion(batch, retry_timeout) \u001b[38;5;28;01mfor\u001b[39;00m batch \u001b[38;5;129;01min\u001b[39;00m request_batches\n\u001b[1;32m    548\u001b[0m ]\n\u001b[1;32m    549\u001b[0m \u001b[38;5;66;03m# Flatten responses\u001b[39;00m\n\u001b[1;32m    550\u001b[0m \u001b[38;5;28;01mreturn\u001b[39;00m \u001b[38;5;28mself\u001b[39m\u001b[38;5;241m.\u001b[39m_stitch_responses(request, response_dicts)\n",
      "File \u001b[0;32m~/anaconda3/envs/evaporate/lib/python3.8/site-packages/manifest/clients/client.py:547\u001b[0m, in \u001b[0;36m<listcomp>\u001b[0;34m(.0)\u001b[0m\n\u001b[1;32m    543\u001b[0m     batch_size \u001b[38;5;241m=\u001b[39m \u001b[38;5;28mint\u001b[39m(math\u001b[38;5;241m.\u001b[39mceil(\u001b[38;5;28mlen\u001b[39m(prompt_list) \u001b[38;5;241m/\u001b[39m (num_batches \u001b[38;5;241m+\u001b[39m \u001b[38;5;241m1\u001b[39m)))\n\u001b[1;32m    544\u001b[0m request_batches \u001b[38;5;241m=\u001b[39m \u001b[38;5;28mself\u001b[39m\u001b[38;5;241m.\u001b[39m_split_requests(request_params, batch_size)\n\u001b[1;32m    546\u001b[0m response_dicts \u001b[38;5;241m=\u001b[39m [\n\u001b[0;32m--> 547\u001b[0m     \u001b[38;5;28;43mself\u001b[39;49m\u001b[38;5;241;43m.\u001b[39;49m\u001b[43m_run_completion\u001b[49m\u001b[43m(\u001b[49m\u001b[43mbatch\u001b[49m\u001b[43m,\u001b[49m\u001b[43m \u001b[49m\u001b[43mretry_timeout\u001b[49m\u001b[43m)\u001b[49m \u001b[38;5;28;01mfor\u001b[39;00m batch \u001b[38;5;129;01min\u001b[39;00m request_batches\n\u001b[1;32m    548\u001b[0m ]\n\u001b[1;32m    549\u001b[0m \u001b[38;5;66;03m# Flatten responses\u001b[39;00m\n\u001b[1;32m    550\u001b[0m \u001b[38;5;28;01mreturn\u001b[39;00m \u001b[38;5;28mself\u001b[39m\u001b[38;5;241m.\u001b[39m_stitch_responses(request, response_dicts)\n",
      "File \u001b[0;32m~/anaconda3/envs/evaporate/lib/python3.8/site-packages/tenacity/__init__.py:289\u001b[0m, in \u001b[0;36mBaseRetrying.wraps.<locals>.wrapped_f\u001b[0;34m(*args, **kw)\u001b[0m\n\u001b[1;32m    287\u001b[0m \u001b[38;5;129m@functools\u001b[39m\u001b[38;5;241m.\u001b[39mwraps(f)\n\u001b[1;32m    288\u001b[0m \u001b[38;5;28;01mdef\u001b[39;00m \u001b[38;5;21mwrapped_f\u001b[39m(\u001b[38;5;241m*\u001b[39margs: t\u001b[38;5;241m.\u001b[39mAny, \u001b[38;5;241m*\u001b[39m\u001b[38;5;241m*\u001b[39mkw: t\u001b[38;5;241m.\u001b[39mAny) \u001b[38;5;241m-\u001b[39m\u001b[38;5;241m>\u001b[39m t\u001b[38;5;241m.\u001b[39mAny:\n\u001b[0;32m--> 289\u001b[0m     \u001b[38;5;28;01mreturn\u001b[39;00m \u001b[38;5;28;43mself\u001b[39;49m\u001b[43m(\u001b[49m\u001b[43mf\u001b[49m\u001b[43m,\u001b[49m\u001b[43m \u001b[49m\u001b[38;5;241;43m*\u001b[39;49m\u001b[43margs\u001b[49m\u001b[43m,\u001b[49m\u001b[43m \u001b[49m\u001b[38;5;241;43m*\u001b[39;49m\u001b[38;5;241;43m*\u001b[39;49m\u001b[43mkw\u001b[49m\u001b[43m)\u001b[49m\n",
      "File \u001b[0;32m~/anaconda3/envs/evaporate/lib/python3.8/site-packages/tenacity/__init__.py:379\u001b[0m, in \u001b[0;36mRetrying.__call__\u001b[0;34m(self, fn, *args, **kwargs)\u001b[0m\n\u001b[1;32m    377\u001b[0m retry_state \u001b[38;5;241m=\u001b[39m RetryCallState(retry_object\u001b[38;5;241m=\u001b[39m\u001b[38;5;28mself\u001b[39m, fn\u001b[38;5;241m=\u001b[39mfn, args\u001b[38;5;241m=\u001b[39margs, kwargs\u001b[38;5;241m=\u001b[39mkwargs)\n\u001b[1;32m    378\u001b[0m \u001b[38;5;28;01mwhile\u001b[39;00m \u001b[38;5;28;01mTrue\u001b[39;00m:\n\u001b[0;32m--> 379\u001b[0m     do \u001b[38;5;241m=\u001b[39m \u001b[38;5;28;43mself\u001b[39;49m\u001b[38;5;241;43m.\u001b[39;49m\u001b[43miter\u001b[49m\u001b[43m(\u001b[49m\u001b[43mretry_state\u001b[49m\u001b[38;5;241;43m=\u001b[39;49m\u001b[43mretry_state\u001b[49m\u001b[43m)\u001b[49m\n\u001b[1;32m    380\u001b[0m     \u001b[38;5;28;01mif\u001b[39;00m \u001b[38;5;28misinstance\u001b[39m(do, DoAttempt):\n\u001b[1;32m    381\u001b[0m         \u001b[38;5;28;01mtry\u001b[39;00m:\n",
      "File \u001b[0;32m~/anaconda3/envs/evaporate/lib/python3.8/site-packages/tenacity/__init__.py:314\u001b[0m, in \u001b[0;36mBaseRetrying.iter\u001b[0;34m(self, retry_state)\u001b[0m\n\u001b[1;32m    312\u001b[0m is_explicit_retry \u001b[38;5;241m=\u001b[39m fut\u001b[38;5;241m.\u001b[39mfailed \u001b[38;5;129;01mand\u001b[39;00m \u001b[38;5;28misinstance\u001b[39m(fut\u001b[38;5;241m.\u001b[39mexception(), TryAgain)\n\u001b[1;32m    313\u001b[0m \u001b[38;5;28;01mif\u001b[39;00m \u001b[38;5;129;01mnot\u001b[39;00m (is_explicit_retry \u001b[38;5;129;01mor\u001b[39;00m \u001b[38;5;28mself\u001b[39m\u001b[38;5;241m.\u001b[39mretry(retry_state)):\n\u001b[0;32m--> 314\u001b[0m     \u001b[38;5;28;01mreturn\u001b[39;00m \u001b[43mfut\u001b[49m\u001b[38;5;241;43m.\u001b[39;49m\u001b[43mresult\u001b[49m\u001b[43m(\u001b[49m\u001b[43m)\u001b[49m\n\u001b[1;32m    316\u001b[0m \u001b[38;5;28;01mif\u001b[39;00m \u001b[38;5;28mself\u001b[39m\u001b[38;5;241m.\u001b[39mafter \u001b[38;5;129;01mis\u001b[39;00m \u001b[38;5;129;01mnot\u001b[39;00m \u001b[38;5;28;01mNone\u001b[39;00m:\n\u001b[1;32m    317\u001b[0m     \u001b[38;5;28mself\u001b[39m\u001b[38;5;241m.\u001b[39mafter(retry_state)\n",
      "File \u001b[0;32m~/anaconda3/envs/evaporate/lib/python3.8/concurrent/futures/_base.py:437\u001b[0m, in \u001b[0;36mFuture.result\u001b[0;34m(self, timeout)\u001b[0m\n\u001b[1;32m    435\u001b[0m     \u001b[38;5;28;01mraise\u001b[39;00m CancelledError()\n\u001b[1;32m    436\u001b[0m \u001b[38;5;28;01melif\u001b[39;00m \u001b[38;5;28mself\u001b[39m\u001b[38;5;241m.\u001b[39m_state \u001b[38;5;241m==\u001b[39m FINISHED:\n\u001b[0;32m--> 437\u001b[0m     \u001b[38;5;28;01mreturn\u001b[39;00m \u001b[38;5;28;43mself\u001b[39;49m\u001b[38;5;241;43m.\u001b[39;49m\u001b[43m__get_result\u001b[49m\u001b[43m(\u001b[49m\u001b[43m)\u001b[49m\n\u001b[1;32m    439\u001b[0m \u001b[38;5;28mself\u001b[39m\u001b[38;5;241m.\u001b[39m_condition\u001b[38;5;241m.\u001b[39mwait(timeout)\n\u001b[1;32m    441\u001b[0m \u001b[38;5;28;01mif\u001b[39;00m \u001b[38;5;28mself\u001b[39m\u001b[38;5;241m.\u001b[39m_state \u001b[38;5;129;01min\u001b[39;00m [CANCELLED, CANCELLED_AND_NOTIFIED]:\n",
      "File \u001b[0;32m~/anaconda3/envs/evaporate/lib/python3.8/concurrent/futures/_base.py:389\u001b[0m, in \u001b[0;36mFuture.__get_result\u001b[0;34m(self)\u001b[0m\n\u001b[1;32m    387\u001b[0m \u001b[38;5;28;01mif\u001b[39;00m \u001b[38;5;28mself\u001b[39m\u001b[38;5;241m.\u001b[39m_exception:\n\u001b[1;32m    388\u001b[0m     \u001b[38;5;28;01mtry\u001b[39;00m:\n\u001b[0;32m--> 389\u001b[0m         \u001b[38;5;28;01mraise\u001b[39;00m \u001b[38;5;28mself\u001b[39m\u001b[38;5;241m.\u001b[39m_exception\n\u001b[1;32m    390\u001b[0m     \u001b[38;5;28;01mfinally\u001b[39;00m:\n\u001b[1;32m    391\u001b[0m         \u001b[38;5;66;03m# Break a reference cycle with the exception in self._exception\u001b[39;00m\n\u001b[1;32m    392\u001b[0m         \u001b[38;5;28mself\u001b[39m \u001b[38;5;241m=\u001b[39m \u001b[38;5;28;01mNone\u001b[39;00m\n",
      "File \u001b[0;32m~/anaconda3/envs/evaporate/lib/python3.8/site-packages/tenacity/__init__.py:382\u001b[0m, in \u001b[0;36mRetrying.__call__\u001b[0;34m(self, fn, *args, **kwargs)\u001b[0m\n\u001b[1;32m    380\u001b[0m \u001b[38;5;28;01mif\u001b[39;00m \u001b[38;5;28misinstance\u001b[39m(do, DoAttempt):\n\u001b[1;32m    381\u001b[0m     \u001b[38;5;28;01mtry\u001b[39;00m:\n\u001b[0;32m--> 382\u001b[0m         result \u001b[38;5;241m=\u001b[39m \u001b[43mfn\u001b[49m\u001b[43m(\u001b[49m\u001b[38;5;241;43m*\u001b[39;49m\u001b[43margs\u001b[49m\u001b[43m,\u001b[49m\u001b[43m \u001b[49m\u001b[38;5;241;43m*\u001b[39;49m\u001b[38;5;241;43m*\u001b[39;49m\u001b[43mkwargs\u001b[49m\u001b[43m)\u001b[49m\n\u001b[1;32m    383\u001b[0m     \u001b[38;5;28;01mexcept\u001b[39;00m \u001b[38;5;167;01mBaseException\u001b[39;00m:  \u001b[38;5;66;03m# noqa: B902\u001b[39;00m\n\u001b[1;32m    384\u001b[0m         retry_state\u001b[38;5;241m.\u001b[39mset_exception(sys\u001b[38;5;241m.\u001b[39mexc_info())  \u001b[38;5;66;03m# type: ignore[arg-type]\u001b[39;00m\n",
      "File \u001b[0;32m~/anaconda3/envs/evaporate/lib/python3.8/site-packages/manifest/clients/client.py:402\u001b[0m, in \u001b[0;36mClient._run_completion\u001b[0;34m(self, request_params, retry_timeout)\u001b[0m\n\u001b[1;32m    400\u001b[0m request_params \u001b[38;5;241m=\u001b[39m \u001b[38;5;28mself\u001b[39m\u001b[38;5;241m.\u001b[39mpreprocess_request_params(request_params)\n\u001b[1;32m    401\u001b[0m post_str \u001b[38;5;241m=\u001b[39m \u001b[38;5;28mself\u001b[39m\u001b[38;5;241m.\u001b[39mget_generation_url()\n\u001b[0;32m--> 402\u001b[0m res \u001b[38;5;241m=\u001b[39m \u001b[43mrequests\u001b[49m\u001b[38;5;241;43m.\u001b[39;49m\u001b[43mpost\u001b[49m\u001b[43m(\u001b[49m\n\u001b[1;32m    403\u001b[0m \u001b[43m    \u001b[49m\u001b[43mpost_str\u001b[49m\u001b[43m,\u001b[49m\n\u001b[1;32m    404\u001b[0m \u001b[43m    \u001b[49m\u001b[43mheaders\u001b[49m\u001b[38;5;241;43m=\u001b[39;49m\u001b[38;5;28;43mself\u001b[39;49m\u001b[38;5;241;43m.\u001b[39;49m\u001b[43mget_generation_header\u001b[49m\u001b[43m(\u001b[49m\u001b[43m)\u001b[49m\u001b[43m,\u001b[49m\n\u001b[1;32m    405\u001b[0m \u001b[43m    \u001b[49m\u001b[43mjson\u001b[49m\u001b[38;5;241;43m=\u001b[39;49m\u001b[43mrequest_params\u001b[49m\u001b[43m,\u001b[49m\n\u001b[1;32m    406\u001b[0m \u001b[43m    \u001b[49m\u001b[43mtimeout\u001b[49m\u001b[38;5;241;43m=\u001b[39;49m\u001b[43mretry_timeout\u001b[49m\u001b[43m,\u001b[49m\n\u001b[1;32m    407\u001b[0m \u001b[43m\u001b[49m\u001b[43m)\u001b[49m\n\u001b[1;32m    408\u001b[0m \u001b[38;5;28;01mtry\u001b[39;00m:\n\u001b[1;32m    409\u001b[0m     res\u001b[38;5;241m.\u001b[39mraise_for_status()\n",
      "File \u001b[0;32m~/anaconda3/envs/evaporate/lib/python3.8/site-packages/requests/api.py:115\u001b[0m, in \u001b[0;36mpost\u001b[0;34m(url, data, json, **kwargs)\u001b[0m\n\u001b[1;32m    103\u001b[0m \u001b[38;5;28;01mdef\u001b[39;00m \u001b[38;5;21mpost\u001b[39m(url, data\u001b[38;5;241m=\u001b[39m\u001b[38;5;28;01mNone\u001b[39;00m, json\u001b[38;5;241m=\u001b[39m\u001b[38;5;28;01mNone\u001b[39;00m, \u001b[38;5;241m*\u001b[39m\u001b[38;5;241m*\u001b[39mkwargs):\n\u001b[1;32m    104\u001b[0m \u001b[38;5;250m    \u001b[39m\u001b[38;5;124mr\u001b[39m\u001b[38;5;124;03m\"\"\"Sends a POST request.\u001b[39;00m\n\u001b[1;32m    105\u001b[0m \n\u001b[1;32m    106\u001b[0m \u001b[38;5;124;03m    :param url: URL for the new :class:`Request` object.\u001b[39;00m\n\u001b[0;32m   (...)\u001b[0m\n\u001b[1;32m    112\u001b[0m \u001b[38;5;124;03m    :rtype: requests.Response\u001b[39;00m\n\u001b[1;32m    113\u001b[0m \u001b[38;5;124;03m    \"\"\"\u001b[39;00m\n\u001b[0;32m--> 115\u001b[0m     \u001b[38;5;28;01mreturn\u001b[39;00m \u001b[43mrequest\u001b[49m\u001b[43m(\u001b[49m\u001b[38;5;124;43m\"\u001b[39;49m\u001b[38;5;124;43mpost\u001b[39;49m\u001b[38;5;124;43m\"\u001b[39;49m\u001b[43m,\u001b[49m\u001b[43m \u001b[49m\u001b[43murl\u001b[49m\u001b[43m,\u001b[49m\u001b[43m \u001b[49m\u001b[43mdata\u001b[49m\u001b[38;5;241;43m=\u001b[39;49m\u001b[43mdata\u001b[49m\u001b[43m,\u001b[49m\u001b[43m \u001b[49m\u001b[43mjson\u001b[49m\u001b[38;5;241;43m=\u001b[39;49m\u001b[43mjson\u001b[49m\u001b[43m,\u001b[49m\u001b[43m \u001b[49m\u001b[38;5;241;43m*\u001b[39;49m\u001b[38;5;241;43m*\u001b[39;49m\u001b[43mkwargs\u001b[49m\u001b[43m)\u001b[49m\n",
      "File \u001b[0;32m~/anaconda3/envs/evaporate/lib/python3.8/site-packages/requests/api.py:59\u001b[0m, in \u001b[0;36mrequest\u001b[0;34m(method, url, **kwargs)\u001b[0m\n\u001b[1;32m     55\u001b[0m \u001b[38;5;66;03m# By using the 'with' statement we are sure the session is closed, thus we\u001b[39;00m\n\u001b[1;32m     56\u001b[0m \u001b[38;5;66;03m# avoid leaving sockets open which can trigger a ResourceWarning in some\u001b[39;00m\n\u001b[1;32m     57\u001b[0m \u001b[38;5;66;03m# cases, and look like a memory leak in others.\u001b[39;00m\n\u001b[1;32m     58\u001b[0m \u001b[38;5;28;01mwith\u001b[39;00m sessions\u001b[38;5;241m.\u001b[39mSession() \u001b[38;5;28;01mas\u001b[39;00m session:\n\u001b[0;32m---> 59\u001b[0m     \u001b[38;5;28;01mreturn\u001b[39;00m \u001b[43msession\u001b[49m\u001b[38;5;241;43m.\u001b[39;49m\u001b[43mrequest\u001b[49m\u001b[43m(\u001b[49m\u001b[43mmethod\u001b[49m\u001b[38;5;241;43m=\u001b[39;49m\u001b[43mmethod\u001b[49m\u001b[43m,\u001b[49m\u001b[43m \u001b[49m\u001b[43murl\u001b[49m\u001b[38;5;241;43m=\u001b[39;49m\u001b[43murl\u001b[49m\u001b[43m,\u001b[49m\u001b[43m \u001b[49m\u001b[38;5;241;43m*\u001b[39;49m\u001b[38;5;241;43m*\u001b[39;49m\u001b[43mkwargs\u001b[49m\u001b[43m)\u001b[49m\n",
      "File \u001b[0;32m~/anaconda3/envs/evaporate/lib/python3.8/site-packages/requests/sessions.py:589\u001b[0m, in \u001b[0;36mSession.request\u001b[0;34m(self, method, url, params, data, headers, cookies, files, auth, timeout, allow_redirects, proxies, hooks, stream, verify, cert, json)\u001b[0m\n\u001b[1;32m    584\u001b[0m send_kwargs \u001b[38;5;241m=\u001b[39m {\n\u001b[1;32m    585\u001b[0m     \u001b[38;5;124m\"\u001b[39m\u001b[38;5;124mtimeout\u001b[39m\u001b[38;5;124m\"\u001b[39m: timeout,\n\u001b[1;32m    586\u001b[0m     \u001b[38;5;124m\"\u001b[39m\u001b[38;5;124mallow_redirects\u001b[39m\u001b[38;5;124m\"\u001b[39m: allow_redirects,\n\u001b[1;32m    587\u001b[0m }\n\u001b[1;32m    588\u001b[0m send_kwargs\u001b[38;5;241m.\u001b[39mupdate(settings)\n\u001b[0;32m--> 589\u001b[0m resp \u001b[38;5;241m=\u001b[39m \u001b[38;5;28;43mself\u001b[39;49m\u001b[38;5;241;43m.\u001b[39;49m\u001b[43msend\u001b[49m\u001b[43m(\u001b[49m\u001b[43mprep\u001b[49m\u001b[43m,\u001b[49m\u001b[43m \u001b[49m\u001b[38;5;241;43m*\u001b[39;49m\u001b[38;5;241;43m*\u001b[39;49m\u001b[43msend_kwargs\u001b[49m\u001b[43m)\u001b[49m\n\u001b[1;32m    591\u001b[0m \u001b[38;5;28;01mreturn\u001b[39;00m resp\n",
      "File \u001b[0;32m~/anaconda3/envs/evaporate/lib/python3.8/site-packages/requests/sessions.py:703\u001b[0m, in \u001b[0;36mSession.send\u001b[0;34m(self, request, **kwargs)\u001b[0m\n\u001b[1;32m    700\u001b[0m start \u001b[38;5;241m=\u001b[39m preferred_clock()\n\u001b[1;32m    702\u001b[0m \u001b[38;5;66;03m# Send the request\u001b[39;00m\n\u001b[0;32m--> 703\u001b[0m r \u001b[38;5;241m=\u001b[39m \u001b[43madapter\u001b[49m\u001b[38;5;241;43m.\u001b[39;49m\u001b[43msend\u001b[49m\u001b[43m(\u001b[49m\u001b[43mrequest\u001b[49m\u001b[43m,\u001b[49m\u001b[43m \u001b[49m\u001b[38;5;241;43m*\u001b[39;49m\u001b[38;5;241;43m*\u001b[39;49m\u001b[43mkwargs\u001b[49m\u001b[43m)\u001b[49m\n\u001b[1;32m    705\u001b[0m \u001b[38;5;66;03m# Total elapsed time of the request (approximately)\u001b[39;00m\n\u001b[1;32m    706\u001b[0m elapsed \u001b[38;5;241m=\u001b[39m preferred_clock() \u001b[38;5;241m-\u001b[39m start\n",
      "File \u001b[0;32m~/anaconda3/envs/evaporate/lib/python3.8/site-packages/requests/adapters.py:486\u001b[0m, in \u001b[0;36mHTTPAdapter.send\u001b[0;34m(self, request, stream, timeout, verify, cert, proxies)\u001b[0m\n\u001b[1;32m    483\u001b[0m     timeout \u001b[38;5;241m=\u001b[39m TimeoutSauce(connect\u001b[38;5;241m=\u001b[39mtimeout, read\u001b[38;5;241m=\u001b[39mtimeout)\n\u001b[1;32m    485\u001b[0m \u001b[38;5;28;01mtry\u001b[39;00m:\n\u001b[0;32m--> 486\u001b[0m     resp \u001b[38;5;241m=\u001b[39m \u001b[43mconn\u001b[49m\u001b[38;5;241;43m.\u001b[39;49m\u001b[43murlopen\u001b[49m\u001b[43m(\u001b[49m\n\u001b[1;32m    487\u001b[0m \u001b[43m        \u001b[49m\u001b[43mmethod\u001b[49m\u001b[38;5;241;43m=\u001b[39;49m\u001b[43mrequest\u001b[49m\u001b[38;5;241;43m.\u001b[39;49m\u001b[43mmethod\u001b[49m\u001b[43m,\u001b[49m\n\u001b[1;32m    488\u001b[0m \u001b[43m        \u001b[49m\u001b[43murl\u001b[49m\u001b[38;5;241;43m=\u001b[39;49m\u001b[43murl\u001b[49m\u001b[43m,\u001b[49m\n\u001b[1;32m    489\u001b[0m \u001b[43m        \u001b[49m\u001b[43mbody\u001b[49m\u001b[38;5;241;43m=\u001b[39;49m\u001b[43mrequest\u001b[49m\u001b[38;5;241;43m.\u001b[39;49m\u001b[43mbody\u001b[49m\u001b[43m,\u001b[49m\n\u001b[1;32m    490\u001b[0m \u001b[43m        \u001b[49m\u001b[43mheaders\u001b[49m\u001b[38;5;241;43m=\u001b[39;49m\u001b[43mrequest\u001b[49m\u001b[38;5;241;43m.\u001b[39;49m\u001b[43mheaders\u001b[49m\u001b[43m,\u001b[49m\n\u001b[1;32m    491\u001b[0m \u001b[43m        \u001b[49m\u001b[43mredirect\u001b[49m\u001b[38;5;241;43m=\u001b[39;49m\u001b[38;5;28;43;01mFalse\u001b[39;49;00m\u001b[43m,\u001b[49m\n\u001b[1;32m    492\u001b[0m \u001b[43m        \u001b[49m\u001b[43massert_same_host\u001b[49m\u001b[38;5;241;43m=\u001b[39;49m\u001b[38;5;28;43;01mFalse\u001b[39;49;00m\u001b[43m,\u001b[49m\n\u001b[1;32m    493\u001b[0m \u001b[43m        \u001b[49m\u001b[43mpreload_content\u001b[49m\u001b[38;5;241;43m=\u001b[39;49m\u001b[38;5;28;43;01mFalse\u001b[39;49;00m\u001b[43m,\u001b[49m\n\u001b[1;32m    494\u001b[0m \u001b[43m        \u001b[49m\u001b[43mdecode_content\u001b[49m\u001b[38;5;241;43m=\u001b[39;49m\u001b[38;5;28;43;01mFalse\u001b[39;49;00m\u001b[43m,\u001b[49m\n\u001b[1;32m    495\u001b[0m \u001b[43m        \u001b[49m\u001b[43mretries\u001b[49m\u001b[38;5;241;43m=\u001b[39;49m\u001b[38;5;28;43mself\u001b[39;49m\u001b[38;5;241;43m.\u001b[39;49m\u001b[43mmax_retries\u001b[49m\u001b[43m,\u001b[49m\n\u001b[1;32m    496\u001b[0m \u001b[43m        \u001b[49m\u001b[43mtimeout\u001b[49m\u001b[38;5;241;43m=\u001b[39;49m\u001b[43mtimeout\u001b[49m\u001b[43m,\u001b[49m\n\u001b[1;32m    497\u001b[0m \u001b[43m        \u001b[49m\u001b[43mchunked\u001b[49m\u001b[38;5;241;43m=\u001b[39;49m\u001b[43mchunked\u001b[49m\u001b[43m,\u001b[49m\n\u001b[1;32m    498\u001b[0m \u001b[43m    \u001b[49m\u001b[43m)\u001b[49m\n\u001b[1;32m    500\u001b[0m \u001b[38;5;28;01mexcept\u001b[39;00m (ProtocolError, \u001b[38;5;167;01mOSError\u001b[39;00m) \u001b[38;5;28;01mas\u001b[39;00m err:\n\u001b[1;32m    501\u001b[0m     \u001b[38;5;28;01mraise\u001b[39;00m \u001b[38;5;167;01mConnectionError\u001b[39;00m(err, request\u001b[38;5;241m=\u001b[39mrequest)\n",
      "File \u001b[0;32m~/anaconda3/envs/evaporate/lib/python3.8/site-packages/urllib3/connectionpool.py:790\u001b[0m, in \u001b[0;36mHTTPConnectionPool.urlopen\u001b[0;34m(self, method, url, body, headers, retries, redirect, assert_same_host, timeout, pool_timeout, release_conn, chunked, body_pos, preload_content, decode_content, **response_kw)\u001b[0m\n\u001b[1;32m    787\u001b[0m response_conn \u001b[38;5;241m=\u001b[39m conn \u001b[38;5;28;01mif\u001b[39;00m \u001b[38;5;129;01mnot\u001b[39;00m release_conn \u001b[38;5;28;01melse\u001b[39;00m \u001b[38;5;28;01mNone\u001b[39;00m\n\u001b[1;32m    789\u001b[0m \u001b[38;5;66;03m# Make the request on the HTTPConnection object\u001b[39;00m\n\u001b[0;32m--> 790\u001b[0m response \u001b[38;5;241m=\u001b[39m \u001b[38;5;28;43mself\u001b[39;49m\u001b[38;5;241;43m.\u001b[39;49m\u001b[43m_make_request\u001b[49m\u001b[43m(\u001b[49m\n\u001b[1;32m    791\u001b[0m \u001b[43m    \u001b[49m\u001b[43mconn\u001b[49m\u001b[43m,\u001b[49m\n\u001b[1;32m    792\u001b[0m \u001b[43m    \u001b[49m\u001b[43mmethod\u001b[49m\u001b[43m,\u001b[49m\n\u001b[1;32m    793\u001b[0m \u001b[43m    \u001b[49m\u001b[43murl\u001b[49m\u001b[43m,\u001b[49m\n\u001b[1;32m    794\u001b[0m \u001b[43m    \u001b[49m\u001b[43mtimeout\u001b[49m\u001b[38;5;241;43m=\u001b[39;49m\u001b[43mtimeout_obj\u001b[49m\u001b[43m,\u001b[49m\n\u001b[1;32m    795\u001b[0m \u001b[43m    \u001b[49m\u001b[43mbody\u001b[49m\u001b[38;5;241;43m=\u001b[39;49m\u001b[43mbody\u001b[49m\u001b[43m,\u001b[49m\n\u001b[1;32m    796\u001b[0m \u001b[43m    \u001b[49m\u001b[43mheaders\u001b[49m\u001b[38;5;241;43m=\u001b[39;49m\u001b[43mheaders\u001b[49m\u001b[43m,\u001b[49m\n\u001b[1;32m    797\u001b[0m \u001b[43m    \u001b[49m\u001b[43mchunked\u001b[49m\u001b[38;5;241;43m=\u001b[39;49m\u001b[43mchunked\u001b[49m\u001b[43m,\u001b[49m\n\u001b[1;32m    798\u001b[0m \u001b[43m    \u001b[49m\u001b[43mretries\u001b[49m\u001b[38;5;241;43m=\u001b[39;49m\u001b[43mretries\u001b[49m\u001b[43m,\u001b[49m\n\u001b[1;32m    799\u001b[0m \u001b[43m    \u001b[49m\u001b[43mresponse_conn\u001b[49m\u001b[38;5;241;43m=\u001b[39;49m\u001b[43mresponse_conn\u001b[49m\u001b[43m,\u001b[49m\n\u001b[1;32m    800\u001b[0m \u001b[43m    \u001b[49m\u001b[43mpreload_content\u001b[49m\u001b[38;5;241;43m=\u001b[39;49m\u001b[43mpreload_content\u001b[49m\u001b[43m,\u001b[49m\n\u001b[1;32m    801\u001b[0m \u001b[43m    \u001b[49m\u001b[43mdecode_content\u001b[49m\u001b[38;5;241;43m=\u001b[39;49m\u001b[43mdecode_content\u001b[49m\u001b[43m,\u001b[49m\n\u001b[1;32m    802\u001b[0m \u001b[43m    \u001b[49m\u001b[38;5;241;43m*\u001b[39;49m\u001b[38;5;241;43m*\u001b[39;49m\u001b[43mresponse_kw\u001b[49m\u001b[43m,\u001b[49m\n\u001b[1;32m    803\u001b[0m \u001b[43m\u001b[49m\u001b[43m)\u001b[49m\n\u001b[1;32m    805\u001b[0m \u001b[38;5;66;03m# Everything went great!\u001b[39;00m\n\u001b[1;32m    806\u001b[0m clean_exit \u001b[38;5;241m=\u001b[39m \u001b[38;5;28;01mTrue\u001b[39;00m\n",
      "File \u001b[0;32m~/anaconda3/envs/evaporate/lib/python3.8/site-packages/urllib3/connectionpool.py:536\u001b[0m, in \u001b[0;36mHTTPConnectionPool._make_request\u001b[0;34m(self, conn, method, url, body, headers, retries, timeout, chunked, response_conn, preload_content, decode_content, enforce_content_length)\u001b[0m\n\u001b[1;32m    534\u001b[0m \u001b[38;5;66;03m# Receive the response from the server\u001b[39;00m\n\u001b[1;32m    535\u001b[0m \u001b[38;5;28;01mtry\u001b[39;00m:\n\u001b[0;32m--> 536\u001b[0m     response \u001b[38;5;241m=\u001b[39m \u001b[43mconn\u001b[49m\u001b[38;5;241;43m.\u001b[39;49m\u001b[43mgetresponse\u001b[49m\u001b[43m(\u001b[49m\u001b[43m)\u001b[49m\n\u001b[1;32m    537\u001b[0m \u001b[38;5;28;01mexcept\u001b[39;00m (BaseSSLError, \u001b[38;5;167;01mOSError\u001b[39;00m) \u001b[38;5;28;01mas\u001b[39;00m e:\n\u001b[1;32m    538\u001b[0m     \u001b[38;5;28mself\u001b[39m\u001b[38;5;241m.\u001b[39m_raise_timeout(err\u001b[38;5;241m=\u001b[39me, url\u001b[38;5;241m=\u001b[39murl, timeout_value\u001b[38;5;241m=\u001b[39mread_timeout)\n",
      "File \u001b[0;32m~/anaconda3/envs/evaporate/lib/python3.8/site-packages/urllib3/connection.py:461\u001b[0m, in \u001b[0;36mHTTPConnection.getresponse\u001b[0;34m(self)\u001b[0m\n\u001b[1;32m    458\u001b[0m \u001b[38;5;28;01mfrom\u001b[39;00m \u001b[38;5;21;01m.\u001b[39;00m\u001b[38;5;21;01mresponse\u001b[39;00m \u001b[38;5;28;01mimport\u001b[39;00m HTTPResponse\n\u001b[1;32m    460\u001b[0m \u001b[38;5;66;03m# Get the response from http.client.HTTPConnection\u001b[39;00m\n\u001b[0;32m--> 461\u001b[0m httplib_response \u001b[38;5;241m=\u001b[39m \u001b[38;5;28;43msuper\u001b[39;49m\u001b[43m(\u001b[49m\u001b[43m)\u001b[49m\u001b[38;5;241;43m.\u001b[39;49m\u001b[43mgetresponse\u001b[49m\u001b[43m(\u001b[49m\u001b[43m)\u001b[49m\n\u001b[1;32m    463\u001b[0m \u001b[38;5;28;01mtry\u001b[39;00m:\n\u001b[1;32m    464\u001b[0m     assert_header_parsing(httplib_response\u001b[38;5;241m.\u001b[39mmsg)\n",
      "File \u001b[0;32m~/anaconda3/envs/evaporate/lib/python3.8/http/client.py:1348\u001b[0m, in \u001b[0;36mHTTPConnection.getresponse\u001b[0;34m(self)\u001b[0m\n\u001b[1;32m   1346\u001b[0m \u001b[38;5;28;01mtry\u001b[39;00m:\n\u001b[1;32m   1347\u001b[0m     \u001b[38;5;28;01mtry\u001b[39;00m:\n\u001b[0;32m-> 1348\u001b[0m         \u001b[43mresponse\u001b[49m\u001b[38;5;241;43m.\u001b[39;49m\u001b[43mbegin\u001b[49m\u001b[43m(\u001b[49m\u001b[43m)\u001b[49m\n\u001b[1;32m   1349\u001b[0m     \u001b[38;5;28;01mexcept\u001b[39;00m \u001b[38;5;167;01mConnectionError\u001b[39;00m:\n\u001b[1;32m   1350\u001b[0m         \u001b[38;5;28mself\u001b[39m\u001b[38;5;241m.\u001b[39mclose()\n",
      "File \u001b[0;32m~/anaconda3/envs/evaporate/lib/python3.8/http/client.py:316\u001b[0m, in \u001b[0;36mHTTPResponse.begin\u001b[0;34m(self)\u001b[0m\n\u001b[1;32m    314\u001b[0m \u001b[38;5;66;03m# read until we get a non-100 response\u001b[39;00m\n\u001b[1;32m    315\u001b[0m \u001b[38;5;28;01mwhile\u001b[39;00m \u001b[38;5;28;01mTrue\u001b[39;00m:\n\u001b[0;32m--> 316\u001b[0m     version, status, reason \u001b[38;5;241m=\u001b[39m \u001b[38;5;28;43mself\u001b[39;49m\u001b[38;5;241;43m.\u001b[39;49m\u001b[43m_read_status\u001b[49m\u001b[43m(\u001b[49m\u001b[43m)\u001b[49m\n\u001b[1;32m    317\u001b[0m     \u001b[38;5;28;01mif\u001b[39;00m status \u001b[38;5;241m!=\u001b[39m CONTINUE:\n\u001b[1;32m    318\u001b[0m         \u001b[38;5;28;01mbreak\u001b[39;00m\n",
      "File \u001b[0;32m~/anaconda3/envs/evaporate/lib/python3.8/http/client.py:277\u001b[0m, in \u001b[0;36mHTTPResponse._read_status\u001b[0;34m(self)\u001b[0m\n\u001b[1;32m    276\u001b[0m \u001b[38;5;28;01mdef\u001b[39;00m \u001b[38;5;21m_read_status\u001b[39m(\u001b[38;5;28mself\u001b[39m):\n\u001b[0;32m--> 277\u001b[0m     line \u001b[38;5;241m=\u001b[39m \u001b[38;5;28mstr\u001b[39m(\u001b[38;5;28;43mself\u001b[39;49m\u001b[38;5;241;43m.\u001b[39;49m\u001b[43mfp\u001b[49m\u001b[38;5;241;43m.\u001b[39;49m\u001b[43mreadline\u001b[49m\u001b[43m(\u001b[49m\u001b[43m_MAXLINE\u001b[49m\u001b[43m \u001b[49m\u001b[38;5;241;43m+\u001b[39;49m\u001b[43m \u001b[49m\u001b[38;5;241;43m1\u001b[39;49m\u001b[43m)\u001b[49m, \u001b[38;5;124m\"\u001b[39m\u001b[38;5;124miso-8859-1\u001b[39m\u001b[38;5;124m\"\u001b[39m)\n\u001b[1;32m    278\u001b[0m     \u001b[38;5;28;01mif\u001b[39;00m \u001b[38;5;28mlen\u001b[39m(line) \u001b[38;5;241m>\u001b[39m _MAXLINE:\n\u001b[1;32m    279\u001b[0m         \u001b[38;5;28;01mraise\u001b[39;00m LineTooLong(\u001b[38;5;124m\"\u001b[39m\u001b[38;5;124mstatus line\u001b[39m\u001b[38;5;124m\"\u001b[39m)\n",
      "File \u001b[0;32m~/anaconda3/envs/evaporate/lib/python3.8/socket.py:669\u001b[0m, in \u001b[0;36mSocketIO.readinto\u001b[0;34m(self, b)\u001b[0m\n\u001b[1;32m    667\u001b[0m \u001b[38;5;28;01mwhile\u001b[39;00m \u001b[38;5;28;01mTrue\u001b[39;00m:\n\u001b[1;32m    668\u001b[0m     \u001b[38;5;28;01mtry\u001b[39;00m:\n\u001b[0;32m--> 669\u001b[0m         \u001b[38;5;28;01mreturn\u001b[39;00m \u001b[38;5;28;43mself\u001b[39;49m\u001b[38;5;241;43m.\u001b[39;49m\u001b[43m_sock\u001b[49m\u001b[38;5;241;43m.\u001b[39;49m\u001b[43mrecv_into\u001b[49m\u001b[43m(\u001b[49m\u001b[43mb\u001b[49m\u001b[43m)\u001b[49m\n\u001b[1;32m    670\u001b[0m     \u001b[38;5;28;01mexcept\u001b[39;00m timeout:\n\u001b[1;32m    671\u001b[0m         \u001b[38;5;28mself\u001b[39m\u001b[38;5;241m.\u001b[39m_timeout_occurred \u001b[38;5;241m=\u001b[39m \u001b[38;5;28;01mTrue\u001b[39;00m\n",
      "File \u001b[0;32m~/anaconda3/envs/evaporate/lib/python3.8/ssl.py:1274\u001b[0m, in \u001b[0;36mSSLSocket.recv_into\u001b[0;34m(self, buffer, nbytes, flags)\u001b[0m\n\u001b[1;32m   1270\u001b[0m     \u001b[38;5;28;01mif\u001b[39;00m flags \u001b[38;5;241m!=\u001b[39m \u001b[38;5;241m0\u001b[39m:\n\u001b[1;32m   1271\u001b[0m         \u001b[38;5;28;01mraise\u001b[39;00m \u001b[38;5;167;01mValueError\u001b[39;00m(\n\u001b[1;32m   1272\u001b[0m           \u001b[38;5;124m\"\u001b[39m\u001b[38;5;124mnon-zero flags not allowed in calls to recv_into() on \u001b[39m\u001b[38;5;132;01m%s\u001b[39;00m\u001b[38;5;124m\"\u001b[39m \u001b[38;5;241m%\u001b[39m\n\u001b[1;32m   1273\u001b[0m           \u001b[38;5;28mself\u001b[39m\u001b[38;5;241m.\u001b[39m\u001b[38;5;18m__class__\u001b[39m)\n\u001b[0;32m-> 1274\u001b[0m     \u001b[38;5;28;01mreturn\u001b[39;00m \u001b[38;5;28;43mself\u001b[39;49m\u001b[38;5;241;43m.\u001b[39;49m\u001b[43mread\u001b[49m\u001b[43m(\u001b[49m\u001b[43mnbytes\u001b[49m\u001b[43m,\u001b[49m\u001b[43m \u001b[49m\u001b[43mbuffer\u001b[49m\u001b[43m)\u001b[49m\n\u001b[1;32m   1275\u001b[0m \u001b[38;5;28;01melse\u001b[39;00m:\n\u001b[1;32m   1276\u001b[0m     \u001b[38;5;28;01mreturn\u001b[39;00m \u001b[38;5;28msuper\u001b[39m()\u001b[38;5;241m.\u001b[39mrecv_into(buffer, nbytes, flags)\n",
      "File \u001b[0;32m~/anaconda3/envs/evaporate/lib/python3.8/ssl.py:1132\u001b[0m, in \u001b[0;36mSSLSocket.read\u001b[0;34m(self, len, buffer)\u001b[0m\n\u001b[1;32m   1130\u001b[0m \u001b[38;5;28;01mtry\u001b[39;00m:\n\u001b[1;32m   1131\u001b[0m     \u001b[38;5;28;01mif\u001b[39;00m buffer \u001b[38;5;129;01mis\u001b[39;00m \u001b[38;5;129;01mnot\u001b[39;00m \u001b[38;5;28;01mNone\u001b[39;00m:\n\u001b[0;32m-> 1132\u001b[0m         \u001b[38;5;28;01mreturn\u001b[39;00m \u001b[38;5;28;43mself\u001b[39;49m\u001b[38;5;241;43m.\u001b[39;49m\u001b[43m_sslobj\u001b[49m\u001b[38;5;241;43m.\u001b[39;49m\u001b[43mread\u001b[49m\u001b[43m(\u001b[49m\u001b[38;5;28;43mlen\u001b[39;49m\u001b[43m,\u001b[49m\u001b[43m \u001b[49m\u001b[43mbuffer\u001b[49m\u001b[43m)\u001b[49m\n\u001b[1;32m   1133\u001b[0m     \u001b[38;5;28;01melse\u001b[39;00m:\n\u001b[1;32m   1134\u001b[0m         \u001b[38;5;28;01mreturn\u001b[39;00m \u001b[38;5;28mself\u001b[39m\u001b[38;5;241m.\u001b[39m_sslobj\u001b[38;5;241m.\u001b[39mread(\u001b[38;5;28mlen\u001b[39m)\n",
      "\u001b[0;31mKeyboardInterrupt\u001b[0m: "
     ]
    }
   ],
   "source": [
    "functions = {}\n",
    "selected_keys = {}\n",
    "for i, attribute in enumerate(attributes):\n",
    "    print(f\"\\n\\nExtracting {attribute} ({i+1} / {len(attributes)})\")\n",
    "    t0 = time.time()\n",
    "    functions[attribute], selected_keys[attribute], total_time, num_toks= get_attribute_function(\n",
    "        profiler_args, data_dict, attribute\n",
    "    )\n",
    "    print(functions[attribute])"
   ]
  },
  {
   "cell_type": "markdown",
   "metadata": {},
   "source": [
    "# Evaluation"
   ]
  },
  {
   "cell_type": "code",
   "execution_count": 9,
   "metadata": {},
   "outputs": [],
   "source": [
    "from evaluate_synthetic import main as evaluate_synthetic_main"
   ]
  },
  {
   "cell_type": "code",
   "execution_count": 20,
   "metadata": {},
   "outputs": [
    {
     "name": "stdout",
     "output_type": "stream",
     "text": [
      "['purpose for submission', 'type of test', 'classification', 'product code', 'panel', 'indications for use', 'predicate device name', 'proposed labeling', 'conclusion', '510k number', 'applicant', 'predicate 510k number', 'proprietary and established names', 'regulation section', 'measurand', 'intended use']\n",
      "Missing file for purpose for submission\n",
      "Missing file for type of test\n",
      "Missing file for classification\n",
      "Missing file for product code\n",
      "Missing file for panel\n",
      "Missing file for indications for use\n",
      "Missing file for predicate device name\n",
      "Missing file for proposed labeling\n",
      "Missing file for conclusion\n",
      "Missing file for 510k number\n",
      "Missing file for applicant\n",
      "Missing file for predicate 510k number\n",
      "Missing file for proprietary and established names\n",
      "Missing file for regulation section\n",
      "Missing file for measurand\n",
      "Missing file for intended use\n",
      "{'extraction': {'f1': 0, 'total_attributes': 0, 'attribute2f1': {}}}\n"
     ]
    }
   ],
   "source": [
    "\n",
    "results = evaluate_synthetic_main(\n",
    "    profiler_args.run_string, \n",
    "    profiler_args, \n",
    "    profiler_args, \n",
    "    profiler_args.data_lake,\n",
    "    gold_attributes=data_dict[\"gold_attributes\"], \n",
    "    stage='extract'\n",
    ")\n",
    "print(results)"
   ]
  },
  {
   "cell_type": "markdown",
   "metadata": {},
   "source": []
  },
  {
   "cell_type": "code",
   "execution_count": null,
   "metadata": {},
   "outputs": [],
   "source": [
    "#training "
   ]
  },
  {
   "cell_type": "code",
   "execution_count": null,
   "metadata": {},
   "outputs": [],
   "source": [
    "#evaluation"
   ]
  }
 ],
 "metadata": {
  "kernelspec": {
   "display_name": "Python 3 (ipykernel)",
   "language": "python",
   "name": "python3"
  },
  "language_info": {
   "codemirror_mode": {
    "name": "ipython",
    "version": 3
   },
   "file_extension": ".py",
   "mimetype": "text/x-python",
   "name": "python",
   "nbconvert_exporter": "python",
   "pygments_lexer": "ipython3",
   "version": "3.8.18"
  }
 },
 "nbformat": 4,
 "nbformat_minor": 4
}
